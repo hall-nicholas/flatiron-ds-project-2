{
 "cells": [
  {
   "cell_type": "code",
   "execution_count": 1,
   "metadata": {},
   "outputs": [],
   "source": [
    "import numpy as np \n",
    "import pandas as pd\n",
    "from matplotlib import pyplot as plt\n",
    "import seaborn as sns\n",
    "from scipy import stats\n",
    "import statsmodels.api as sm\n",
    "from statsmodels.formula.api import ols\n",
    "from sklearn.preprocessing import StandardScaler, OneHotEncoder, OrdinalEncoder\n",
    "from sklearn import metrics\n",
    "from sklearn.dummy import DummyRegressor\n",
    "from sklearn.linear_model import LinearRegression\n",
    "from sklearn.model_selection import train_test_split\n",
    "\n",
    "plt.style.use('seaborn-notebook')\n",
    "\n",
    "%matplotlib inline"
   ]
  },
  {
   "cell_type": "code",
   "execution_count": 2,
   "metadata": {},
   "outputs": [],
   "source": [
    "orig_data = pd.read_csv('../data/kc_house_data.csv', index_col=0).dropna()\n",
    "df = orig_data.copy()"
   ]
  },
  {
   "cell_type": "code",
   "execution_count": 3,
   "metadata": {},
   "outputs": [],
   "source": [
    "   \n",
    "    # Cleaning\n",
    "    highquant_living = df['sqft_living'].quantile(0.99)\n",
    "    highquant_lot = df['sqft_lot'].quantile(0.99)\n",
    "    highquant_basement = df['sqft_basement'].quantile(0.99)\n",
    "    highquant_patio = df['sqft_patio'].quantile(0.99)\n",
    "    highquant_garage = df['sqft_garage'].quantile(0.99)\n",
    "    \n",
    "    df = df[df['sqft_living'] < highquant_living]\n",
    "    df = df[df['sqft_living'] > 100] # Gets rid of abnormally low sqfts\n",
    "    \n",
    "    df = df[df['sqft_lot'] < highquant_lot]\n",
    "    \n",
    "    df = df[df['sqft_basement'] < highquant_basement]\n",
    "    \n",
    "    df = df[df['sqft_patio'] < highquant_patio]\n",
    "    \n",
    "    df = df[df['sqft_garage'] < highquant_garage]\n",
    "    \n",
    "    # Feature engineering\n",
    "    df['age'] = 2021 - df['yr_built']\n",
    "\n",
    "    df['bath_to_bed'] = df['bathrooms'] / df['bedrooms']\n",
    "    df = df.replace([np.inf, -np.inf], df['bath_to_bed'].median()).fillna(df['bath_to_bed'].median()) # Replaces inf/-inf/nan values with median\n",
    "\n",
    "    df['zip'] = df.address.apply(lambda x: x[x.rfind(',') - 5:x.rfind(',')])\n",
    "    \n",
    "    df['condition'] = df['condition'].replace({'Poor': 1, \n",
    "                                               'Fair': 2, \n",
    "                                               'Average': 3, \n",
    "                                               'Good': 4, \n",
    "                                               'Very Good': 5})\n",
    "    df['grade'] = df['grade'].replace({'1 Cabin': 1, \n",
    "                                       '2 Substandard': 2, \n",
    "                                       '3 Poor': 3, \n",
    "                                       '4 Low': 4, \n",
    "                                       '5 Fair': 5,\n",
    "                                       '6 Low Average': 6,\n",
    "                                       '7 Average': 7,\n",
    "                                       '8 Good': 8,\n",
    "                                       '9 Better': 9,\n",
    "                                       '10 Very Good': 10,\n",
    "                                       '11 Excellent': 11,\n",
    "                                       '12 Luxury': 12,\n",
    "                                       '13 Mansion': 13,\n",
    "                                      })\n",
    "    \n"
   ]
  },
  {
   "cell_type": "code",
   "execution_count": 9,
   "metadata": {},
   "outputs": [
    {
     "data": {
      "text/plain": [
       "396"
      ]
     },
     "execution_count": 9,
     "metadata": {},
     "output_type": "execute_result"
    }
   ],
   "source": [
    "df['zip'].nunique()"
   ]
  },
  {
   "cell_type": "code",
   "execution_count": null,
   "metadata": {},
   "outputs": [],
   "source": []
  },
  {
   "cell_type": "code",
   "execution_count": null,
   "metadata": {},
   "outputs": [],
   "source": []
  },
  {
   "cell_type": "code",
   "execution_count": null,
   "metadata": {},
   "outputs": [],
   "source": []
  },
  {
   "cell_type": "code",
   "execution_count": 4,
   "metadata": {},
   "outputs": [
    {
     "ename": "NameError",
     "evalue": "name 'historic' is not defined",
     "output_type": "error",
     "traceback": [
      "\u001b[1;31m---------------------------------------------------------------------------\u001b[0m",
      "\u001b[1;31mNameError\u001b[0m                                 Traceback (most recent call last)",
      "\u001b[1;32m<ipython-input-4-12e92da9e992>\u001b[0m in \u001b[0;36m<module>\u001b[1;34m\u001b[0m\n\u001b[1;32m----> 1\u001b[1;33m \u001b[0mrenovated\u001b[0m \u001b[1;33m=\u001b[0m \u001b[0mhistoric\u001b[0m\u001b[1;33m[\u001b[0m\u001b[1;33m(\u001b[0m\u001b[0mhistoric\u001b[0m\u001b[1;33m[\u001b[0m\u001b[1;34m\"Renovation\"\u001b[0m\u001b[1;33m]\u001b[0m \u001b[1;33m==\u001b[0m \u001b[1;36m1\u001b[0m\u001b[1;33m)\u001b[0m\u001b[1;33m]\u001b[0m\u001b[1;33m\u001b[0m\u001b[1;33m\u001b[0m\u001b[0m\n\u001b[0m\u001b[0;32m      2\u001b[0m \u001b[0mrenovated_mean\u001b[0m \u001b[1;33m=\u001b[0m \u001b[0mrenovated\u001b[0m\u001b[1;33m.\u001b[0m\u001b[0mprice\u001b[0m\u001b[1;33m.\u001b[0m\u001b[0mmean\u001b[0m\u001b[1;33m(\u001b[0m\u001b[1;33m)\u001b[0m\u001b[1;33m\u001b[0m\u001b[1;33m\u001b[0m\u001b[0m\n\u001b[0;32m      3\u001b[0m \u001b[0mno_renovation\u001b[0m \u001b[1;33m=\u001b[0m \u001b[0mhistoric\u001b[0m\u001b[1;33m[\u001b[0m\u001b[1;33m(\u001b[0m\u001b[0mhistoric\u001b[0m\u001b[1;33m[\u001b[0m\u001b[1;34m\"Renovation\"\u001b[0m\u001b[1;33m]\u001b[0m \u001b[1;33m==\u001b[0m \u001b[1;36m0\u001b[0m\u001b[1;33m)\u001b[0m\u001b[1;33m]\u001b[0m\u001b[1;33m\u001b[0m\u001b[1;33m\u001b[0m\u001b[0m\n\u001b[0;32m      4\u001b[0m \u001b[0mno_renovation_mean\u001b[0m \u001b[1;33m=\u001b[0m \u001b[0mno_renovation\u001b[0m\u001b[1;33m.\u001b[0m\u001b[0mprice\u001b[0m\u001b[1;33m.\u001b[0m\u001b[0mmean\u001b[0m\u001b[1;33m(\u001b[0m\u001b[1;33m)\u001b[0m\u001b[1;33m\u001b[0m\u001b[1;33m\u001b[0m\u001b[0m\n\u001b[0;32m      5\u001b[0m \u001b[1;33m\u001b[0m\u001b[0m\n",
      "\u001b[1;31mNameError\u001b[0m: name 'historic' is not defined"
     ]
    }
   ],
   "source": [
    "renovated = historic[(historic[\"Renovation\"] == 1)]\n",
    "renovated_mean = renovated.price.mean()\n",
    "no_renovation = historic[(historic[\"Renovation\"] == 0)]\n",
    "no_renovation_mean = no_renovation.price.mean()\n",
    "\n",
    "label_renovation = [\"Renovated\", \"No Renovation\"]\n",
    "values_renovation = [renovated_mean, no_renovation_mean]\n",
    "\n",
    "fig, ax = plt.subplots( figsize=(12,6))\n",
    "sns.barplot(ax=ax, x=label_renovation, y=values_renovation)"
   ]
  },
  {
   "cell_type": "code",
   "execution_count": null,
   "metadata": {},
   "outputs": [],
   "source": [
    "historic_corr = historic.corr()['price'].map(abs).sort_values(ascending=False)\n",
    "historic_corr"
   ]
  },
  {
   "cell_type": "code",
   "execution_count": null,
   "metadata": {},
   "outputs": [],
   "source": [
    "historic_pred1 = historic[['grade_num']]\n",
    "target = historic['price']\n",
    "historic_with_con = sm.add_constant(historic_pred1)"
   ]
  },
  {
   "cell_type": "code",
   "execution_count": null,
   "metadata": {},
   "outputs": [],
   "source": [
    "model1 = sm.OLS(endog=target, exog=historic_pred1).fit()\n",
    "model1.rsquared\n",
    "#Grade accounts for 68% of variation in price"
   ]
  },
  {
   "cell_type": "code",
   "execution_count": null,
   "metadata": {},
   "outputs": [],
   "source": [
    "model1.summary()"
   ]
  }
 ],
 "metadata": {
  "kernelspec": {
   "display_name": "Python (learn-env)",
   "language": "python",
   "name": "learn-env"
  },
  "language_info": {
   "codemirror_mode": {
    "name": "ipython",
    "version": 3
   },
   "file_extension": ".py",
   "mimetype": "text/x-python",
   "name": "python",
   "nbconvert_exporter": "python",
   "pygments_lexer": "ipython3",
   "version": "3.8.5"
  }
 },
 "nbformat": 4,
 "nbformat_minor": 4
}
