{
 "cells": [
  {
   "cell_type": "code",
   "execution_count": 1,
   "metadata": {},
   "outputs": [],
   "source": [
    "import numpy as np \n",
    "import pandas as pd\n",
    "from matplotlib import pyplot as plt\n",
    "import seaborn as sns\n",
    "from scipy import stats\n",
    "import statsmodels.api as sm\n",
    "from statsmodels.formula.api import ols\n",
    "from sklearn.preprocessing import StandardScaler, OneHotEncoder, OrdinalEncoder\n",
    "from sklearn.dummy import DummyRegressor\n",
    "from sklearn.linear_model import LinearRegression\n",
    "from sklearn.model_selection import train_test_split\n",
    "\n",
    "plt.style.use('seaborn-notebook')\n",
    "\n",
    "%matplotlib inline"
   ]
  },
  {
   "cell_type": "code",
   "execution_count": 2,
   "metadata": {},
   "outputs": [],
   "source": [
    "orig_data = pd.read_csv('../data/kc_house_data.csv', index_col=0)\n",
    "df = orig_data.copy()"
   ]
  },
  {
   "cell_type": "code",
   "execution_count": null,
   "metadata": {},
   "outputs": [],
   "source": []
  },
  {
   "cell_type": "code",
   "execution_count": 3,
   "metadata": {},
   "outputs": [],
   "source": [
    "#remove extra columns\n",
    "df = df.drop(df[['date', 'view', 'sqft_lot', 'sqft_above', 'nuisance','greenbelt','floors','sqft_garage','sqft_patio', 'sqft_basement', 'lat', 'long' ]], axis = 1)\n",
    "# df = df['heat_source'].notna()\n",
    "# df.isnull().sum()"
   ]
  },
  {
   "cell_type": "code",
   "execution_count": 4,
   "metadata": {
    "scrolled": true
   },
   "outputs": [
    {
     "data": {
      "text/html": [
       "<div>\n",
       "<style scoped>\n",
       "    .dataframe tbody tr th:only-of-type {\n",
       "        vertical-align: middle;\n",
       "    }\n",
       "\n",
       "    .dataframe tbody tr th {\n",
       "        vertical-align: top;\n",
       "    }\n",
       "\n",
       "    .dataframe thead th {\n",
       "        text-align: right;\n",
       "    }\n",
       "</style>\n",
       "<table border=\"1\" class=\"dataframe\">\n",
       "  <thead>\n",
       "    <tr style=\"text-align: right;\">\n",
       "      <th></th>\n",
       "      <th>price</th>\n",
       "      <th>bedrooms</th>\n",
       "      <th>bathrooms</th>\n",
       "      <th>sqft_living</th>\n",
       "      <th>waterfront</th>\n",
       "      <th>condition</th>\n",
       "      <th>grade</th>\n",
       "      <th>heat_source</th>\n",
       "      <th>sewer_system</th>\n",
       "      <th>yr_built</th>\n",
       "      <th>yr_renovated</th>\n",
       "      <th>address</th>\n",
       "      <th>Age</th>\n",
       "      <th>grade_num</th>\n",
       "      <th>heat_num</th>\n",
       "      <th>condition_num</th>\n",
       "    </tr>\n",
       "    <tr>\n",
       "      <th>id</th>\n",
       "      <th></th>\n",
       "      <th></th>\n",
       "      <th></th>\n",
       "      <th></th>\n",
       "      <th></th>\n",
       "      <th></th>\n",
       "      <th></th>\n",
       "      <th></th>\n",
       "      <th></th>\n",
       "      <th></th>\n",
       "      <th></th>\n",
       "      <th></th>\n",
       "      <th></th>\n",
       "      <th></th>\n",
       "      <th></th>\n",
       "      <th></th>\n",
       "    </tr>\n",
       "  </thead>\n",
       "  <tbody>\n",
       "    <tr>\n",
       "      <th>7399300360</th>\n",
       "      <td>675000.0</td>\n",
       "      <td>4</td>\n",
       "      <td>1.0</td>\n",
       "      <td>1180</td>\n",
       "      <td>NO</td>\n",
       "      <td>Good</td>\n",
       "      <td>7 Average</td>\n",
       "      <td>Gas</td>\n",
       "      <td>PUBLIC</td>\n",
       "      <td>1969</td>\n",
       "      <td>0</td>\n",
       "      <td>2102 Southeast 21st Court, Renton, Washington ...</td>\n",
       "      <td>53</td>\n",
       "      <td>7</td>\n",
       "      <td>1.0</td>\n",
       "      <td>4</td>\n",
       "    </tr>\n",
       "    <tr>\n",
       "      <th>8910500230</th>\n",
       "      <td>920000.0</td>\n",
       "      <td>5</td>\n",
       "      <td>2.5</td>\n",
       "      <td>2770</td>\n",
       "      <td>NO</td>\n",
       "      <td>Average</td>\n",
       "      <td>7 Average</td>\n",
       "      <td>Oil</td>\n",
       "      <td>PUBLIC</td>\n",
       "      <td>1950</td>\n",
       "      <td>0</td>\n",
       "      <td>11231 Greenwood Avenue North, Seattle, Washing...</td>\n",
       "      <td>72</td>\n",
       "      <td>7</td>\n",
       "      <td>3.0</td>\n",
       "      <td>3</td>\n",
       "    </tr>\n",
       "    <tr>\n",
       "      <th>1180000275</th>\n",
       "      <td>311000.0</td>\n",
       "      <td>6</td>\n",
       "      <td>2.0</td>\n",
       "      <td>2880</td>\n",
       "      <td>NO</td>\n",
       "      <td>Average</td>\n",
       "      <td>7 Average</td>\n",
       "      <td>Gas</td>\n",
       "      <td>PUBLIC</td>\n",
       "      <td>1956</td>\n",
       "      <td>0</td>\n",
       "      <td>8504 South 113th Street, Seattle, Washington 9...</td>\n",
       "      <td>66</td>\n",
       "      <td>7</td>\n",
       "      <td>1.0</td>\n",
       "      <td>3</td>\n",
       "    </tr>\n",
       "    <tr>\n",
       "      <th>1604601802</th>\n",
       "      <td>775000.0</td>\n",
       "      <td>3</td>\n",
       "      <td>3.0</td>\n",
       "      <td>2160</td>\n",
       "      <td>NO</td>\n",
       "      <td>Average</td>\n",
       "      <td>9 Better</td>\n",
       "      <td>Gas</td>\n",
       "      <td>PUBLIC</td>\n",
       "      <td>2010</td>\n",
       "      <td>0</td>\n",
       "      <td>4079 Letitia Avenue South, Seattle, Washington...</td>\n",
       "      <td>12</td>\n",
       "      <td>9</td>\n",
       "      <td>1.0</td>\n",
       "      <td>3</td>\n",
       "    </tr>\n",
       "    <tr>\n",
       "      <th>8562780790</th>\n",
       "      <td>592500.0</td>\n",
       "      <td>2</td>\n",
       "      <td>2.0</td>\n",
       "      <td>1120</td>\n",
       "      <td>NO</td>\n",
       "      <td>Average</td>\n",
       "      <td>7 Average</td>\n",
       "      <td>Electricity</td>\n",
       "      <td>PUBLIC</td>\n",
       "      <td>2012</td>\n",
       "      <td>0</td>\n",
       "      <td>2193 Northwest Talus Drive, Issaquah, Washingt...</td>\n",
       "      <td>10</td>\n",
       "      <td>7</td>\n",
       "      <td>2.0</td>\n",
       "      <td>3</td>\n",
       "    </tr>\n",
       "  </tbody>\n",
       "</table>\n",
       "</div>"
      ],
      "text/plain": [
       "               price  bedrooms  bathrooms  sqft_living waterfront condition  \\\n",
       "id                                                                            \n",
       "7399300360  675000.0         4        1.0         1180         NO      Good   \n",
       "8910500230  920000.0         5        2.5         2770         NO   Average   \n",
       "1180000275  311000.0         6        2.0         2880         NO   Average   \n",
       "1604601802  775000.0         3        3.0         2160         NO   Average   \n",
       "8562780790  592500.0         2        2.0         1120         NO   Average   \n",
       "\n",
       "                grade  heat_source sewer_system  yr_built  yr_renovated  \\\n",
       "id                                                                        \n",
       "7399300360  7 Average          Gas       PUBLIC      1969             0   \n",
       "8910500230  7 Average          Oil       PUBLIC      1950             0   \n",
       "1180000275  7 Average          Gas       PUBLIC      1956             0   \n",
       "1604601802   9 Better          Gas       PUBLIC      2010             0   \n",
       "8562780790  7 Average  Electricity       PUBLIC      2012             0   \n",
       "\n",
       "                                                      address  Age  grade_num  \\\n",
       "id                                                                              \n",
       "7399300360  2102 Southeast 21st Court, Renton, Washington ...   53          7   \n",
       "8910500230  11231 Greenwood Avenue North, Seattle, Washing...   72          7   \n",
       "1180000275  8504 South 113th Street, Seattle, Washington 9...   66          7   \n",
       "1604601802  4079 Letitia Avenue South, Seattle, Washington...   12          9   \n",
       "8562780790  2193 Northwest Talus Drive, Issaquah, Washingt...   10          7   \n",
       "\n",
       "            heat_num  condition_num  \n",
       "id                                   \n",
       "7399300360       1.0              4  \n",
       "8910500230       3.0              3  \n",
       "1180000275       1.0              3  \n",
       "1604601802       1.0              3  \n",
       "8562780790       2.0              3  "
      ]
     },
     "execution_count": 4,
     "metadata": {},
     "output_type": "execute_result"
    }
   ],
   "source": [
    "df['Age'] = 2022- df['yr_built'].astype(int)\n",
    "grade_num = []\n",
    "for index, row in df.iterrows():\n",
    "    grade_num.append(int((str(row['grade'])[0:2])))\n",
    "df['grade_num'] = grade_num\n",
    "df.drop('grade', axis = 1)\n",
    "df['heat_num'] = df['heat_source'].replace({'Gas': 1, 'Electricity' : 2, 'Oil': 3, 'Gas/Solar': 4, 'Electricity/Solar':5, 'Oil/Solar':6, 'Other':7 })\n",
    "df['condition_num'] = df['condition'].replace({'Poor': 1, 'Fair' : 2, 'Average': 3, 'Good': 4, 'Very Good':5 })\n",
    "df.drop('condition', axis = 1)\n",
    "df.head()"
   ]
  },
  {
   "cell_type": "code",
   "execution_count": 5,
   "metadata": {
    "scrolled": true
   },
   "outputs": [],
   "source": [
    "#Added column to show whether or not house was renovated, and if so how long ago\n",
    "# df['Renovation(y/n)'] = df['yr_renovated'].apply(lambda x: 1 if x > 0 else 0)\n",
    "# df['Renovation_Age'] = df['yr_renovated'].apply(lambda x: 2022-x if x > 0 else 0)\n",
    "\n"
   ]
  },
  {
   "cell_type": "code",
   "execution_count": 6,
   "metadata": {},
   "outputs": [
    {
     "name": "stdout",
     "output_type": "stream",
     "text": [
      "<class 'pandas.core.frame.DataFrame'>\n",
      "Int64Index: 13498 entries, 7399300360 to 9557800100\n",
      "Data columns (total 16 columns):\n",
      " #   Column         Non-Null Count  Dtype  \n",
      "---  ------         --------------  -----  \n",
      " 0   price          13498 non-null  float64\n",
      " 1   bedrooms       13498 non-null  int64  \n",
      " 2   bathrooms      13498 non-null  float64\n",
      " 3   sqft_living    13498 non-null  int64  \n",
      " 4   waterfront     13498 non-null  object \n",
      " 5   condition      13498 non-null  object \n",
      " 6   grade          13498 non-null  object \n",
      " 7   heat_source    13476 non-null  object \n",
      " 8   sewer_system   13496 non-null  object \n",
      " 9   yr_built       13498 non-null  int64  \n",
      " 10  yr_renovated   13498 non-null  int64  \n",
      " 11  address        13498 non-null  object \n",
      " 12  Age            13498 non-null  int32  \n",
      " 13  grade_num      13498 non-null  int64  \n",
      " 14  heat_num       13476 non-null  float64\n",
      " 15  condition_num  13498 non-null  int64  \n",
      "dtypes: float64(3), int32(1), int64(6), object(6)\n",
      "memory usage: 1.7+ MB\n"
     ]
    }
   ],
   "source": [
    "historic = df[df['yr_built'] < 1972]  \n",
    "historic.info()"
   ]
  },
  {
   "cell_type": "markdown",
   "metadata": {},
   "source": [
    "# BUILDING CONDITION\n",
    "\n",
    "\tRelative to age and grade. Coded 1-5.\n",
    "\n",
    "1 = Poor- Worn out. Repair and overhaul needed on painted surfaces, roofing, plumbing, heating and numerous functional inadequacies. Excessive deferred maintenance and abuse, limited value-in-use, approaching abandonment or major reconstruction; reuse or change in occupancy is imminent. Effective age is near the end of the scale regardless of the actual chronological age.\n",
    "\n",
    "2 = Fair- Badly worn. Much repair needed. Many items need refinishing or overhauling, deferred maintenance obvious, inadequate building utility and systems all shortening the life expectancy and increasing the effective age.\n",
    "\n",
    "3 = Average- Some evidence of deferred maintenance and normal obsolescence with age in that a few minor repairs are needed, along with some refinishing. All major components still functional and contributing toward an extended life expectancy. Effective age and utility is standard for like properties of its class and usage.\n",
    "\n",
    "4 = Good- No obvious maintenance required but neither is everything new. Appearance and utility are above the standard and the overall effective age will be lower than the typical property.\n",
    "\n",
    "5= Very Good- All items well maintained, many having been overhauled and repaired as they have shown signs of wear, increasing the life expectancy and lowering the effective age with little deterioration or obsolescence evident with a high degree of utility.\n",
    "\n",
    "# BUILDING GRADE\n",
    "\n",
    "Represents the construction quality of improvements. Grades run from grade 1 to 13. Generally defined as:\n",
    "\n",
    "1-3 Falls short of minimum building standards. Normally cabin or inferior structure.\n",
    "\n",
    "4 Generally older, low quality construction. Does not meet code.\n",
    "\n",
    "5 Low construction costs and workmanship. Small, simple design.\n",
    "\n",
    "6 Lowest grade currently meeting building code. Low quality materials and simple designs.\n",
    "\n",
    "7 Average grade of construction and design. Commonly seen in plats and older sub-divisions.\n",
    "\n",
    "8 Just above average in construction and design. Usually better materials in both the exterior and interior finish work.\n",
    "\n",
    "9 Better architectural design with extra interior and exterior design and quality.\n",
    "\n",
    "10 Homes of this quality generally have high quality features. Finish work is better and more design quality is seen in the floor plans. Generally have a larger square footage.\n",
    "\n",
    "11 Custom design and higher quality finish work with added amenities of solid woods, bathroom fixtures and more luxurious options.\n",
    "\n",
    "12 Custom design and excellent builders. All materials are of the highest quality and all conveniences are present.\n",
    "\n",
    "13 Generally custom designed and built. Mansion level. Large amount of highest quality cabinet work, wood trim, marble, entry ways etc."
   ]
  },
  {
   "cell_type": "code",
   "execution_count": 7,
   "metadata": {
    "scrolled": true
   },
   "outputs": [
    {
     "data": {
      "text/plain": [
       "price            1.000000\n",
       "bedrooms         0.289204\n",
       "bathrooms        0.480401\n",
       "sqft_living      0.608521\n",
       "yr_built         0.096013\n",
       "yr_renovated     0.084786\n",
       "Age             -0.096013\n",
       "grade_num        0.565263\n",
       "heat_num        -0.117652\n",
       "condition_num   -0.008704\n",
       "Name: price, dtype: float64"
      ]
     },
     "execution_count": 7,
     "metadata": {},
     "output_type": "execute_result"
    }
   ],
   "source": [
    "df.corr()['price']"
   ]
  },
  {
   "cell_type": "code",
   "execution_count": 8,
   "metadata": {},
   "outputs": [],
   "source": [
    "historic_corr = historic.corr()['price'].map(abs).sort_values(ascending=False)"
   ]
  },
  {
   "cell_type": "code",
   "execution_count": 9,
   "metadata": {},
   "outputs": [
    {
     "data": {
      "image/png": "[encoded data removed]",
      "text/plain": [
       "<Figure size 648x432 with 2 Axes>"
      ]
     },
     "metadata": {
      "needs_background": "light"
     },
     "output_type": "display_data"
    }
   ],
   "source": [
    "sns.heatmap(historic.corr(),annot=True)\n",
    "fig=plt.gcf()\n",
    "fig.set_size_inches(9,6)\n",
    "plt.show()"
   ]
  },
  {
   "cell_type": "code",
   "execution_count": 10,
   "metadata": {},
   "outputs": [
    {
     "name": "stdout",
     "output_type": "stream",
     "text": [
      "DummyRegressor()\n",
      "[1108535.837871 1108535.837871 1108535.837871 ... 1108535.837871\n",
      " 1108535.837871 1108535.837871]\n",
      "0.0\n"
     ]
    }
   ],
   "source": [
    "X = df['grade_num']\n",
    "y = df['price']\n",
    "\n",
    "dummy_regr = DummyRegressor(strategy=\"mean\")\n",
    "print(dummy_regr.fit(X, y))\n",
    "\n",
    "print(dummy_regr.predict(X))\n",
    "print(dummy_regr.score(X, y))"
   ]
  },
  {
   "cell_type": "code",
   "execution_count": 12,
   "metadata": {},
   "outputs": [
    {
     "data": {
      "text/plain": [
       "OneHotEncoder()"
      ]
     },
     "execution_count": 12,
     "metadata": {},
     "output_type": "execute_result"
    }
   ],
   "source": [
    "ohe = OneHotEncoder()\n",
    "historic_1 = historic[['price', 'Age', 'grade_num', 'condition_num']]\n",
    "ohe.fit(historic_1)"
   ]
  },
  {
   "cell_type": "code",
   "execution_count": 13,
   "metadata": {},
   "outputs": [
    {
     "data": {
      "text/plain": [
       "<13498x2893 sparse matrix of type '<class 'numpy.float64'>'\n",
       "\twith 53992 stored elements in Compressed Sparse Row format>"
      ]
     },
     "execution_count": 13,
     "metadata": {},
     "output_type": "execute_result"
    }
   ],
   "source": [
    "historic1_encoded = ohe.transform(historic_1)\n",
    "historic1_encoded"
   ]
  },
  {
   "cell_type": "code",
   "execution_count": null,
   "metadata": {},
   "outputs": [],
   "source": []
  }
 ],
 "metadata": {
  "kernelspec": {
   "display_name": "Python (learn-env)",
   "language": "python",
   "name": "learn-env"
  },
  "language_info": {
   "codemirror_mode": {
    "name": "ipython",
    "version": 3
   },
   "file_extension": ".py",
   "mimetype": "text/x-python",
   "name": "python",
   "nbconvert_exporter": "python",
   "pygments_lexer": "ipython3",
   "version": "3.8.5"
  }
 },
 "nbformat": 4,
 "nbformat_minor": 4
}
