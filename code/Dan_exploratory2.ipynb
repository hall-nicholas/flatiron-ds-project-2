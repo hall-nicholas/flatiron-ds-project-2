{
 "cells": [
  {
   "cell_type": "code",
   "execution_count": 47,
   "metadata": {},
   "outputs": [],
   "source": [
    "import numpy as np \n",
    "import pandas as pd\n",
    "from matplotlib import pyplot as plt\n",
    "import seaborn as sns\n",
    "from scipy import stats\n",
    "import statsmodels.api as sm\n",
    "from statsmodels.formula.api import ols\n",
    "from sklearn.preprocessing import StandardScaler, OneHotEncoder, OrdinalEncoder\n",
    "from sklearn import metrics\n",
    "from sklearn.dummy import DummyRegressor\n",
    "from sklearn.linear_model import LinearRegression\n",
    "from sklearn.model_selection import train_test_split\n",
    "\n",
    "plt.style.use('seaborn-notebook')\n",
    "\n",
    "%matplotlib inline\n",
    "ohe = OneHotEncoder(drop=\"first\", sparse=False)"
   ]
  },
  {
   "cell_type": "code",
   "execution_count": 3,
   "metadata": {},
   "outputs": [],
   "source": [
    "orig_data = pd.read_csv('../data/kc_house_data.csv', index_col=0)\n",
    "df = orig_data.copy()"
   ]
  },
  {
   "cell_type": "code",
   "execution_count": 4,
   "metadata": {},
   "outputs": [],
   "source": [
    "#remove extra columns\n",
    "df = df.drop(df[['date', 'view', 'sqft_lot', 'sqft_above', 'nuisance','greenbelt','floors','sqft_garage','sqft_patio', 'sqft_basement', 'lat', 'long' ]], axis = 1)\n",
    "# df = df['heat_source'].notna()\n",
    "# df.isnull().sum()"
   ]
  },
  {
   "cell_type": "code",
   "execution_count": 5,
   "metadata": {
    "scrolled": true
   },
   "outputs": [
    {
     "data": {
      "text/html": [
       "<div>\n",
       "<style scoped>\n",
       "    .dataframe tbody tr th:only-of-type {\n",
       "        vertical-align: middle;\n",
       "    }\n",
       "\n",
       "    .dataframe tbody tr th {\n",
       "        vertical-align: top;\n",
       "    }\n",
       "\n",
       "    .dataframe thead th {\n",
       "        text-align: right;\n",
       "    }\n",
       "</style>\n",
       "<table border=\"1\" class=\"dataframe\">\n",
       "  <thead>\n",
       "    <tr style=\"text-align: right;\">\n",
       "      <th></th>\n",
       "      <th>price</th>\n",
       "      <th>bedrooms</th>\n",
       "      <th>bathrooms</th>\n",
       "      <th>sqft_living</th>\n",
       "      <th>waterfront</th>\n",
       "      <th>condition</th>\n",
       "      <th>grade</th>\n",
       "      <th>heat_source</th>\n",
       "      <th>sewer_system</th>\n",
       "      <th>yr_built</th>\n",
       "      <th>yr_renovated</th>\n",
       "      <th>address</th>\n",
       "      <th>Age</th>\n",
       "      <th>grade_num</th>\n",
       "      <th>heat_num</th>\n",
       "      <th>condition_num</th>\n",
       "    </tr>\n",
       "    <tr>\n",
       "      <th>id</th>\n",
       "      <th></th>\n",
       "      <th></th>\n",
       "      <th></th>\n",
       "      <th></th>\n",
       "      <th></th>\n",
       "      <th></th>\n",
       "      <th></th>\n",
       "      <th></th>\n",
       "      <th></th>\n",
       "      <th></th>\n",
       "      <th></th>\n",
       "      <th></th>\n",
       "      <th></th>\n",
       "      <th></th>\n",
       "      <th></th>\n",
       "      <th></th>\n",
       "    </tr>\n",
       "  </thead>\n",
       "  <tbody>\n",
       "    <tr>\n",
       "      <th>7399300360</th>\n",
       "      <td>675000.0</td>\n",
       "      <td>4</td>\n",
       "      <td>1.0</td>\n",
       "      <td>1180</td>\n",
       "      <td>NO</td>\n",
       "      <td>Good</td>\n",
       "      <td>7 Average</td>\n",
       "      <td>Gas</td>\n",
       "      <td>PUBLIC</td>\n",
       "      <td>1969</td>\n",
       "      <td>0</td>\n",
       "      <td>2102 Southeast 21st Court, Renton, Washington ...</td>\n",
       "      <td>53</td>\n",
       "      <td>7</td>\n",
       "      <td>1.0</td>\n",
       "      <td>4</td>\n",
       "    </tr>\n",
       "    <tr>\n",
       "      <th>8910500230</th>\n",
       "      <td>920000.0</td>\n",
       "      <td>5</td>\n",
       "      <td>2.5</td>\n",
       "      <td>2770</td>\n",
       "      <td>NO</td>\n",
       "      <td>Average</td>\n",
       "      <td>7 Average</td>\n",
       "      <td>Oil</td>\n",
       "      <td>PUBLIC</td>\n",
       "      <td>1950</td>\n",
       "      <td>0</td>\n",
       "      <td>11231 Greenwood Avenue North, Seattle, Washing...</td>\n",
       "      <td>72</td>\n",
       "      <td>7</td>\n",
       "      <td>3.0</td>\n",
       "      <td>3</td>\n",
       "    </tr>\n",
       "    <tr>\n",
       "      <th>1180000275</th>\n",
       "      <td>311000.0</td>\n",
       "      <td>6</td>\n",
       "      <td>2.0</td>\n",
       "      <td>2880</td>\n",
       "      <td>NO</td>\n",
       "      <td>Average</td>\n",
       "      <td>7 Average</td>\n",
       "      <td>Gas</td>\n",
       "      <td>PUBLIC</td>\n",
       "      <td>1956</td>\n",
       "      <td>0</td>\n",
       "      <td>8504 South 113th Street, Seattle, Washington 9...</td>\n",
       "      <td>66</td>\n",
       "      <td>7</td>\n",
       "      <td>1.0</td>\n",
       "      <td>3</td>\n",
       "    </tr>\n",
       "    <tr>\n",
       "      <th>1604601802</th>\n",
       "      <td>775000.0</td>\n",
       "      <td>3</td>\n",
       "      <td>3.0</td>\n",
       "      <td>2160</td>\n",
       "      <td>NO</td>\n",
       "      <td>Average</td>\n",
       "      <td>9 Better</td>\n",
       "      <td>Gas</td>\n",
       "      <td>PUBLIC</td>\n",
       "      <td>2010</td>\n",
       "      <td>0</td>\n",
       "      <td>4079 Letitia Avenue South, Seattle, Washington...</td>\n",
       "      <td>12</td>\n",
       "      <td>9</td>\n",
       "      <td>1.0</td>\n",
       "      <td>3</td>\n",
       "    </tr>\n",
       "    <tr>\n",
       "      <th>8562780790</th>\n",
       "      <td>592500.0</td>\n",
       "      <td>2</td>\n",
       "      <td>2.0</td>\n",
       "      <td>1120</td>\n",
       "      <td>NO</td>\n",
       "      <td>Average</td>\n",
       "      <td>7 Average</td>\n",
       "      <td>Electricity</td>\n",
       "      <td>PUBLIC</td>\n",
       "      <td>2012</td>\n",
       "      <td>0</td>\n",
       "      <td>2193 Northwest Talus Drive, Issaquah, Washingt...</td>\n",
       "      <td>10</td>\n",
       "      <td>7</td>\n",
       "      <td>2.0</td>\n",
       "      <td>3</td>\n",
       "    </tr>\n",
       "  </tbody>\n",
       "</table>\n",
       "</div>"
      ],
      "text/plain": [
       "               price  bedrooms  bathrooms  sqft_living waterfront condition  \\\n",
       "id                                                                            \n",
       "7399300360  675000.0         4        1.0         1180         NO      Good   \n",
       "8910500230  920000.0         5        2.5         2770         NO   Average   \n",
       "1180000275  311000.0         6        2.0         2880         NO   Average   \n",
       "1604601802  775000.0         3        3.0         2160         NO   Average   \n",
       "8562780790  592500.0         2        2.0         1120         NO   Average   \n",
       "\n",
       "                grade  heat_source sewer_system  yr_built  yr_renovated  \\\n",
       "id                                                                        \n",
       "7399300360  7 Average          Gas       PUBLIC      1969             0   \n",
       "8910500230  7 Average          Oil       PUBLIC      1950             0   \n",
       "1180000275  7 Average          Gas       PUBLIC      1956             0   \n",
       "1604601802   9 Better          Gas       PUBLIC      2010             0   \n",
       "8562780790  7 Average  Electricity       PUBLIC      2012             0   \n",
       "\n",
       "                                                      address  Age  grade_num  \\\n",
       "id                                                                              \n",
       "7399300360  2102 Southeast 21st Court, Renton, Washington ...   53          7   \n",
       "8910500230  11231 Greenwood Avenue North, Seattle, Washing...   72          7   \n",
       "1180000275  8504 South 113th Street, Seattle, Washington 9...   66          7   \n",
       "1604601802  4079 Letitia Avenue South, Seattle, Washington...   12          9   \n",
       "8562780790  2193 Northwest Talus Drive, Issaquah, Washingt...   10          7   \n",
       "\n",
       "            heat_num  condition_num  \n",
       "id                                   \n",
       "7399300360       1.0              4  \n",
       "8910500230       3.0              3  \n",
       "1180000275       1.0              3  \n",
       "1604601802       1.0              3  \n",
       "8562780790       2.0              3  "
      ]
     },
     "execution_count": 5,
     "metadata": {},
     "output_type": "execute_result"
    }
   ],
   "source": [
    "df['Age'] = 2022- df['yr_built'].astype(int)\n",
    "grade_num = []\n",
    "for index, row in df.iterrows():\n",
    "    grade_num.append(int((str(row['grade'])[0:2])))\n",
    "df['grade_num'] = grade_num\n",
    "df.drop('grade', axis = 1)\n",
    "df['heat_num'] = df['heat_source'].replace({'Gas': 1, 'Electricity' : 2, 'Oil': 3, 'Gas/Solar': 4, 'Electricity/Solar':5, 'Oil/Solar':6, 'Other':7 })\n",
    "df['condition_num'] = df['condition'].replace({'Poor': 1, 'Fair' : 2, 'Average': 3, 'Good': 4, 'Very Good':5 })\n",
    "# df.drop('condition', axis = 1)\n",
    "df.head()"
   ]
  },
  {
   "cell_type": "code",
   "execution_count": 6,
   "metadata": {
    "scrolled": true
   },
   "outputs": [],
   "source": [
    "#Added column to show whether or not house was renovated, and if so how long ago\n",
    "# df['Renovation(y/n)'] = df['yr_renovated'].apply(lambda x: 1 if x > 0 else 0)\n",
    "# df['Renovation_Age'] = df['yr_renovated'].apply(lambda x: 2022-x if x > 0 else 0)\n",
    "\n"
   ]
  },
  {
   "cell_type": "code",
   "execution_count": 7,
   "metadata": {},
   "outputs": [
    {
     "name": "stdout",
     "output_type": "stream",
     "text": [
      "<class 'pandas.core.frame.DataFrame'>\n",
      "Int64Index: 13498 entries, 7399300360 to 9557800100\n",
      "Data columns (total 16 columns):\n",
      " #   Column         Non-Null Count  Dtype  \n",
      "---  ------         --------------  -----  \n",
      " 0   price          13498 non-null  float64\n",
      " 1   bedrooms       13498 non-null  int64  \n",
      " 2   bathrooms      13498 non-null  float64\n",
      " 3   sqft_living    13498 non-null  int64  \n",
      " 4   waterfront     13498 non-null  object \n",
      " 5   condition      13498 non-null  object \n",
      " 6   grade          13498 non-null  object \n",
      " 7   heat_source    13476 non-null  object \n",
      " 8   sewer_system   13496 non-null  object \n",
      " 9   yr_built       13498 non-null  int64  \n",
      " 10  yr_renovated   13498 non-null  int64  \n",
      " 11  address        13498 non-null  object \n",
      " 12  Age            13498 non-null  int32  \n",
      " 13  grade_num      13498 non-null  int64  \n",
      " 14  heat_num       13476 non-null  float64\n",
      " 15  condition_num  13498 non-null  int64  \n",
      "dtypes: float64(3), int32(1), int64(6), object(6)\n",
      "memory usage: 1.7+ MB\n"
     ]
    }
   ],
   "source": [
    "historic = df[df['yr_built'] < 1972]\n",
    "historic.info()"
   ]
  },
  {
   "cell_type": "code",
   "execution_count": 8,
   "metadata": {},
   "outputs": [
    {
     "name": "stderr",
     "output_type": "stream",
     "text": [
      "<ipython-input-8-83aae6da00d6>:1: SettingWithCopyWarning: \n",
      "A value is trying to be set on a copy of a slice from a DataFrame.\n",
      "Try using .loc[row_indexer,col_indexer] = value instead\n",
      "\n",
      "See the caveats in the documentation: https://pandas.pydata.org/pandas-docs/stable/user_guide/indexing.html#returning-a-view-versus-a-copy\n",
      "  historic['Renovation'] = historic['yr_renovated'].apply(lambda x: 1 if x > 0 else 0)\n",
      "<ipython-input-8-83aae6da00d6>:2: SettingWithCopyWarning: \n",
      "A value is trying to be set on a copy of a slice from a DataFrame.\n",
      "Try using .loc[row_indexer,col_indexer] = value instead\n",
      "\n",
      "See the caveats in the documentation: https://pandas.pydata.org/pandas-docs/stable/user_guide/indexing.html#returning-a-view-versus-a-copy\n",
      "  historic['Renovation_Age'] = historic['yr_renovated'].apply(lambda x: 2022-x if x > 0 else 0)\n"
     ]
    }
   ],
   "source": [
    "historic['Renovation'] = historic['yr_renovated'].apply(lambda x: 1 if x > 0 else 0)\n",
    "historic['Renovation_Age'] = historic['yr_renovated'].apply(lambda x: 2022-x if x > 0 else 0)"
   ]
  },
  {
   "cell_type": "markdown",
   "metadata": {},
   "source": [
    "# BUILDING CONDITION\n",
    "\n",
    "\tRelative to age and grade. Coded 1-5.\n",
    "\n",
    "1 = Poor- Worn out. Repair and overhaul needed on painted surfaces, roofing, plumbing, heating and numerous functional inadequacies. Excessive deferred maintenance and abuse, limited value-in-use, approaching abandonment or major reconstruction; reuse or change in occupancy is imminent. Effective age is near the end of the scale regardless of the actual chronological age.\n",
    "\n",
    "2 = Fair- Badly worn. Much repair needed. Many items need refinishing or overhauling, deferred maintenance obvious, inadequate building utility and systems all shortening the life expectancy and increasing the effective age.\n",
    "\n",
    "3 = Average- Some evidence of deferred maintenance and normal obsolescence with age in that a few minor repairs are needed, along with some refinishing. All major components still functional and contributing toward an extended life expectancy. Effective age and utility is standard for like properties of its class and usage.\n",
    "\n",
    "4 = Good- No obvious maintenance required but neither is everything new. Appearance and utility are above the standard and the overall effective age will be lower than the typical property.\n",
    "\n",
    "5= Very Good- All items well maintained, many having been overhauled and repaired as they have shown signs of wear, increasing the life expectancy and lowering the effective age with little deterioration or obsolescence evident with a high degree of utility.\n",
    "\n",
    "# BUILDING GRADE\n",
    "\n",
    "Represents the construction quality of improvements. Grades run from grade 1 to 13. Generally defined as:\n",
    "\n",
    "1-3 Falls short of minimum building standards. Normally cabin or inferior structure.\n",
    "\n",
    "4 Generally older, low quality construction. Does not meet code.\n",
    "\n",
    "5 Low construction costs and workmanship. Small, simple design.\n",
    "\n",
    "6 Lowest grade currently meeting building code. Low quality materials and simple designs.\n",
    "\n",
    "7 Average grade of construction and design. Commonly seen in plats and older sub-divisions.\n",
    "\n",
    "8 Just above average in construction and design. Usually better materials in both the exterior and interior finish work.\n",
    "\n",
    "9 Better architectural design with extra interior and exterior design and quality.\n",
    "\n",
    "10 Homes of this quality generally have high quality features. Finish work is better and more design quality is seen in the floor plans. Generally have a larger square footage.\n",
    "\n",
    "11 Custom design and higher quality finish work with added amenities of solid woods, bathroom fixtures and more luxurious options.\n",
    "\n",
    "12 Custom design and excellent builders. All materials are of the highest quality and all conveniences are present.\n",
    "\n",
    "13 Generally custom designed and built. Mansion level. Large amount of highest quality cabinet work, wood trim, marble, entry ways etc."
   ]
  },
  {
   "cell_type": "code",
   "execution_count": 9,
   "metadata": {
    "scrolled": true
   },
   "outputs": [],
   "source": [
    "# df.corr()['price']\n",
    "# df_test = df[df[['price', 'sqft_living', ]]]\n",
    "# df_test.head()\n"
   ]
  },
  {
   "cell_type": "code",
   "execution_count": 10,
   "metadata": {},
   "outputs": [
    {
     "data": {
      "text/plain": [
       "price             1.000000\n",
       "sqft_living       0.546045\n",
       "grade_num         0.543023\n",
       "bathrooms         0.448653\n",
       "bedrooms          0.246299\n",
       "yr_renovated      0.173996\n",
       "Renovation        0.173569\n",
       "Renovation_Age    0.109299\n",
       "heat_num          0.084620\n",
       "Age               0.075811\n",
       "yr_built          0.075811\n",
       "condition_num     0.067956\n",
       "Name: price, dtype: float64"
      ]
     },
     "execution_count": 10,
     "metadata": {},
     "output_type": "execute_result"
    }
   ],
   "source": [
    "historic_corr = historic.corr()['price'].map(abs).sort_values(ascending=False)\n",
    "historic_corr"
   ]
  },
  {
   "cell_type": "code",
   "execution_count": 11,
   "metadata": {},
   "outputs": [],
   "source": [
    "historic_pred1 = historic[['grade_num']]\n",
    "target = historic['price']\n",
    "historic_with_con = sm.add_constant(historic_pred1)"
   ]
  },
  {
   "cell_type": "code",
   "execution_count": 12,
   "metadata": {},
   "outputs": [
    {
     "data": {
      "text/plain": [
       "0.6844297712201564"
      ]
     },
     "execution_count": 12,
     "metadata": {},
     "output_type": "execute_result"
    }
   ],
   "source": [
    "model1 = sm.OLS(endog=target, exog=historic_pred1).fit()\n",
    "model1.rsquared\n",
    "#Grade accounts for 68% of variation in price"
   ]
  },
  {
   "cell_type": "code",
   "execution_count": 13,
   "metadata": {},
   "outputs": [
    {
     "data": {
      "text/html": [
       "<table class=\"simpletable\">\n",
       "<caption>OLS Regression Results</caption>\n",
       "<tr>\n",
       "  <th>Dep. Variable:</th>          <td>price</td>      <th>  R-squared (uncentered):</th>       <td>   0.684</td>  \n",
       "</tr>\n",
       "<tr>\n",
       "  <th>Model:</th>                   <td>OLS</td>       <th>  Adj. R-squared (uncentered):</th>  <td>   0.684</td>  \n",
       "</tr>\n",
       "<tr>\n",
       "  <th>Method:</th>             <td>Least Squares</td>  <th>  F-statistic:       </th>           <td>2.927e+04</td> \n",
       "</tr>\n",
       "<tr>\n",
       "  <th>Date:</th>             <td>Wed, 14 Sep 2022</td> <th>  Prob (F-statistic):</th>            <td>  0.00</td>   \n",
       "</tr>\n",
       "<tr>\n",
       "  <th>Time:</th>                 <td>09:37:12</td>     <th>  Log-Likelihood:    </th>          <td>-2.0104e+05</td>\n",
       "</tr>\n",
       "<tr>\n",
       "  <th>No. Observations:</th>      <td> 13498</td>      <th>  AIC:               </th>           <td>4.021e+05</td> \n",
       "</tr>\n",
       "<tr>\n",
       "  <th>Df Residuals:</th>          <td> 13497</td>      <th>  BIC:               </th>           <td>4.021e+05</td> \n",
       "</tr>\n",
       "<tr>\n",
       "  <th>Df Model:</th>              <td>     1</td>      <th>                     </th>               <td> </td>     \n",
       "</tr>\n",
       "<tr>\n",
       "  <th>Covariance Type:</th>      <td>nonrobust</td>    <th>                     </th>               <td> </td>     \n",
       "</tr>\n",
       "</table>\n",
       "<table class=\"simpletable\">\n",
       "<tr>\n",
       "      <td></td>         <th>coef</th>     <th>std err</th>      <th>t</th>      <th>P>|t|</th>  <th>[0.025</th>    <th>0.975]</th>  \n",
       "</tr>\n",
       "<tr>\n",
       "  <th>grade_num</th> <td> 1.475e+05</td> <td>  862.182</td> <td>  171.094</td> <td> 0.000</td> <td> 1.46e+05</td> <td> 1.49e+05</td>\n",
       "</tr>\n",
       "</table>\n",
       "<table class=\"simpletable\">\n",
       "<tr>\n",
       "  <th>Omnibus:</th>       <td>17250.191</td> <th>  Durbin-Watson:     </th>  <td>   1.938</td>  \n",
       "</tr>\n",
       "<tr>\n",
       "  <th>Prob(Omnibus):</th>  <td> 0.000</td>   <th>  Jarque-Bera (JB):  </th> <td>5601571.107</td>\n",
       "</tr>\n",
       "<tr>\n",
       "  <th>Skew:</th>           <td> 6.848</td>   <th>  Prob(JB):          </th>  <td>    0.00</td>  \n",
       "</tr>\n",
       "<tr>\n",
       "  <th>Kurtosis:</th>       <td>101.855</td>  <th>  Cond. No.          </th>  <td>    1.00</td>  \n",
       "</tr>\n",
       "</table><br/><br/>Notes:<br/>[1] R² is computed without centering (uncentered) since the model does not contain a constant.<br/>[2] Standard Errors assume that the covariance matrix of the errors is correctly specified."
      ],
      "text/plain": [
       "<class 'statsmodels.iolib.summary.Summary'>\n",
       "\"\"\"\n",
       "                                 OLS Regression Results                                \n",
       "=======================================================================================\n",
       "Dep. Variable:                  price   R-squared (uncentered):                   0.684\n",
       "Model:                            OLS   Adj. R-squared (uncentered):              0.684\n",
       "Method:                 Least Squares   F-statistic:                          2.927e+04\n",
       "Date:                Wed, 14 Sep 2022   Prob (F-statistic):                        0.00\n",
       "Time:                        09:37:12   Log-Likelihood:                     -2.0104e+05\n",
       "No. Observations:               13498   AIC:                                  4.021e+05\n",
       "Df Residuals:                   13497   BIC:                                  4.021e+05\n",
       "Df Model:                           1                                                  \n",
       "Covariance Type:            nonrobust                                                  \n",
       "==============================================================================\n",
       "                 coef    std err          t      P>|t|      [0.025      0.975]\n",
       "------------------------------------------------------------------------------\n",
       "grade_num   1.475e+05    862.182    171.094      0.000    1.46e+05    1.49e+05\n",
       "==============================================================================\n",
       "Omnibus:                    17250.191   Durbin-Watson:                   1.938\n",
       "Prob(Omnibus):                  0.000   Jarque-Bera (JB):          5601571.107\n",
       "Skew:                           6.848   Prob(JB):                         0.00\n",
       "Kurtosis:                     101.855   Cond. No.                         1.00\n",
       "==============================================================================\n",
       "\n",
       "Notes:\n",
       "[1] R² is computed without centering (uncentered) since the model does not contain a constant.\n",
       "[2] Standard Errors assume that the covariance matrix of the errors is correctly specified.\n",
       "\"\"\""
      ]
     },
     "execution_count": 13,
     "metadata": {},
     "output_type": "execute_result"
    }
   ],
   "source": [
    "model1.summary()"
   ]
  },
  {
   "cell_type": "code",
   "execution_count": 14,
   "metadata": {
    "scrolled": true
   },
   "outputs": [],
   "source": [
    "# y_scld = np.log(target)\n",
    "# y_scld.hist() "
   ]
  },
  {
   "cell_type": "code",
   "execution_count": 15,
   "metadata": {},
   "outputs": [
    {
     "data": {
      "text/plain": [
       "<AxesSubplot:>"
      ]
     },
     "execution_count": 15,
     "metadata": {},
     "output_type": "execute_result"
    },
    {
     "data": {
      "image/png": "[encoded data removed]",
      "text/plain": [
       "<Figure size 432x288 with 1 Axes>"
      ]
     },
     "metadata": {
      "needs_background": "light"
     },
     "output_type": "display_data"
    }
   ],
   "source": [
    "historic['grade_num'].hist()"
   ]
  },
  {
   "cell_type": "code",
   "execution_count": 16,
   "metadata": {},
   "outputs": [
    {
     "data": {
      "text/plain": [
       "<AxesSubplot:>"
      ]
     },
     "execution_count": 16,
     "metadata": {},
     "output_type": "execute_result"
    },
    {
     "data": {
      "image/png": "[encoded data removed]",
      "text/plain": [
       "<Figure size 432x288 with 1 Axes>"
      ]
     },
     "metadata": {
      "needs_background": "light"
     },
     "output_type": "display_data"
    }
   ],
   "source": [
    "historic['condition_num'].hist()"
   ]
  },
  {
   "cell_type": "code",
   "execution_count": null,
   "metadata": {},
   "outputs": [],
   "source": []
  },
  {
   "cell_type": "code",
   "execution_count": 17,
   "metadata": {},
   "outputs": [
    {
     "data": {
      "text/html": [
       "<table class=\"simpletable\">\n",
       "<caption>OLS Regression Results</caption>\n",
       "<tr>\n",
       "  <th>Dep. Variable:</th>          <td>price</td>      <th>  R-squared (uncentered):</th>       <td>   0.739</td>  \n",
       "</tr>\n",
       "<tr>\n",
       "  <th>Model:</th>                   <td>OLS</td>       <th>  Adj. R-squared (uncentered):</th>  <td>   0.739</td>  \n",
       "</tr>\n",
       "<tr>\n",
       "  <th>Method:</th>             <td>Least Squares</td>  <th>  F-statistic:       </th>           <td>1.915e+04</td> \n",
       "</tr>\n",
       "<tr>\n",
       "  <th>Date:</th>             <td>Wed, 14 Sep 2022</td> <th>  Prob (F-statistic):</th>            <td>  0.00</td>   \n",
       "</tr>\n",
       "<tr>\n",
       "  <th>Time:</th>                 <td>09:37:12</td>     <th>  Log-Likelihood:    </th>          <td>-1.9975e+05</td>\n",
       "</tr>\n",
       "<tr>\n",
       "  <th>No. Observations:</th>      <td> 13498</td>      <th>  AIC:               </th>           <td>3.995e+05</td> \n",
       "</tr>\n",
       "<tr>\n",
       "  <th>Df Residuals:</th>          <td> 13496</td>      <th>  BIC:               </th>           <td>3.995e+05</td> \n",
       "</tr>\n",
       "<tr>\n",
       "  <th>Df Model:</th>              <td>     2</td>      <th>                     </th>               <td> </td>     \n",
       "</tr>\n",
       "<tr>\n",
       "  <th>Covariance Type:</th>      <td>nonrobust</td>    <th>                     </th>               <td> </td>     \n",
       "</tr>\n",
       "</table>\n",
       "<table class=\"simpletable\">\n",
       "<tr>\n",
       "       <td></td>          <th>coef</th>     <th>std err</th>      <th>t</th>      <th>P>|t|</th>  <th>[0.025</th>    <th>0.975]</th>  \n",
       "</tr>\n",
       "<tr>\n",
       "  <th>sqft_living</th> <td>  456.2206</td> <td>    8.546</td> <td>   53.382</td> <td> 0.000</td> <td>  439.469</td> <td>  472.973</td>\n",
       "</tr>\n",
       "<tr>\n",
       "  <th>grade_num</th>   <td>  2.91e+04</td> <td> 2352.523</td> <td>   12.370</td> <td> 0.000</td> <td> 2.45e+04</td> <td> 3.37e+04</td>\n",
       "</tr>\n",
       "</table>\n",
       "<table class=\"simpletable\">\n",
       "<tr>\n",
       "  <th>Omnibus:</th>       <td>17580.559</td> <th>  Durbin-Watson:     </th>  <td>   1.933</td>  \n",
       "</tr>\n",
       "<tr>\n",
       "  <th>Prob(Omnibus):</th>  <td> 0.000</td>   <th>  Jarque-Bera (JB):  </th> <td>6969397.944</td>\n",
       "</tr>\n",
       "<tr>\n",
       "  <th>Skew:</th>           <td> 7.022</td>   <th>  Prob(JB):          </th>  <td>    0.00</td>  \n",
       "</tr>\n",
       "<tr>\n",
       "  <th>Kurtosis:</th>       <td>113.429</td>  <th>  Cond. No.          </th>  <td>    827.</td>  \n",
       "</tr>\n",
       "</table><br/><br/>Notes:<br/>[1] R² is computed without centering (uncentered) since the model does not contain a constant.<br/>[2] Standard Errors assume that the covariance matrix of the errors is correctly specified."
      ],
      "text/plain": [
       "<class 'statsmodels.iolib.summary.Summary'>\n",
       "\"\"\"\n",
       "                                 OLS Regression Results                                \n",
       "=======================================================================================\n",
       "Dep. Variable:                  price   R-squared (uncentered):                   0.739\n",
       "Model:                            OLS   Adj. R-squared (uncentered):              0.739\n",
       "Method:                 Least Squares   F-statistic:                          1.915e+04\n",
       "Date:                Wed, 14 Sep 2022   Prob (F-statistic):                        0.00\n",
       "Time:                        09:37:12   Log-Likelihood:                     -1.9975e+05\n",
       "No. Observations:               13498   AIC:                                  3.995e+05\n",
       "Df Residuals:                   13496   BIC:                                  3.995e+05\n",
       "Df Model:                           2                                                  \n",
       "Covariance Type:            nonrobust                                                  \n",
       "===============================================================================\n",
       "                  coef    std err          t      P>|t|      [0.025      0.975]\n",
       "-------------------------------------------------------------------------------\n",
       "sqft_living   456.2206      8.546     53.382      0.000     439.469     472.973\n",
       "grade_num     2.91e+04   2352.523     12.370      0.000    2.45e+04    3.37e+04\n",
       "==============================================================================\n",
       "Omnibus:                    17580.559   Durbin-Watson:                   1.933\n",
       "Prob(Omnibus):                  0.000   Jarque-Bera (JB):          6969397.944\n",
       "Skew:                           7.022   Prob(JB):                         0.00\n",
       "Kurtosis:                     113.429   Cond. No.                         827.\n",
       "==============================================================================\n",
       "\n",
       "Notes:\n",
       "[1] R² is computed without centering (uncentered) since the model does not contain a constant.\n",
       "[2] Standard Errors assume that the covariance matrix of the errors is correctly specified.\n",
       "\"\"\""
      ]
     },
     "execution_count": 17,
     "metadata": {},
     "output_type": "execute_result"
    }
   ],
   "source": [
    "historic_pred2 = historic[['sqft_living', 'grade_num',]]\n",
    "historic_with_con2 = sm.add_constant(historic_pred2)\n",
    "model2 = sm.OLS(endog=target, exog=historic_pred2).fit()\n",
    "model2.rsquared\n",
    "# SQ_ft living and Grade accounts for 68% of variation in price\n",
    "model2.summary()"
   ]
  },
  {
   "cell_type": "code",
   "execution_count": 18,
   "metadata": {},
   "outputs": [
    {
     "data": {
      "text/html": [
       "<table class=\"simpletable\">\n",
       "<caption>OLS Regression Results</caption>\n",
       "<tr>\n",
       "  <th>Dep. Variable:</th>          <td>price</td>      <th>  R-squared (uncentered):</th>       <td>   0.694</td>  \n",
       "</tr>\n",
       "<tr>\n",
       "  <th>Model:</th>                   <td>OLS</td>       <th>  Adj. R-squared (uncentered):</th>  <td>   0.694</td>  \n",
       "</tr>\n",
       "<tr>\n",
       "  <th>Method:</th>             <td>Least Squares</td>  <th>  F-statistic:       </th>           <td>1.021e+04</td> \n",
       "</tr>\n",
       "<tr>\n",
       "  <th>Date:</th>             <td>Wed, 14 Sep 2022</td> <th>  Prob (F-statistic):</th>            <td>  0.00</td>   \n",
       "</tr>\n",
       "<tr>\n",
       "  <th>Time:</th>                 <td>09:37:12</td>     <th>  Log-Likelihood:    </th>          <td>-2.0083e+05</td>\n",
       "</tr>\n",
       "<tr>\n",
       "  <th>No. Observations:</th>      <td> 13498</td>      <th>  AIC:               </th>           <td>4.017e+05</td> \n",
       "</tr>\n",
       "<tr>\n",
       "  <th>Df Residuals:</th>          <td> 13495</td>      <th>  BIC:               </th>           <td>4.017e+05</td> \n",
       "</tr>\n",
       "<tr>\n",
       "  <th>Df Model:</th>              <td>     3</td>      <th>                     </th>               <td> </td>     \n",
       "</tr>\n",
       "<tr>\n",
       "  <th>Covariance Type:</th>      <td>nonrobust</td>    <th>                     </th>               <td> </td>     \n",
       "</tr>\n",
       "</table>\n",
       "<table class=\"simpletable\">\n",
       "<tr>\n",
       "        <td></td>           <th>coef</th>     <th>std err</th>      <th>t</th>      <th>P>|t|</th>  <th>[0.025</th>    <th>0.975]</th>  \n",
       "</tr>\n",
       "<tr>\n",
       "  <th>grade_num</th>     <td> 2.297e+05</td> <td> 4165.524</td> <td>   55.136</td> <td> 0.000</td> <td> 2.22e+05</td> <td> 2.38e+05</td>\n",
       "</tr>\n",
       "<tr>\n",
       "  <th>condition_num</th> <td>-1.207e+05</td> <td> 6895.415</td> <td>  -17.505</td> <td> 0.000</td> <td>-1.34e+05</td> <td>-1.07e+05</td>\n",
       "</tr>\n",
       "<tr>\n",
       "  <th>Age</th>           <td>-1877.0157</td> <td>  272.230</td> <td>   -6.895</td> <td> 0.000</td> <td>-2410.625</td> <td>-1343.406</td>\n",
       "</tr>\n",
       "</table>\n",
       "<table class=\"simpletable\">\n",
       "<tr>\n",
       "  <th>Omnibus:</th>       <td>16927.808</td> <th>  Durbin-Watson:     </th>  <td>   1.935</td>  \n",
       "</tr>\n",
       "<tr>\n",
       "  <th>Prob(Omnibus):</th>  <td> 0.000</td>   <th>  Jarque-Bera (JB):  </th> <td>5336464.931</td>\n",
       "</tr>\n",
       "<tr>\n",
       "  <th>Skew:</th>           <td> 6.609</td>   <th>  Prob(JB):          </th>  <td>    0.00</td>  \n",
       "</tr>\n",
       "<tr>\n",
       "  <th>Kurtosis:</th>       <td>99.508</td>   <th>  Cond. No.          </th>  <td>    100.</td>  \n",
       "</tr>\n",
       "</table><br/><br/>Notes:<br/>[1] R² is computed without centering (uncentered) since the model does not contain a constant.<br/>[2] Standard Errors assume that the covariance matrix of the errors is correctly specified."
      ],
      "text/plain": [
       "<class 'statsmodels.iolib.summary.Summary'>\n",
       "\"\"\"\n",
       "                                 OLS Regression Results                                \n",
       "=======================================================================================\n",
       "Dep. Variable:                  price   R-squared (uncentered):                   0.694\n",
       "Model:                            OLS   Adj. R-squared (uncentered):              0.694\n",
       "Method:                 Least Squares   F-statistic:                          1.021e+04\n",
       "Date:                Wed, 14 Sep 2022   Prob (F-statistic):                        0.00\n",
       "Time:                        09:37:12   Log-Likelihood:                     -2.0083e+05\n",
       "No. Observations:               13498   AIC:                                  4.017e+05\n",
       "Df Residuals:                   13495   BIC:                                  4.017e+05\n",
       "Df Model:                           3                                                  \n",
       "Covariance Type:            nonrobust                                                  \n",
       "=================================================================================\n",
       "                    coef    std err          t      P>|t|      [0.025      0.975]\n",
       "---------------------------------------------------------------------------------\n",
       "grade_num      2.297e+05   4165.524     55.136      0.000    2.22e+05    2.38e+05\n",
       "condition_num -1.207e+05   6895.415    -17.505      0.000   -1.34e+05   -1.07e+05\n",
       "Age           -1877.0157    272.230     -6.895      0.000   -2410.625   -1343.406\n",
       "==============================================================================\n",
       "Omnibus:                    16927.808   Durbin-Watson:                   1.935\n",
       "Prob(Omnibus):                  0.000   Jarque-Bera (JB):          5336464.931\n",
       "Skew:                           6.609   Prob(JB):                         0.00\n",
       "Kurtosis:                      99.508   Cond. No.                         100.\n",
       "==============================================================================\n",
       "\n",
       "Notes:\n",
       "[1] R² is computed without centering (uncentered) since the model does not contain a constant.\n",
       "[2] Standard Errors assume that the covariance matrix of the errors is correctly specified.\n",
       "\"\"\""
      ]
     },
     "execution_count": 18,
     "metadata": {},
     "output_type": "execute_result"
    }
   ],
   "source": [
    "historic_pred3 = historic[['grade_num', 'condition_num', 'Age']]\n",
    "historic_with_con3 = sm.add_constant(historic_pred3)\n",
    "model3 = sm.OLS(endog=target, exog=historic_pred3).fit()\n",
    "model3.rsquared\n",
    "model3.summary()"
   ]
  },
  {
   "cell_type": "code",
   "execution_count": 19,
   "metadata": {},
   "outputs": [
    {
     "data": {
      "text/html": [
       "<div>\n",
       "<style scoped>\n",
       "    .dataframe tbody tr th:only-of-type {\n",
       "        vertical-align: middle;\n",
       "    }\n",
       "\n",
       "    .dataframe tbody tr th {\n",
       "        vertical-align: top;\n",
       "    }\n",
       "\n",
       "    .dataframe thead th {\n",
       "        text-align: right;\n",
       "    }\n",
       "</style>\n",
       "<table border=\"1\" class=\"dataframe\">\n",
       "  <thead>\n",
       "    <tr style=\"text-align: right;\">\n",
       "      <th></th>\n",
       "      <th>grade_num</th>\n",
       "      <th>condition_num</th>\n",
       "      <th>Age</th>\n",
       "    </tr>\n",
       "    <tr>\n",
       "      <th>id</th>\n",
       "      <th></th>\n",
       "      <th></th>\n",
       "      <th></th>\n",
       "    </tr>\n",
       "  </thead>\n",
       "  <tbody>\n",
       "    <tr>\n",
       "      <th>7399300360</th>\n",
       "      <td>-0.045835</td>\n",
       "      <td>0.404192</td>\n",
       "      <td>-1.223950</td>\n",
       "    </tr>\n",
       "    <tr>\n",
       "      <th>8910500230</th>\n",
       "      <td>-0.045835</td>\n",
       "      <td>-0.859014</td>\n",
       "      <td>-0.244257</td>\n",
       "    </tr>\n",
       "    <tr>\n",
       "      <th>1180000275</th>\n",
       "      <td>-0.045835</td>\n",
       "      <td>-0.859014</td>\n",
       "      <td>-0.553634</td>\n",
       "    </tr>\n",
       "    <tr>\n",
       "      <th>2807100156</th>\n",
       "      <td>-0.045835</td>\n",
       "      <td>-0.859014</td>\n",
       "      <td>-0.141131</td>\n",
       "    </tr>\n",
       "    <tr>\n",
       "      <th>5122400111</th>\n",
       "      <td>2.098657</td>\n",
       "      <td>0.404192</td>\n",
       "      <td>-0.295820</td>\n",
       "    </tr>\n",
       "  </tbody>\n",
       "</table>\n",
       "</div>"
      ],
      "text/plain": [
       "            grade_num  condition_num       Age\n",
       "id                                            \n",
       "7399300360  -0.045835       0.404192 -1.223950\n",
       "8910500230  -0.045835      -0.859014 -0.244257\n",
       "1180000275  -0.045835      -0.859014 -0.553634\n",
       "2807100156  -0.045835      -0.859014 -0.141131\n",
       "5122400111   2.098657       0.404192 -0.295820"
      ]
     },
     "execution_count": 19,
     "metadata": {},
     "output_type": "execute_result"
    }
   ],
   "source": [
    "historic_pred3_scld = (historic_pred3 - historic_pred3.mean()) / historic_pred3.std(ddof=0)\n",
    "ss = StandardScaler()\n",
    "ss.fit(historic_pred3)\n",
    "historic_pred3_scld1 = ss.transform(historic_pred3)\n",
    "historic_pred3_scld1\n",
    "np.allclose(historic_pred3_scld1, historic_pred3_scld)\n",
    "historic_pred3_scld.head()"
   ]
  },
  {
   "cell_type": "code",
   "execution_count": 20,
   "metadata": {},
   "outputs": [
    {
     "data": {
      "text/plain": [
       "LinearRegression()"
      ]
     },
     "execution_count": 20,
     "metadata": {},
     "output_type": "execute_result"
    }
   ],
   "source": [
    "lr = LinearRegression()\n",
    "lr.fit(historic_pred3_scld, target)"
   ]
  },
  {
   "cell_type": "code",
   "execution_count": 21,
   "metadata": {},
   "outputs": [
    {
     "data": {
      "text/plain": [
       "array([428967.73700534,  25010.2424647 , 100877.04234739])"
      ]
     },
     "execution_count": 21,
     "metadata": {},
     "output_type": "execute_result"
    }
   ],
   "source": [
    "lr.coef_"
   ]
  },
  {
   "cell_type": "code",
   "execution_count": 22,
   "metadata": {},
   "outputs": [
    {
     "data": {
      "text/plain": [
       "1001332.7615202252"
      ]
     },
     "execution_count": 22,
     "metadata": {},
     "output_type": "execute_result"
    }
   ],
   "source": [
    "lr.intercept_"
   ]
  },
  {
   "cell_type": "code",
   "execution_count": 23,
   "metadata": {},
   "outputs": [
    {
     "data": {
      "text/plain": [
       "0.31228217654502144"
      ]
     },
     "execution_count": 23,
     "metadata": {},
     "output_type": "execute_result"
    }
   ],
   "source": [
    "lr.score(historic_pred3_scld, target)"
   ]
  },
  {
   "cell_type": "code",
   "execution_count": 24,
   "metadata": {},
   "outputs": [
    {
     "data": {
      "text/plain": [
       "array([ 868311.32985235,  935546.81229239,  904337.78726954, ...,\n",
       "        522785.44587508, 1577942.50576293,  857524.24973525])"
      ]
     },
     "execution_count": 24,
     "metadata": {},
     "output_type": "execute_result"
    }
   ],
   "source": [
    "y_hat = lr.predict(historic_pred3_scld)\n",
    "y_hat"
   ]
  },
  {
   "cell_type": "code",
   "execution_count": 25,
   "metadata": {},
   "outputs": [],
   "source": [
    "residual = (target - y_hat)"
   ]
  },
  {
   "cell_type": "code",
   "execution_count": 26,
   "metadata": {},
   "outputs": [
    {
     "data": {
      "image/png": "[encoded data removed]",
      "text/plain": [
       "<Figure size 432x288 with 1 Axes>"
      ]
     },
     "metadata": {
      "needs_background": "light"
     },
     "output_type": "display_data"
    }
   ],
   "source": [
    "fig, ax = plt.subplots()\n",
    "ax.scatter(x=range(y_hat.shape[0]),y=residual, alpha=0.1);"
   ]
  },
  {
   "cell_type": "code",
   "execution_count": 27,
   "metadata": {},
   "outputs": [
    {
     "data": {
      "text/plain": [
       "0.31228217654502144"
      ]
     },
     "execution_count": 27,
     "metadata": {},
     "output_type": "execute_result"
    }
   ],
   "source": [
    "metrics.r2_score(target, lr.predict(historic_pred3_scld))\n",
    "#R squared"
   ]
  },
  {
   "cell_type": "code",
   "execution_count": 28,
   "metadata": {},
   "outputs": [],
   "source": [
    "test_target_mean = np.mean(target)\n",
    "qty = len(target)"
   ]
  },
  {
   "cell_type": "code",
   "execution_count": 29,
   "metadata": {},
   "outputs": [
    {
     "data": {
      "text/plain": [
       "0.0"
      ]
     },
     "execution_count": 29,
     "metadata": {},
     "output_type": "execute_result"
    }
   ],
   "source": [
    "metrics.r2_score(target, test_target_mean * np.ones(qty))"
   ]
  },
  {
   "cell_type": "code",
   "execution_count": 30,
   "metadata": {},
   "outputs": [
    {
     "data": {
      "text/plain": [
       "413975843711.4805"
      ]
     },
     "execution_count": 30,
     "metadata": {},
     "output_type": "execute_result"
    }
   ],
   "source": [
    "metrics.mean_squared_error(target, lr.predict(historic_pred3_scld))"
   ]
  },
  {
   "cell_type": "code",
   "execution_count": 31,
   "metadata": {},
   "outputs": [
    {
     "data": {
      "text/plain": [
       "356879.16124599817"
      ]
     },
     "execution_count": 31,
     "metadata": {},
     "output_type": "execute_result"
    }
   ],
   "source": [
    "metrics.mean_absolute_error(target, lr.predict(historic_pred3_scld))"
   ]
  },
  {
   "cell_type": "code",
   "execution_count": 32,
   "metadata": {},
   "outputs": [
    {
     "data": {
      "text/plain": [
       "<matplotlib.collections.PathCollection at 0x183f9bbbee0>"
      ]
     },
     "execution_count": 32,
     "metadata": {},
     "output_type": "execute_result"
    },
    {
     "data": {
      "image/png": "[encoded data removed]",
      "text/plain": [
       "<Figure size 432x288 with 1 Axes>"
      ]
     },
     "metadata": {
      "needs_background": "light"
     },
     "output_type": "display_data"
    }
   ],
   "source": [
    "fig, ax = plt.subplots()\n",
    "ax.scatter(historic['Age'], target)"
   ]
  },
  {
   "cell_type": "code",
   "execution_count": null,
   "metadata": {},
   "outputs": [],
   "source": []
  },
  {
   "cell_type": "code",
   "execution_count": null,
   "metadata": {},
   "outputs": [],
   "source": []
  },
  {
   "cell_type": "code",
   "execution_count": null,
   "metadata": {},
   "outputs": [],
   "source": []
  },
  {
   "cell_type": "code",
   "execution_count": 33,
   "metadata": {},
   "outputs": [
    {
     "data": {
      "text/plain": [
       "grade_num\n",
       "1     1.352500e+06\n",
       "2     2.050000e+05\n",
       "3     4.644615e+05\n",
       "4     6.434913e+05\n",
       "5     6.168935e+05\n",
       "6     6.565801e+05\n",
       "7     8.759205e+05\n",
       "8     1.345417e+06\n",
       "9     2.165450e+06\n",
       "10    3.026816e+06\n",
       "11    4.785856e+06\n",
       "12    6.757626e+06\n",
       "13    7.569037e+06\n",
       "Name: price, dtype: float64"
      ]
     },
     "execution_count": 33,
     "metadata": {},
     "output_type": "execute_result"
    }
   ],
   "source": [
    "cond_mean = historic.groupby('condition_num')['price'].mean()\n",
    "cond_median = historic.groupby('condition_num')['price'].median()\n",
    "grade_mean = historic.groupby('grade_num')['price'].mean()\n",
    "grade_median =historic.groupby('grade_num')['price'].median()\n",
    "\n",
    "cond_mean\n",
    "cond_median\n",
    "grade_mean\n",
    "# grade_median"
   ]
  },
  {
   "cell_type": "code",
   "execution_count": null,
   "metadata": {},
   "outputs": [],
   "source": []
  },
  {
   "cell_type": "code",
   "execution_count": 34,
   "metadata": {},
   "outputs": [
    {
     "data": {
      "text/plain": [
       "<AxesSubplot:>"
      ]
     },
     "execution_count": 34,
     "metadata": {},
     "output_type": "execute_result"
    },
    {
     "data": {
      "image/png": "[encoded data removed]",
      "text/plain": [
       "<Figure size 864x432 with 1 Axes>"
      ]
     },
     "metadata": {
      "needs_background": "light"
     },
     "output_type": "display_data"
    }
   ],
   "source": [
    "renovated = historic[(historic[\"Renovation\"] == 1)]\n",
    "renovated_mean = renovated.price.mean()\n",
    "no_renovation = historic[(historic[\"Renovation\"] == 0)]\n",
    "no_renovation_mean = no_renovation.price.mean()\n",
    "\n",
    "label_renovation = [\"Renovated\", \"No Renovation\"]\n",
    "values_renovation = [renovated_mean, no_renovation_mean]\n",
    "\n",
    "fig, ax = plt.subplots( figsize=(12,6))\n",
    "sns.barplot(ax=ax, x=label_renovation, y=values_renovation)\n"
   ]
  },
  {
   "cell_type": "code",
   "execution_count": 35,
   "metadata": {},
   "outputs": [
    {
     "data": {
      "text/plain": [
       "Ttest_indResult(statistic=12.749401282812514, pvalue=3.304249081572757e-35)"
      ]
     },
     "execution_count": 35,
     "metadata": {},
     "output_type": "execute_result"
    }
   ],
   "source": [
    "stats.ttest_ind(renovated.price, no_renovation.price, equal_var=False)"
   ]
  },
  {
   "cell_type": "code",
   "execution_count": 36,
   "metadata": {},
   "outputs": [
    {
     "data": {
      "image/png": "[encoded data removed]",
      "text/plain": [
       "<Figure size 648x432 with 2 Axes>"
      ]
     },
     "metadata": {
      "needs_background": "light"
     },
     "output_type": "display_data"
    }
   ],
   "source": [
    "sns.heatmap(historic.corr(),annot=True)\n",
    "fig=plt.gcf()\n",
    "fig.set_size_inches(9,6)\n",
    "plt.show()"
   ]
  },
  {
   "cell_type": "code",
   "execution_count": 37,
   "metadata": {},
   "outputs": [
    {
     "name": "stdout",
     "output_type": "stream",
     "text": [
      "DummyRegressor()\n",
      "[1108535.837871 1108535.837871 1108535.837871 ... 1108535.837871\n",
      " 1108535.837871 1108535.837871]\n",
      "0.0\n"
     ]
    }
   ],
   "source": [
    "X = df['grade_num']\n",
    "y = df['price']\n",
    "\n",
    "dummy_regr = DummyRegressor(strategy=\"mean\")\n",
    "print(dummy_regr.fit(X, y))\n",
    "\n",
    "print(dummy_regr.predict(X))\n",
    "print(dummy_regr.score(X, y))"
   ]
  },
  {
   "cell_type": "code",
   "execution_count": 38,
   "metadata": {},
   "outputs": [
    {
     "data": {
      "text/plain": [
       "OneHotEncoder()"
      ]
     },
     "execution_count": 38,
     "metadata": {},
     "output_type": "execute_result"
    }
   ],
   "source": [
    "ohe = OneHotEncoder()\n",
    "historic_1 = historic[['price', 'Age', 'grade_num', 'condition_num']]\n",
    "ohe.fit(historic_1)"
   ]
  },
  {
   "cell_type": "code",
   "execution_count": 39,
   "metadata": {},
   "outputs": [
    {
     "data": {
      "text/plain": [
       "<13498x2893 sparse matrix of type '<class 'numpy.float64'>'\n",
       "\twith 53992 stored elements in Compressed Sparse Row format>"
      ]
     },
     "execution_count": 39,
     "metadata": {},
     "output_type": "execute_result"
    }
   ],
   "source": [
    "historic1_encoded = ohe.transform(historic_1)\n",
    "historic1_encoded"
   ]
  },
  {
   "cell_type": "code",
   "execution_count": 40,
   "metadata": {},
   "outputs": [],
   "source": [
    "X1 = historic.drop('price', axis=1)\n",
    "y1 = historic['price']\n",
    "X_train, X_test, y_train, y_test = train_test_split(X,y, random_state=3)"
   ]
  },
  {
   "cell_type": "code",
   "execution_count": 41,
   "metadata": {},
   "outputs": [
    {
     "name": "stdout",
     "output_type": "stream",
     "text": [
      "-1.6949133196941801e-06\n"
     ]
    }
   ],
   "source": [
    "dummy = DummyRegressor(strategy = 'mean')\n",
    "dummy.fit(X_train, y_train)\n",
    "dummy.score(X_test, y_test)\n",
    "\n",
    "print(dummy.score(X_test, y_test))\n",
    "\n",
    "#R squared"
   ]
  },
  {
   "cell_type": "code",
   "execution_count": 42,
   "metadata": {},
   "outputs": [
    {
     "name": "stdout",
     "output_type": "stream",
     "text": [
      "900053.5909677658\n"
     ]
    }
   ],
   "source": [
    "error = dummy.predict(X_test)-y_test\n",
    "er2=(error)*(error)\n",
    "er2_mean=er2.mean()\n",
    "er2_mean_er2= np.sqrt(er2_mean)\n",
    "print(er2_mean_er2)"
   ]
  },
  {
   "cell_type": "code",
   "execution_count": 56,
   "metadata": {},
   "outputs": [
    {
     "data": {
      "text/html": [
       "<div>\n",
       "<style scoped>\n",
       "    .dataframe tbody tr th:only-of-type {\n",
       "        vertical-align: middle;\n",
       "    }\n",
       "\n",
       "    .dataframe tbody tr th {\n",
       "        vertical-align: top;\n",
       "    }\n",
       "\n",
       "    .dataframe thead th {\n",
       "        text-align: right;\n",
       "    }\n",
       "</style>\n",
       "<table border=\"1\" class=\"dataframe\">\n",
       "  <thead>\n",
       "    <tr style=\"text-align: right;\">\n",
       "      <th></th>\n",
       "      <th>grade_num</th>\n",
       "      <th>Age</th>\n",
       "      <th>heat_source</th>\n",
       "    </tr>\n",
       "    <tr>\n",
       "      <th>id</th>\n",
       "      <th></th>\n",
       "      <th></th>\n",
       "      <th></th>\n",
       "    </tr>\n",
       "  </thead>\n",
       "  <tbody>\n",
       "    <tr>\n",
       "      <th>7399300360</th>\n",
       "      <td>7</td>\n",
       "      <td>53</td>\n",
       "      <td>Gas</td>\n",
       "    </tr>\n",
       "    <tr>\n",
       "      <th>8910500230</th>\n",
       "      <td>7</td>\n",
       "      <td>72</td>\n",
       "      <td>Oil</td>\n",
       "    </tr>\n",
       "    <tr>\n",
       "      <th>1180000275</th>\n",
       "      <td>7</td>\n",
       "      <td>66</td>\n",
       "      <td>Gas</td>\n",
       "    </tr>\n",
       "    <tr>\n",
       "      <th>1604601802</th>\n",
       "      <td>9</td>\n",
       "      <td>12</td>\n",
       "      <td>Gas</td>\n",
       "    </tr>\n",
       "    <tr>\n",
       "      <th>8562780790</th>\n",
       "      <td>7</td>\n",
       "      <td>10</td>\n",
       "      <td>Electricity</td>\n",
       "    </tr>\n",
       "    <tr>\n",
       "      <th>...</th>\n",
       "      <td>...</td>\n",
       "      <td>...</td>\n",
       "      <td>...</td>\n",
       "    </tr>\n",
       "    <tr>\n",
       "      <th>7834800180</th>\n",
       "      <td>8</td>\n",
       "      <td>101</td>\n",
       "      <td>Oil</td>\n",
       "    </tr>\n",
       "    <tr>\n",
       "      <th>194000695</th>\n",
       "      <td>7</td>\n",
       "      <td>11</td>\n",
       "      <td>Gas</td>\n",
       "    </tr>\n",
       "    <tr>\n",
       "      <th>7960100080</th>\n",
       "      <td>7</td>\n",
       "      <td>27</td>\n",
       "      <td>Gas</td>\n",
       "    </tr>\n",
       "    <tr>\n",
       "      <th>2781280080</th>\n",
       "      <td>8</td>\n",
       "      <td>16</td>\n",
       "      <td>Gas</td>\n",
       "    </tr>\n",
       "    <tr>\n",
       "      <th>9557800100</th>\n",
       "      <td>7</td>\n",
       "      <td>57</td>\n",
       "      <td>Oil</td>\n",
       "    </tr>\n",
       "  </tbody>\n",
       "</table>\n",
       "<p>30155 rows × 3 columns</p>\n",
       "</div>"
      ],
      "text/plain": [
       "            grade_num  Age  heat_source\n",
       "id                                     \n",
       "7399300360          7   53          Gas\n",
       "8910500230          7   72          Oil\n",
       "1180000275          7   66          Gas\n",
       "1604601802          9   12          Gas\n",
       "8562780790          7   10  Electricity\n",
       "...               ...  ...          ...\n",
       "7834800180          8  101          Oil\n",
       "194000695           7   11          Gas\n",
       "7960100080          7   27          Gas\n",
       "2781280080          8   16          Gas\n",
       "9557800100          7   57          Oil\n",
       "\n",
       "[30155 rows x 3 columns]"
      ]
     },
     "execution_count": 56,
     "metadata": {},
     "output_type": "execute_result"
    }
   ],
   "source": [
    "y1 = df['price']\n",
    "x1 = df[['grade_num', 'Age', 'heat_source']]\n",
    "x1"
   ]
  },
  {
   "cell_type": "code",
   "execution_count": 57,
   "metadata": {},
   "outputs": [
    {
     "data": {
      "text/html": [
       "<div>\n",
       "<style scoped>\n",
       "    .dataframe tbody tr th:only-of-type {\n",
       "        vertical-align: middle;\n",
       "    }\n",
       "\n",
       "    .dataframe tbody tr th {\n",
       "        vertical-align: top;\n",
       "    }\n",
       "\n",
       "    .dataframe thead th {\n",
       "        text-align: right;\n",
       "    }\n",
       "</style>\n",
       "<table border=\"1\" class=\"dataframe\">\n",
       "  <thead>\n",
       "    <tr style=\"text-align: right;\">\n",
       "      <th></th>\n",
       "      <th>grade_num</th>\n",
       "      <th>Age</th>\n",
       "      <th>heat_source_Electricity/Solar</th>\n",
       "      <th>heat_source_Gas</th>\n",
       "      <th>heat_source_Gas/Solar</th>\n",
       "      <th>heat_source_Oil</th>\n",
       "      <th>heat_source_Oil/Solar</th>\n",
       "      <th>heat_source_Other</th>\n",
       "    </tr>\n",
       "    <tr>\n",
       "      <th>id</th>\n",
       "      <th></th>\n",
       "      <th></th>\n",
       "      <th></th>\n",
       "      <th></th>\n",
       "      <th></th>\n",
       "      <th></th>\n",
       "      <th></th>\n",
       "      <th></th>\n",
       "    </tr>\n",
       "  </thead>\n",
       "  <tbody>\n",
       "    <tr>\n",
       "      <th>7399300360</th>\n",
       "      <td>7</td>\n",
       "      <td>53</td>\n",
       "      <td>0</td>\n",
       "      <td>1</td>\n",
       "      <td>0</td>\n",
       "      <td>0</td>\n",
       "      <td>0</td>\n",
       "      <td>0</td>\n",
       "    </tr>\n",
       "    <tr>\n",
       "      <th>8910500230</th>\n",
       "      <td>7</td>\n",
       "      <td>72</td>\n",
       "      <td>0</td>\n",
       "      <td>0</td>\n",
       "      <td>0</td>\n",
       "      <td>1</td>\n",
       "      <td>0</td>\n",
       "      <td>0</td>\n",
       "    </tr>\n",
       "    <tr>\n",
       "      <th>1180000275</th>\n",
       "      <td>7</td>\n",
       "      <td>66</td>\n",
       "      <td>0</td>\n",
       "      <td>1</td>\n",
       "      <td>0</td>\n",
       "      <td>0</td>\n",
       "      <td>0</td>\n",
       "      <td>0</td>\n",
       "    </tr>\n",
       "    <tr>\n",
       "      <th>1604601802</th>\n",
       "      <td>9</td>\n",
       "      <td>12</td>\n",
       "      <td>0</td>\n",
       "      <td>1</td>\n",
       "      <td>0</td>\n",
       "      <td>0</td>\n",
       "      <td>0</td>\n",
       "      <td>0</td>\n",
       "    </tr>\n",
       "    <tr>\n",
       "      <th>8562780790</th>\n",
       "      <td>7</td>\n",
       "      <td>10</td>\n",
       "      <td>0</td>\n",
       "      <td>0</td>\n",
       "      <td>0</td>\n",
       "      <td>0</td>\n",
       "      <td>0</td>\n",
       "      <td>0</td>\n",
       "    </tr>\n",
       "    <tr>\n",
       "      <th>...</th>\n",
       "      <td>...</td>\n",
       "      <td>...</td>\n",
       "      <td>...</td>\n",
       "      <td>...</td>\n",
       "      <td>...</td>\n",
       "      <td>...</td>\n",
       "      <td>...</td>\n",
       "      <td>...</td>\n",
       "    </tr>\n",
       "    <tr>\n",
       "      <th>7834800180</th>\n",
       "      <td>8</td>\n",
       "      <td>101</td>\n",
       "      <td>0</td>\n",
       "      <td>0</td>\n",
       "      <td>0</td>\n",
       "      <td>1</td>\n",
       "      <td>0</td>\n",
       "      <td>0</td>\n",
       "    </tr>\n",
       "    <tr>\n",
       "      <th>194000695</th>\n",
       "      <td>7</td>\n",
       "      <td>11</td>\n",
       "      <td>0</td>\n",
       "      <td>1</td>\n",
       "      <td>0</td>\n",
       "      <td>0</td>\n",
       "      <td>0</td>\n",
       "      <td>0</td>\n",
       "    </tr>\n",
       "    <tr>\n",
       "      <th>7960100080</th>\n",
       "      <td>7</td>\n",
       "      <td>27</td>\n",
       "      <td>0</td>\n",
       "      <td>1</td>\n",
       "      <td>0</td>\n",
       "      <td>0</td>\n",
       "      <td>0</td>\n",
       "      <td>0</td>\n",
       "    </tr>\n",
       "    <tr>\n",
       "      <th>2781280080</th>\n",
       "      <td>8</td>\n",
       "      <td>16</td>\n",
       "      <td>0</td>\n",
       "      <td>1</td>\n",
       "      <td>0</td>\n",
       "      <td>0</td>\n",
       "      <td>0</td>\n",
       "      <td>0</td>\n",
       "    </tr>\n",
       "    <tr>\n",
       "      <th>9557800100</th>\n",
       "      <td>7</td>\n",
       "      <td>57</td>\n",
       "      <td>0</td>\n",
       "      <td>0</td>\n",
       "      <td>0</td>\n",
       "      <td>1</td>\n",
       "      <td>0</td>\n",
       "      <td>0</td>\n",
       "    </tr>\n",
       "  </tbody>\n",
       "</table>\n",
       "<p>30155 rows × 8 columns</p>\n",
       "</div>"
      ],
      "text/plain": [
       "            grade_num  Age  heat_source_Electricity/Solar  heat_source_Gas  \\\n",
       "id                                                                           \n",
       "7399300360          7   53                              0                1   \n",
       "8910500230          7   72                              0                0   \n",
       "1180000275          7   66                              0                1   \n",
       "1604601802          9   12                              0                1   \n",
       "8562780790          7   10                              0                0   \n",
       "...               ...  ...                            ...              ...   \n",
       "7834800180          8  101                              0                0   \n",
       "194000695           7   11                              0                1   \n",
       "7960100080          7   27                              0                1   \n",
       "2781280080          8   16                              0                1   \n",
       "9557800100          7   57                              0                0   \n",
       "\n",
       "            heat_source_Gas/Solar  heat_source_Oil  heat_source_Oil/Solar  \\\n",
       "id                                                                          \n",
       "7399300360                      0                0                      0   \n",
       "8910500230                      0                1                      0   \n",
       "1180000275                      0                0                      0   \n",
       "1604601802                      0                0                      0   \n",
       "8562780790                      0                0                      0   \n",
       "...                           ...              ...                    ...   \n",
       "7834800180                      0                1                      0   \n",
       "194000695                       0                0                      0   \n",
       "7960100080                      0                0                      0   \n",
       "2781280080                      0                0                      0   \n",
       "9557800100                      0                1                      0   \n",
       "\n",
       "            heat_source_Other  \n",
       "id                             \n",
       "7399300360                  0  \n",
       "8910500230                  0  \n",
       "1180000275                  0  \n",
       "1604601802                  0  \n",
       "8562780790                  0  \n",
       "...                       ...  \n",
       "7834800180                  0  \n",
       "194000695                   0  \n",
       "7960100080                  0  \n",
       "2781280080                  0  \n",
       "9557800100                  0  \n",
       "\n",
       "[30155 rows x 8 columns]"
      ]
     },
     "execution_count": 57,
     "metadata": {},
     "output_type": "execute_result"
    }
   ],
   "source": [
    "x1 = pd.get_dummies(x1, columns=['heat_source'], drop_first=True)\n",
    "x1"
   ]
  },
  {
   "cell_type": "code",
   "execution_count": 59,
   "metadata": {},
   "outputs": [
    {
     "name": "stdout",
     "output_type": "stream",
     "text": [
      "                            OLS Regression Results                            \n",
      "==============================================================================\n",
      "Dep. Variable:                  price   R-squared:                       0.361\n",
      "Model:                            OLS   Adj. R-squared:                  0.361\n",
      "Method:                 Least Squares   F-statistic:                     2127.\n",
      "Date:                Wed, 14 Sep 2022   Prob (F-statistic):               0.00\n",
      "Time:                        09:52:27   Log-Likelihood:            -4.4935e+05\n",
      "No. Observations:               30155   AIC:                         8.987e+05\n",
      "Df Residuals:                   30146   BIC:                         8.988e+05\n",
      "Df Model:                           8                                         \n",
      "Covariance Type:            nonrobust                                         \n",
      "=================================================================================================\n",
      "                                    coef    std err          t      P>|t|      [0.025      0.975]\n",
      "-------------------------------------------------------------------------------------------------\n",
      "const                         -3.221e+06   3.55e+04    -90.819      0.000   -3.29e+06   -3.15e+06\n",
      "grade_num                      5.252e+05   4194.916    125.194      0.000    5.17e+05    5.33e+05\n",
      "Age                            6540.3323    152.910     42.773      0.000    6240.623    6840.042\n",
      "heat_source_Electricity/Solar -9.081e+04   9.37e+04     -0.969      0.333   -2.75e+05    9.29e+04\n",
      "heat_source_Gas                1.226e+04   1.04e+04      1.175      0.240   -8185.694    3.27e+04\n",
      "heat_source_Gas/Solar           3.38e+05    7.5e+04      4.509      0.000    1.91e+05    4.85e+05\n",
      "heat_source_Oil                -4.54e+04   1.67e+04     -2.724      0.006   -7.81e+04   -1.27e+04\n",
      "heat_source_Oil/Solar          3.121e+04   3.59e+05      0.087      0.931   -6.72e+05    7.34e+05\n",
      "heat_source_Other              2.756e+05   1.61e+05      1.717      0.086    -3.9e+04     5.9e+05\n",
      "==============================================================================\n",
      "Omnibus:                    43212.080   Durbin-Watson:                   1.869\n",
      "Prob(Omnibus):                  0.000   Jarque-Bera (JB):         38571429.185\n",
      "Skew:                           8.185   Prob(JB):                         0.00\n",
      "Kurtosis:                     177.444   Cond. No.                     4.96e+03\n",
      "==============================================================================\n",
      "\n",
      "Notes:\n",
      "[1] Standard Errors assume that the covariance matrix of the errors is correctly specified.\n",
      "[2] The condition number is large, 4.96e+03. This might indicate that there are\n",
      "strong multicollinearity or other numerical problems.\n"
     ]
    }
   ],
   "source": [
    "dummymodel = sm.OLS(y1, sm.add_constant(x1))\n",
    "dum_results = dummymodel.fit()\n",
    "\n",
    "print(dum_results.summary())"
   ]
  },
  {
   "cell_type": "code",
   "execution_count": 44,
   "metadata": {},
   "outputs": [
    {
     "data": {
      "text/plain": [
       "<matplotlib.collections.PathCollection at 0x183fc376c70>"
      ]
     },
     "execution_count": 44,
     "metadata": {},
     "output_type": "execute_result"
    },
    {
     "data": {
      "image/png": "[encoded data removed]",
      "text/plain": [
       "<Figure size 432x288 with 1 Axes>"
      ]
     },
     "metadata": {
      "needs_background": "light"
     },
     "output_type": "display_data"
    }
   ],
   "source": [
    "xx = historic['Age']\n",
    "yy = historic['price']\n",
    "\n",
    "fig, ax = plt.subplots()\n",
    "ax.scatter(xx,yy)\n",
    "\n"
   ]
  },
  {
   "cell_type": "code",
   "execution_count": null,
   "metadata": {},
   "outputs": [],
   "source": []
  }
 ],
 "metadata": {
  "kernelspec": {
   "display_name": "Python (learn-env)",
   "language": "python",
   "name": "learn-env"
  },
  "language_info": {
   "codemirror_mode": {
    "name": "ipython",
    "version": 3
   },
   "file_extension": ".py",
   "mimetype": "text/x-python",
   "name": "python",
   "nbconvert_exporter": "python",
   "pygments_lexer": "ipython3",
   "version": "3.8.5"
  }
 },
 "nbformat": 4,
 "nbformat_minor": 4
}
