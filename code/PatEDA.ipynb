{
 "cells": [
  {
   "cell_type": "markdown",
   "metadata": {},
   "source": [
    "## Resources"
   ]
  },
  {
   "cell_type": "code",
   "execution_count": 128,
   "metadata": {},
   "outputs": [],
   "source": [
    "import matplotlib.pyplot as plt\n",
    "plt.style.use('seaborn')\n",
    "import numpy as np\n",
    "import pandas as pd\n",
    "import scipy.stats as stats\n",
    "import seaborn as sns\n",
    "import statsmodels.api as sm\n",
    "from statsmodels.formula.api import ols\n",
    "from sklearn.preprocessing import StandardScaler, OneHotEncoder, OrdinalEncoder"
   ]
  },
  {
   "cell_type": "code",
   "execution_count": 129,
   "metadata": {},
   "outputs": [
    {
     "data": {
      "text/html": [
       "<div>\n",
       "<style scoped>\n",
       "    .dataframe tbody tr th:only-of-type {\n",
       "        vertical-align: middle;\n",
       "    }\n",
       "\n",
       "    .dataframe tbody tr th {\n",
       "        vertical-align: top;\n",
       "    }\n",
       "\n",
       "    .dataframe thead th {\n",
       "        text-align: right;\n",
       "    }\n",
       "</style>\n",
       "<table border=\"1\" class=\"dataframe\">\n",
       "  <thead>\n",
       "    <tr style=\"text-align: right;\">\n",
       "      <th></th>\n",
       "      <th>id</th>\n",
       "      <th>date</th>\n",
       "      <th>price</th>\n",
       "      <th>bedrooms</th>\n",
       "      <th>bathrooms</th>\n",
       "      <th>sqft_living</th>\n",
       "      <th>sqft_lot</th>\n",
       "      <th>floors</th>\n",
       "      <th>waterfront</th>\n",
       "      <th>greenbelt</th>\n",
       "      <th>...</th>\n",
       "      <th>sqft_above</th>\n",
       "      <th>sqft_basement</th>\n",
       "      <th>sqft_garage</th>\n",
       "      <th>sqft_patio</th>\n",
       "      <th>yr_built</th>\n",
       "      <th>yr_renovated</th>\n",
       "      <th>address</th>\n",
       "      <th>lat</th>\n",
       "      <th>long</th>\n",
       "      <th>age</th>\n",
       "    </tr>\n",
       "  </thead>\n",
       "  <tbody>\n",
       "    <tr>\n",
       "      <th>0</th>\n",
       "      <td>7399300360</td>\n",
       "      <td>5/24/2022</td>\n",
       "      <td>675000.0</td>\n",
       "      <td>4</td>\n",
       "      <td>1.0</td>\n",
       "      <td>1180</td>\n",
       "      <td>7140</td>\n",
       "      <td>1.0</td>\n",
       "      <td>NO</td>\n",
       "      <td>NO</td>\n",
       "      <td>...</td>\n",
       "      <td>1180</td>\n",
       "      <td>0</td>\n",
       "      <td>0</td>\n",
       "      <td>40</td>\n",
       "      <td>1969</td>\n",
       "      <td>0</td>\n",
       "      <td>2102 Southeast 21st Court, Renton, Washington ...</td>\n",
       "      <td>47.461975</td>\n",
       "      <td>-122.19052</td>\n",
       "      <td>52</td>\n",
       "    </tr>\n",
       "    <tr>\n",
       "      <th>1</th>\n",
       "      <td>8910500230</td>\n",
       "      <td>12/13/2021</td>\n",
       "      <td>920000.0</td>\n",
       "      <td>5</td>\n",
       "      <td>2.5</td>\n",
       "      <td>2770</td>\n",
       "      <td>6703</td>\n",
       "      <td>1.0</td>\n",
       "      <td>NO</td>\n",
       "      <td>NO</td>\n",
       "      <td>...</td>\n",
       "      <td>1570</td>\n",
       "      <td>1570</td>\n",
       "      <td>0</td>\n",
       "      <td>240</td>\n",
       "      <td>1950</td>\n",
       "      <td>0</td>\n",
       "      <td>11231 Greenwood Avenue North, Seattle, Washing...</td>\n",
       "      <td>47.711525</td>\n",
       "      <td>-122.35591</td>\n",
       "      <td>71</td>\n",
       "    </tr>\n",
       "    <tr>\n",
       "      <th>2</th>\n",
       "      <td>1180000275</td>\n",
       "      <td>9/29/2021</td>\n",
       "      <td>311000.0</td>\n",
       "      <td>6</td>\n",
       "      <td>2.0</td>\n",
       "      <td>2880</td>\n",
       "      <td>6156</td>\n",
       "      <td>1.0</td>\n",
       "      <td>NO</td>\n",
       "      <td>NO</td>\n",
       "      <td>...</td>\n",
       "      <td>1580</td>\n",
       "      <td>1580</td>\n",
       "      <td>0</td>\n",
       "      <td>0</td>\n",
       "      <td>1956</td>\n",
       "      <td>0</td>\n",
       "      <td>8504 South 113th Street, Seattle, Washington 9...</td>\n",
       "      <td>47.502045</td>\n",
       "      <td>-122.22520</td>\n",
       "      <td>65</td>\n",
       "    </tr>\n",
       "    <tr>\n",
       "      <th>3</th>\n",
       "      <td>1604601802</td>\n",
       "      <td>12/14/2021</td>\n",
       "      <td>775000.0</td>\n",
       "      <td>3</td>\n",
       "      <td>3.0</td>\n",
       "      <td>2160</td>\n",
       "      <td>1400</td>\n",
       "      <td>2.0</td>\n",
       "      <td>NO</td>\n",
       "      <td>NO</td>\n",
       "      <td>...</td>\n",
       "      <td>1090</td>\n",
       "      <td>1070</td>\n",
       "      <td>200</td>\n",
       "      <td>270</td>\n",
       "      <td>2010</td>\n",
       "      <td>0</td>\n",
       "      <td>4079 Letitia Avenue South, Seattle, Washington...</td>\n",
       "      <td>47.566110</td>\n",
       "      <td>-122.29020</td>\n",
       "      <td>11</td>\n",
       "    </tr>\n",
       "    <tr>\n",
       "      <th>4</th>\n",
       "      <td>8562780790</td>\n",
       "      <td>8/24/2021</td>\n",
       "      <td>592500.0</td>\n",
       "      <td>2</td>\n",
       "      <td>2.0</td>\n",
       "      <td>1120</td>\n",
       "      <td>758</td>\n",
       "      <td>2.0</td>\n",
       "      <td>NO</td>\n",
       "      <td>NO</td>\n",
       "      <td>...</td>\n",
       "      <td>1120</td>\n",
       "      <td>550</td>\n",
       "      <td>550</td>\n",
       "      <td>30</td>\n",
       "      <td>2012</td>\n",
       "      <td>0</td>\n",
       "      <td>2193 Northwest Talus Drive, Issaquah, Washingt...</td>\n",
       "      <td>47.532470</td>\n",
       "      <td>-122.07188</td>\n",
       "      <td>9</td>\n",
       "    </tr>\n",
       "  </tbody>\n",
       "</table>\n",
       "<p>5 rows × 26 columns</p>\n",
       "</div>"
      ],
      "text/plain": [
       "           id        date     price  bedrooms  bathrooms  sqft_living  \\\n",
       "0  7399300360   5/24/2022  675000.0         4        1.0         1180   \n",
       "1  8910500230  12/13/2021  920000.0         5        2.5         2770   \n",
       "2  1180000275   9/29/2021  311000.0         6        2.0         2880   \n",
       "3  1604601802  12/14/2021  775000.0         3        3.0         2160   \n",
       "4  8562780790   8/24/2021  592500.0         2        2.0         1120   \n",
       "\n",
       "   sqft_lot  floors waterfront greenbelt  ... sqft_above sqft_basement  \\\n",
       "0      7140     1.0         NO        NO  ...       1180             0   \n",
       "1      6703     1.0         NO        NO  ...       1570          1570   \n",
       "2      6156     1.0         NO        NO  ...       1580          1580   \n",
       "3      1400     2.0         NO        NO  ...       1090          1070   \n",
       "4       758     2.0         NO        NO  ...       1120           550   \n",
       "\n",
       "   sqft_garage  sqft_patio yr_built yr_renovated  \\\n",
       "0            0          40     1969            0   \n",
       "1            0         240     1950            0   \n",
       "2            0           0     1956            0   \n",
       "3          200         270     2010            0   \n",
       "4          550          30     2012            0   \n",
       "\n",
       "                                             address        lat       long  \\\n",
       "0  2102 Southeast 21st Court, Renton, Washington ...  47.461975 -122.19052   \n",
       "1  11231 Greenwood Avenue North, Seattle, Washing...  47.711525 -122.35591   \n",
       "2  8504 South 113th Street, Seattle, Washington 9...  47.502045 -122.22520   \n",
       "3  4079 Letitia Avenue South, Seattle, Washington...  47.566110 -122.29020   \n",
       "4  2193 Northwest Talus Drive, Issaquah, Washingt...  47.532470 -122.07188   \n",
       "\n",
       "   age  \n",
       "0   52  \n",
       "1   71  \n",
       "2   65  \n",
       "3   11  \n",
       "4    9  \n",
       "\n",
       "[5 rows x 26 columns]"
      ]
     },
     "execution_count": 129,
     "metadata": {},
     "output_type": "execute_result"
    }
   ],
   "source": [
    "import functions as fn\n",
    "\n",
    "# See functions.py to see how the data is cleaned\n",
    "\n",
    "df = fn.import_and_clean_data('../data/kc_house_data.csv')\n",
    "df.head()"
   ]
  },
  {
   "cell_type": "markdown",
   "metadata": {},
   "source": [
    "## EDA"
   ]
  },
  {
   "cell_type": "code",
   "execution_count": 130,
   "metadata": {},
   "outputs": [
    {
     "data": {
      "text/plain": [
       "Index(['id', 'date', 'price', 'bedrooms', 'bathrooms', 'sqft_living',\n",
       "       'sqft_lot', 'floors', 'waterfront', 'greenbelt', 'nuisance', 'view',\n",
       "       'condition', 'grade', 'heat_source', 'sewer_system', 'sqft_above',\n",
       "       'sqft_basement', 'sqft_garage', 'sqft_patio', 'yr_built',\n",
       "       'yr_renovated', 'address', 'lat', 'long', 'age'],\n",
       "      dtype='object')"
      ]
     },
     "execution_count": 130,
     "metadata": {},
     "output_type": "execute_result"
    }
   ],
   "source": [
    "df.columns"
   ]
  },
  {
   "cell_type": "code",
   "execution_count": 131,
   "metadata": {},
   "outputs": [
    {
     "name": "stdout",
     "output_type": "stream",
     "text": [
      "<class 'pandas.core.frame.DataFrame'>\n",
      "Int64Index: 28959 entries, 0 to 30154\n",
      "Data columns (total 26 columns):\n",
      " #   Column         Non-Null Count  Dtype  \n",
      "---  ------         --------------  -----  \n",
      " 0   id             28959 non-null  int64  \n",
      " 1   date           28959 non-null  object \n",
      " 2   price          28959 non-null  float64\n",
      " 3   bedrooms       28959 non-null  int64  \n",
      " 4   bathrooms      28959 non-null  float64\n",
      " 5   sqft_living    28959 non-null  int64  \n",
      " 6   sqft_lot       28959 non-null  int64  \n",
      " 7   floors         28959 non-null  float64\n",
      " 8   waterfront     28959 non-null  object \n",
      " 9   greenbelt      28959 non-null  object \n",
      " 10  nuisance       28959 non-null  object \n",
      " 11  view           28959 non-null  object \n",
      " 12  condition      28959 non-null  int64  \n",
      " 13  grade          28959 non-null  int64  \n",
      " 14  heat_source    28959 non-null  object \n",
      " 15  sewer_system   28959 non-null  object \n",
      " 16  sqft_above     28959 non-null  int64  \n",
      " 17  sqft_basement  28959 non-null  int64  \n",
      " 18  sqft_garage    28959 non-null  int64  \n",
      " 19  sqft_patio     28959 non-null  int64  \n",
      " 20  yr_built       28959 non-null  int64  \n",
      " 21  yr_renovated   28959 non-null  int64  \n",
      " 22  address        28959 non-null  object \n",
      " 23  lat            28959 non-null  float64\n",
      " 24  long           28959 non-null  float64\n",
      " 25  age            28959 non-null  int64  \n",
      "dtypes: float64(5), int64(13), object(8)\n",
      "memory usage: 6.0+ MB\n"
     ]
    }
   ],
   "source": [
    "df.info()"
   ]
  },
  {
   "cell_type": "code",
   "execution_count": 132,
   "metadata": {},
   "outputs": [
    {
     "data": {
      "text/html": [
       "<div>\n",
       "<style scoped>\n",
       "    .dataframe tbody tr th:only-of-type {\n",
       "        vertical-align: middle;\n",
       "    }\n",
       "\n",
       "    .dataframe tbody tr th {\n",
       "        vertical-align: top;\n",
       "    }\n",
       "\n",
       "    .dataframe thead th {\n",
       "        text-align: right;\n",
       "    }\n",
       "</style>\n",
       "<table border=\"1\" class=\"dataframe\">\n",
       "  <thead>\n",
       "    <tr style=\"text-align: right;\">\n",
       "      <th></th>\n",
       "      <th>id</th>\n",
       "      <th>price</th>\n",
       "      <th>bedrooms</th>\n",
       "      <th>bathrooms</th>\n",
       "      <th>sqft_living</th>\n",
       "      <th>sqft_lot</th>\n",
       "      <th>floors</th>\n",
       "      <th>condition</th>\n",
       "      <th>grade</th>\n",
       "      <th>sqft_above</th>\n",
       "      <th>sqft_basement</th>\n",
       "      <th>sqft_garage</th>\n",
       "      <th>sqft_patio</th>\n",
       "      <th>yr_built</th>\n",
       "      <th>yr_renovated</th>\n",
       "      <th>lat</th>\n",
       "      <th>long</th>\n",
       "      <th>age</th>\n",
       "    </tr>\n",
       "  </thead>\n",
       "  <tbody>\n",
       "    <tr>\n",
       "      <th>count</th>\n",
       "      <td>2.895900e+04</td>\n",
       "      <td>2.895900e+04</td>\n",
       "      <td>28959.000000</td>\n",
       "      <td>28959.000000</td>\n",
       "      <td>28959.000000</td>\n",
       "      <td>28959.000000</td>\n",
       "      <td>28959.000000</td>\n",
       "      <td>28959.000000</td>\n",
       "      <td>28959.000000</td>\n",
       "      <td>28959.000000</td>\n",
       "      <td>28959.000000</td>\n",
       "      <td>28959.000000</td>\n",
       "      <td>28959.000000</td>\n",
       "      <td>28959.000000</td>\n",
       "      <td>28959.000000</td>\n",
       "      <td>28959.000000</td>\n",
       "      <td>28959.000000</td>\n",
       "      <td>28959.000000</td>\n",
       "    </tr>\n",
       "    <tr>\n",
       "      <th>mean</th>\n",
       "      <td>4.583861e+09</td>\n",
       "      <td>1.051138e+06</td>\n",
       "      <td>3.389344</td>\n",
       "      <td>2.289910</td>\n",
       "      <td>2037.981629</td>\n",
       "      <td>11570.077972</td>\n",
       "      <td>1.540108</td>\n",
       "      <td>3.473739</td>\n",
       "      <td>7.591630</td>\n",
       "      <td>1754.269346</td>\n",
       "      <td>452.054456</td>\n",
       "      <td>315.158431</td>\n",
       "      <td>198.305466</td>\n",
       "      <td>1974.763528</td>\n",
       "      <td>88.322180</td>\n",
       "      <td>47.321251</td>\n",
       "      <td>-121.290675</td>\n",
       "      <td>46.236472</td>\n",
       "    </tr>\n",
       "    <tr>\n",
       "      <th>std</th>\n",
       "      <td>2.882613e+09</td>\n",
       "      <td>7.233138e+05</td>\n",
       "      <td>0.961320</td>\n",
       "      <td>0.828525</td>\n",
       "      <td>841.673375</td>\n",
       "      <td>20406.186603</td>\n",
       "      <td>0.569324</td>\n",
       "      <td>0.702963</td>\n",
       "      <td>1.068168</td>\n",
       "      <td>791.055170</td>\n",
       "      <td>535.663377</td>\n",
       "      <td>261.715858</td>\n",
       "      <td>204.128819</td>\n",
       "      <td>32.200530</td>\n",
       "      <td>410.739076</td>\n",
       "      <td>1.458032</td>\n",
       "      <td>5.823823</td>\n",
       "      <td>32.200530</td>\n",
       "    </tr>\n",
       "    <tr>\n",
       "      <th>min</th>\n",
       "      <td>1.000055e+06</td>\n",
       "      <td>2.736000e+04</td>\n",
       "      <td>0.000000</td>\n",
       "      <td>0.000000</td>\n",
       "      <td>260.000000</td>\n",
       "      <td>402.000000</td>\n",
       "      <td>1.000000</td>\n",
       "      <td>1.000000</td>\n",
       "      <td>2.000000</td>\n",
       "      <td>260.000000</td>\n",
       "      <td>0.000000</td>\n",
       "      <td>0.000000</td>\n",
       "      <td>0.000000</td>\n",
       "      <td>1900.000000</td>\n",
       "      <td>0.000000</td>\n",
       "      <td>21.274240</td>\n",
       "      <td>-157.791480</td>\n",
       "      <td>-1.000000</td>\n",
       "    </tr>\n",
       "    <tr>\n",
       "      <th>25%</th>\n",
       "      <td>2.126049e+09</td>\n",
       "      <td>6.400000e+05</td>\n",
       "      <td>3.000000</td>\n",
       "      <td>2.000000</td>\n",
       "      <td>1400.000000</td>\n",
       "      <td>4766.500000</td>\n",
       "      <td>1.000000</td>\n",
       "      <td>3.000000</td>\n",
       "      <td>7.000000</td>\n",
       "      <td>1170.000000</td>\n",
       "      <td>0.000000</td>\n",
       "      <td>0.000000</td>\n",
       "      <td>40.000000</td>\n",
       "      <td>1952.000000</td>\n",
       "      <td>0.000000</td>\n",
       "      <td>47.404870</td>\n",
       "      <td>-122.327988</td>\n",
       "      <td>18.000000</td>\n",
       "    </tr>\n",
       "    <tr>\n",
       "      <th>50%</th>\n",
       "      <td>3.901000e+09</td>\n",
       "      <td>8.500000e+05</td>\n",
       "      <td>3.000000</td>\n",
       "      <td>2.500000</td>\n",
       "      <td>1890.000000</td>\n",
       "      <td>7318.000000</td>\n",
       "      <td>1.500000</td>\n",
       "      <td>3.000000</td>\n",
       "      <td>7.000000</td>\n",
       "      <td>1530.000000</td>\n",
       "      <td>0.000000</td>\n",
       "      <td>380.000000</td>\n",
       "      <td>140.000000</td>\n",
       "      <td>1977.000000</td>\n",
       "      <td>0.000000</td>\n",
       "      <td>47.551060</td>\n",
       "      <td>-122.231760</td>\n",
       "      <td>44.000000</td>\n",
       "    </tr>\n",
       "    <tr>\n",
       "      <th>75%</th>\n",
       "      <td>7.308000e+09</td>\n",
       "      <td>1.261000e+06</td>\n",
       "      <td>4.000000</td>\n",
       "      <td>2.500000</td>\n",
       "      <td>2540.000000</td>\n",
       "      <td>10092.500000</td>\n",
       "      <td>2.000000</td>\n",
       "      <td>4.000000</td>\n",
       "      <td>8.000000</td>\n",
       "      <td>2200.000000</td>\n",
       "      <td>920.000000</td>\n",
       "      <td>500.000000</td>\n",
       "      <td>300.000000</td>\n",
       "      <td>2003.000000</td>\n",
       "      <td>0.000000</td>\n",
       "      <td>47.670560</td>\n",
       "      <td>-122.120488</td>\n",
       "      <td>69.000000</td>\n",
       "    </tr>\n",
       "    <tr>\n",
       "      <th>max</th>\n",
       "      <td>9.904000e+09</td>\n",
       "      <td>3.075000e+07</td>\n",
       "      <td>11.000000</td>\n",
       "      <td>7.500000</td>\n",
       "      <td>5140.000000</td>\n",
       "      <td>218226.000000</td>\n",
       "      <td>4.000000</td>\n",
       "      <td>5.000000</td>\n",
       "      <td>12.000000</td>\n",
       "      <td>5500.000000</td>\n",
       "      <td>2010.000000</td>\n",
       "      <td>1060.000000</td>\n",
       "      <td>1070.000000</td>\n",
       "      <td>2022.000000</td>\n",
       "      <td>2022.000000</td>\n",
       "      <td>64.824070</td>\n",
       "      <td>-70.074340</td>\n",
       "      <td>121.000000</td>\n",
       "    </tr>\n",
       "  </tbody>\n",
       "</table>\n",
       "</div>"
      ],
      "text/plain": [
       "                 id         price      bedrooms     bathrooms   sqft_living  \\\n",
       "count  2.895900e+04  2.895900e+04  28959.000000  28959.000000  28959.000000   \n",
       "mean   4.583861e+09  1.051138e+06      3.389344      2.289910   2037.981629   \n",
       "std    2.882613e+09  7.233138e+05      0.961320      0.828525    841.673375   \n",
       "min    1.000055e+06  2.736000e+04      0.000000      0.000000    260.000000   \n",
       "25%    2.126049e+09  6.400000e+05      3.000000      2.000000   1400.000000   \n",
       "50%    3.901000e+09  8.500000e+05      3.000000      2.500000   1890.000000   \n",
       "75%    7.308000e+09  1.261000e+06      4.000000      2.500000   2540.000000   \n",
       "max    9.904000e+09  3.075000e+07     11.000000      7.500000   5140.000000   \n",
       "\n",
       "            sqft_lot        floors     condition         grade    sqft_above  \\\n",
       "count   28959.000000  28959.000000  28959.000000  28959.000000  28959.000000   \n",
       "mean    11570.077972      1.540108      3.473739      7.591630   1754.269346   \n",
       "std     20406.186603      0.569324      0.702963      1.068168    791.055170   \n",
       "min       402.000000      1.000000      1.000000      2.000000    260.000000   \n",
       "25%      4766.500000      1.000000      3.000000      7.000000   1170.000000   \n",
       "50%      7318.000000      1.500000      3.000000      7.000000   1530.000000   \n",
       "75%     10092.500000      2.000000      4.000000      8.000000   2200.000000   \n",
       "max    218226.000000      4.000000      5.000000     12.000000   5500.000000   \n",
       "\n",
       "       sqft_basement   sqft_garage    sqft_patio      yr_built  yr_renovated  \\\n",
       "count   28959.000000  28959.000000  28959.000000  28959.000000  28959.000000   \n",
       "mean      452.054456    315.158431    198.305466   1974.763528     88.322180   \n",
       "std       535.663377    261.715858    204.128819     32.200530    410.739076   \n",
       "min         0.000000      0.000000      0.000000   1900.000000      0.000000   \n",
       "25%         0.000000      0.000000     40.000000   1952.000000      0.000000   \n",
       "50%         0.000000    380.000000    140.000000   1977.000000      0.000000   \n",
       "75%       920.000000    500.000000    300.000000   2003.000000      0.000000   \n",
       "max      2010.000000   1060.000000   1070.000000   2022.000000   2022.000000   \n",
       "\n",
       "                lat          long           age  \n",
       "count  28959.000000  28959.000000  28959.000000  \n",
       "mean      47.321251   -121.290675     46.236472  \n",
       "std        1.458032      5.823823     32.200530  \n",
       "min       21.274240   -157.791480     -1.000000  \n",
       "25%       47.404870   -122.327988     18.000000  \n",
       "50%       47.551060   -122.231760     44.000000  \n",
       "75%       47.670560   -122.120488     69.000000  \n",
       "max       64.824070    -70.074340    121.000000  "
      ]
     },
     "execution_count": 132,
     "metadata": {},
     "output_type": "execute_result"
    }
   ],
   "source": [
    "df.describe()"
   ]
  },
  {
   "cell_type": "code",
   "execution_count": 133,
   "metadata": {},
   "outputs": [
    {
     "data": {
      "text/plain": [
       "id               0\n",
       "date             0\n",
       "price            0\n",
       "bedrooms         0\n",
       "bathrooms        0\n",
       "sqft_living      0\n",
       "sqft_lot         0\n",
       "floors           0\n",
       "waterfront       0\n",
       "greenbelt        0\n",
       "nuisance         0\n",
       "view             0\n",
       "condition        0\n",
       "grade            0\n",
       "heat_source      0\n",
       "sewer_system     0\n",
       "sqft_above       0\n",
       "sqft_basement    0\n",
       "sqft_garage      0\n",
       "sqft_patio       0\n",
       "yr_built         0\n",
       "yr_renovated     0\n",
       "address          0\n",
       "lat              0\n",
       "long             0\n",
       "age              0\n",
       "dtype: int64"
      ]
     },
     "execution_count": 133,
     "metadata": {},
     "output_type": "execute_result"
    }
   ],
   "source": [
    "df.isna().sum()"
   ]
  },
  {
   "cell_type": "code",
   "execution_count": 134,
   "metadata": {},
   "outputs": [
    {
     "name": "stdout",
     "output_type": "stream",
     "text": [
      "9948     5140\n",
      "12350    5130\n",
      "11219    5130\n",
      "23258    5130\n",
      "20717    5130\n",
      "         ... \n",
      "11989     310\n",
      "23622     290\n",
      "8391      290\n",
      "5811      290\n",
      "8694      260\n",
      "Name: sqft_living, Length: 28959, dtype: int64\n"
     ]
    }
   ],
   "source": [
    "print(df['sqft_living'].sort_values(ascending = False))"
   ]
  },
  {
   "cell_type": "code",
   "execution_count": 135,
   "metadata": {},
   "outputs": [
    {
     "data": {
      "text/plain": [
       "<AxesSubplot:ylabel='Frequency'>"
      ]
     },
     "execution_count": 135,
     "metadata": {},
     "output_type": "execute_result"
    },
    {
     "data": {
      "image/png": "[encoded data removed]",
      "text/plain": [
       "<Figure size 576x396 with 1 Axes>"
      ]
     },
     "metadata": {},
     "output_type": "display_data"
    }
   ],
   "source": [
    "df['sqft_living'].plot(kind = 'hist', bins = 50)"
   ]
  },
  {
   "cell_type": "code",
   "execution_count": 136,
   "metadata": {},
   "outputs": [
    {
     "name": "stdout",
     "output_type": "stream",
     "text": [
      "329      218226\n",
      "1997     218171\n",
      "27403    217852\n",
      "28172    217800\n",
      "17782    217800\n",
      "          ...  \n",
      "1798        468\n",
      "3070        435\n",
      "12400       420\n",
      "8788        412\n",
      "16934       402\n",
      "Name: sqft_lot, Length: 28959, dtype: int64\n"
     ]
    }
   ],
   "source": [
    "print(df['sqft_lot'].sort_values(ascending = False))"
   ]
  },
  {
   "cell_type": "code",
   "execution_count": 137,
   "metadata": {},
   "outputs": [
    {
     "data": {
      "text/plain": [
       "<AxesSubplot:ylabel='Frequency'>"
      ]
     },
     "execution_count": 137,
     "metadata": {},
     "output_type": "execute_result"
    },
    {
     "data": {
      "image/png": "[encoded data removed]",
      "text/plain": [
       "<Figure size 576x396 with 1 Axes>"
      ]
     },
     "metadata": {},
     "output_type": "display_data"
    }
   ],
   "source": [
    "df['sqft_lot'].plot(kind = 'hist', bins = 50)"
   ]
  },
  {
   "cell_type": "code",
   "execution_count": 138,
   "metadata": {},
   "outputs": [
    {
     "name": "stdout",
     "output_type": "stream",
     "text": [
      "9884     11\n",
      "24101    10\n",
      "11826     9\n",
      "2536      9\n",
      "2155      9\n",
      "         ..\n",
      "18639     0\n",
      "17536     0\n",
      "20643     0\n",
      "1952      0\n",
      "573       0\n",
      "Name: bedrooms, Length: 28959, dtype: int64\n"
     ]
    }
   ],
   "source": [
    "print(df['bedrooms'].sort_values(ascending = False))"
   ]
  },
  {
   "cell_type": "code",
   "execution_count": 139,
   "metadata": {},
   "outputs": [
    {
     "data": {
      "text/plain": [
       "<AxesSubplot:ylabel='Frequency'>"
      ]
     },
     "execution_count": 139,
     "metadata": {},
     "output_type": "execute_result"
    },
    {
     "data": {
      "image/png": "[encoded data removed]",
      "text/plain": [
       "<Figure size 576x396 with 1 Axes>"
      ]
     },
     "metadata": {},
     "output_type": "display_data"
    }
   ],
   "source": [
    "df['bedrooms'].plot(kind = 'hist', bins = 10)"
   ]
  },
  {
   "cell_type": "code",
   "execution_count": 140,
   "metadata": {},
   "outputs": [
    {
     "name": "stdout",
     "output_type": "stream",
     "text": [
      "21623    7.5\n",
      "657      7.5\n",
      "1949     7.0\n",
      "21296    7.0\n",
      "24101    7.0\n",
      "        ... \n",
      "25994    0.0\n",
      "19920    0.0\n",
      "28508    0.0\n",
      "1289     0.0\n",
      "7545     0.0\n",
      "Name: bathrooms, Length: 28959, dtype: float64\n"
     ]
    }
   ],
   "source": [
    "print(df['bathrooms'].sort_values(ascending = False))"
   ]
  },
  {
   "cell_type": "code",
   "execution_count": 141,
   "metadata": {},
   "outputs": [
    {
     "data": {
      "text/plain": [
       "<AxesSubplot:ylabel='Frequency'>"
      ]
     },
     "execution_count": 141,
     "metadata": {},
     "output_type": "execute_result"
    },
    {
     "data": {
      "image/png": "[encoded data removed]",
      "text/plain": [
       "<Figure size 576x396 with 1 Axes>"
      ]
     },
     "metadata": {},
     "output_type": "display_data"
    }
   ],
   "source": [
    "df['bathrooms'].plot(kind = 'hist', bins = 10)"
   ]
  },
  {
   "cell_type": "code",
   "execution_count": 142,
   "metadata": {},
   "outputs": [
    {
     "name": "stdout",
     "output_type": "stream",
     "text": [
      "21199    5\n",
      "7311     5\n",
      "7313     5\n",
      "7314     5\n",
      "7316     5\n",
      "        ..\n",
      "23335    1\n",
      "7961     1\n",
      "8468     1\n",
      "11822    1\n",
      "17155    1\n",
      "Name: condition, Length: 28959, dtype: int64\n"
     ]
    }
   ],
   "source": [
    "print(df['condition'].sort_values(ascending = False))"
   ]
  },
  {
   "cell_type": "code",
   "execution_count": 143,
   "metadata": {},
   "outputs": [
    {
     "data": {
      "text/plain": [
       "<AxesSubplot:ylabel='Frequency'>"
      ]
     },
     "execution_count": 143,
     "metadata": {},
     "output_type": "execute_result"
    },
    {
     "data": {
      "image/png": "[encoded data removed]",
      "text/plain": [
       "<Figure size 576x396 with 1 Axes>"
      ]
     },
     "metadata": {},
     "output_type": "display_data"
    }
   ],
   "source": [
    "df['condition'].plot(kind = 'hist', bins = 5)"
   ]
  },
  {
   "cell_type": "code",
   "execution_count": 144,
   "metadata": {},
   "outputs": [
    {
     "name": "stdout",
     "output_type": "stream",
     "text": [
      "21009    12\n",
      "25829    12\n",
      "14339    12\n",
      "4890     12\n",
      "11249    12\n",
      "         ..\n",
      "14636     3\n",
      "29732     3\n",
      "8468      3\n",
      "21804     3\n",
      "30071     2\n",
      "Name: grade, Length: 28959, dtype: int64\n"
     ]
    }
   ],
   "source": [
    "print(df['grade'].sort_values(ascending = False))"
   ]
  },
  {
   "cell_type": "code",
   "execution_count": 145,
   "metadata": {},
   "outputs": [
    {
     "data": {
      "text/plain": [
       "<AxesSubplot:ylabel='Frequency'>"
      ]
     },
     "execution_count": 145,
     "metadata": {},
     "output_type": "execute_result"
    },
    {
     "data": {
      "image/png": "[encoded data removed]",
      "text/plain": [
       "<Figure size 576x396 with 1 Axes>"
      ]
     },
     "metadata": {},
     "output_type": "display_data"
    }
   ],
   "source": [
    "df['grade'].plot(kind = 'hist', bins = 10)"
   ]
  },
  {
   "cell_type": "code",
   "execution_count": 146,
   "metadata": {},
   "outputs": [
    {
     "name": "stdout",
     "output_type": "stream",
     "text": [
      "5984     2010\n",
      "28487    2010\n",
      "25748    2010\n",
      "16320    2010\n",
      "10786    2010\n",
      "         ... \n",
      "16994       0\n",
      "16998       0\n",
      "17001       0\n",
      "17005       0\n",
      "0           0\n",
      "Name: sqft_basement, Length: 28959, dtype: int64\n"
     ]
    }
   ],
   "source": [
    "print(df['sqft_basement'].sort_values(ascending = False))"
   ]
  },
  {
   "cell_type": "code",
   "execution_count": 147,
   "metadata": {},
   "outputs": [
    {
     "data": {
      "text/plain": [
       "<AxesSubplot:ylabel='Frequency'>"
      ]
     },
     "execution_count": 147,
     "metadata": {},
     "output_type": "execute_result"
    },
    {
     "data": {
      "image/png": "[encoded data removed]",
      "text/plain": [
       "<Figure size 576x396 with 1 Axes>"
      ]
     },
     "metadata": {},
     "output_type": "display_data"
    }
   ],
   "source": [
    "df['sqft_basement'].plot(kind = 'hist', bins = 50)"
   ]
  },
  {
   "cell_type": "code",
   "execution_count": 148,
   "metadata": {},
   "outputs": [
    {
     "name": "stdout",
     "output_type": "stream",
     "text": [
      "27705    1070\n",
      "29993    1070\n",
      "28847    1070\n",
      "2416     1070\n",
      "1997     1070\n",
      "         ... \n",
      "15935       0\n",
      "15932       0\n",
      "15931       0\n",
      "5156        0\n",
      "30154       0\n",
      "Name: sqft_patio, Length: 28959, dtype: int64\n"
     ]
    }
   ],
   "source": [
    "print(df['sqft_patio'].sort_values(ascending = False))"
   ]
  },
  {
   "cell_type": "code",
   "execution_count": 149,
   "metadata": {},
   "outputs": [
    {
     "data": {
      "text/plain": [
       "<AxesSubplot:ylabel='Frequency'>"
      ]
     },
     "execution_count": 149,
     "metadata": {},
     "output_type": "execute_result"
    },
    {
     "data": {
      "image/png": "[encoded data removed]",
      "text/plain": [
       "<Figure size 576x396 with 1 Axes>"
      ]
     },
     "metadata": {},
     "output_type": "display_data"
    }
   ],
   "source": [
    "df['sqft_patio'].plot(kind = 'hist', bins = 50)"
   ]
  },
  {
   "cell_type": "code",
   "execution_count": 150,
   "metadata": {},
   "outputs": [
    {
     "name": "stdout",
     "output_type": "stream",
     "text": [
      "24076    1060\n",
      "17435    1060\n",
      "16836    1060\n",
      "21272    1060\n",
      "5076     1060\n",
      "         ... \n",
      "9895        0\n",
      "22463       0\n",
      "22468       0\n",
      "9886        0\n",
      "0           0\n",
      "Name: sqft_garage, Length: 28959, dtype: int64\n"
     ]
    }
   ],
   "source": [
    "print(df['sqft_garage'].sort_values(ascending = False))"
   ]
  },
  {
   "cell_type": "code",
   "execution_count": 151,
   "metadata": {},
   "outputs": [
    {
     "data": {
      "text/plain": [
       "<AxesSubplot:ylabel='Frequency'>"
      ]
     },
     "execution_count": 151,
     "metadata": {},
     "output_type": "execute_result"
    },
    {
     "data": {
      "image/png": "[encoded data removed]",
      "text/plain": [
       "<Figure size 576x396 with 1 Axes>"
      ]
     },
     "metadata": {},
     "output_type": "display_data"
    }
   ],
   "source": [
    "df['sqft_garage'].plot(kind = 'hist', bins = 50)"
   ]
  },
  {
   "cell_type": "markdown",
   "metadata": {},
   "source": [
    "## Model Exploration"
   ]
  },
  {
   "cell_type": "code",
   "execution_count": 152,
   "metadata": {
    "scrolled": true
   },
   "outputs": [
    {
     "data": {
      "text/html": [
       "<div>\n",
       "<style scoped>\n",
       "    .dataframe tbody tr th:only-of-type {\n",
       "        vertical-align: middle;\n",
       "    }\n",
       "\n",
       "    .dataframe tbody tr th {\n",
       "        vertical-align: top;\n",
       "    }\n",
       "\n",
       "    .dataframe thead th {\n",
       "        text-align: right;\n",
       "    }\n",
       "</style>\n",
       "<table border=\"1\" class=\"dataframe\">\n",
       "  <thead>\n",
       "    <tr style=\"text-align: right;\">\n",
       "      <th></th>\n",
       "      <th>price</th>\n",
       "      <th>bedrooms</th>\n",
       "      <th>bathrooms</th>\n",
       "      <th>sqft_living</th>\n",
       "      <th>condition</th>\n",
       "      <th>grade</th>\n",
       "      <th>sqft_basement</th>\n",
       "      <th>sqft_garage</th>\n",
       "      <th>sqft_patio</th>\n",
       "      <th>age</th>\n",
       "    </tr>\n",
       "  </thead>\n",
       "  <tbody>\n",
       "    <tr>\n",
       "      <th>0</th>\n",
       "      <td>675000.0</td>\n",
       "      <td>4</td>\n",
       "      <td>1.0</td>\n",
       "      <td>1180</td>\n",
       "      <td>4</td>\n",
       "      <td>7</td>\n",
       "      <td>0</td>\n",
       "      <td>0</td>\n",
       "      <td>40</td>\n",
       "      <td>52</td>\n",
       "    </tr>\n",
       "    <tr>\n",
       "      <th>1</th>\n",
       "      <td>920000.0</td>\n",
       "      <td>5</td>\n",
       "      <td>2.5</td>\n",
       "      <td>2770</td>\n",
       "      <td>3</td>\n",
       "      <td>7</td>\n",
       "      <td>1570</td>\n",
       "      <td>0</td>\n",
       "      <td>240</td>\n",
       "      <td>71</td>\n",
       "    </tr>\n",
       "    <tr>\n",
       "      <th>2</th>\n",
       "      <td>311000.0</td>\n",
       "      <td>6</td>\n",
       "      <td>2.0</td>\n",
       "      <td>2880</td>\n",
       "      <td>3</td>\n",
       "      <td>7</td>\n",
       "      <td>1580</td>\n",
       "      <td>0</td>\n",
       "      <td>0</td>\n",
       "      <td>65</td>\n",
       "    </tr>\n",
       "    <tr>\n",
       "      <th>5</th>\n",
       "      <td>625000.0</td>\n",
       "      <td>2</td>\n",
       "      <td>1.0</td>\n",
       "      <td>1190</td>\n",
       "      <td>3</td>\n",
       "      <td>7</td>\n",
       "      <td>0</td>\n",
       "      <td>300</td>\n",
       "      <td>0</td>\n",
       "      <td>73</td>\n",
       "    </tr>\n",
       "    <tr>\n",
       "      <th>6</th>\n",
       "      <td>1317227.0</td>\n",
       "      <td>3</td>\n",
       "      <td>3.0</td>\n",
       "      <td>2080</td>\n",
       "      <td>4</td>\n",
       "      <td>9</td>\n",
       "      <td>0</td>\n",
       "      <td>0</td>\n",
       "      <td>150</td>\n",
       "      <td>70</td>\n",
       "    </tr>\n",
       "  </tbody>\n",
       "</table>\n",
       "</div>"
      ],
      "text/plain": [
       "       price  bedrooms  bathrooms  sqft_living  condition  grade  \\\n",
       "0   675000.0         4        1.0         1180          4      7   \n",
       "1   920000.0         5        2.5         2770          3      7   \n",
       "2   311000.0         6        2.0         2880          3      7   \n",
       "5   625000.0         2        1.0         1190          3      7   \n",
       "6  1317227.0         3        3.0         2080          4      9   \n",
       "\n",
       "   sqft_basement  sqft_garage  sqft_patio  age  \n",
       "0              0            0          40   52  \n",
       "1           1570            0         240   71  \n",
       "2           1580            0           0   65  \n",
       "5              0          300           0   73  \n",
       "6              0            0         150   70  "
      ]
     },
     "execution_count": 152,
     "metadata": {},
     "output_type": "execute_result"
    }
   ],
   "source": [
    "df = df[df['age'] > 49]\n",
    "df = df[['price', 'bedrooms', 'bathrooms', 'sqft_living', 'condition', 'grade', 'sqft_basement', 'sqft_garage', 'sqft_patio', 'age']]\n",
    "df.head()"
   ]
  },
  {
   "cell_type": "code",
   "execution_count": 153,
   "metadata": {},
   "outputs": [],
   "source": [
    "df['bathbed'] = df['bathrooms'] / df['bedrooms']\n",
    "median_bathbed = df['bathbed'].median()\n",
    "df.replace([np.inf, -np.inf], median_bathbed, inplace=True)\n",
    "df.fillna(median_bathbed, inplace=True)"
   ]
  },
  {
   "cell_type": "code",
   "execution_count": 154,
   "metadata": {
    "scrolled": true
   },
   "outputs": [
    {
     "data": {
      "text/html": [
       "<div>\n",
       "<style scoped>\n",
       "    .dataframe tbody tr th:only-of-type {\n",
       "        vertical-align: middle;\n",
       "    }\n",
       "\n",
       "    .dataframe tbody tr th {\n",
       "        vertical-align: top;\n",
       "    }\n",
       "\n",
       "    .dataframe thead th {\n",
       "        text-align: right;\n",
       "    }\n",
       "</style>\n",
       "<table border=\"1\" class=\"dataframe\">\n",
       "  <thead>\n",
       "    <tr style=\"text-align: right;\">\n",
       "      <th></th>\n",
       "      <th>price</th>\n",
       "      <th>bedrooms</th>\n",
       "      <th>bathrooms</th>\n",
       "      <th>sqft_living</th>\n",
       "      <th>condition</th>\n",
       "      <th>grade</th>\n",
       "      <th>sqft_basement</th>\n",
       "      <th>sqft_garage</th>\n",
       "      <th>sqft_patio</th>\n",
       "      <th>age</th>\n",
       "      <th>bathbed</th>\n",
       "    </tr>\n",
       "  </thead>\n",
       "  <tbody>\n",
       "    <tr>\n",
       "      <th>price</th>\n",
       "      <td>1.000000</td>\n",
       "      <td>0.235563</td>\n",
       "      <td>0.423621</td>\n",
       "      <td>0.506742</td>\n",
       "      <td>0.074478</td>\n",
       "      <td>0.523750</td>\n",
       "      <td>0.285369</td>\n",
       "      <td>0.083475</td>\n",
       "      <td>0.226416</td>\n",
       "      <td>0.086305</td>\n",
       "      <td>0.255102</td>\n",
       "    </tr>\n",
       "    <tr>\n",
       "      <th>bedrooms</th>\n",
       "      <td>0.235563</td>\n",
       "      <td>1.000000</td>\n",
       "      <td>0.583681</td>\n",
       "      <td>0.645940</td>\n",
       "      <td>0.104795</td>\n",
       "      <td>0.398960</td>\n",
       "      <td>0.350960</td>\n",
       "      <td>0.177073</td>\n",
       "      <td>0.183566</td>\n",
       "      <td>-0.116354</td>\n",
       "      <td>-0.216724</td>\n",
       "    </tr>\n",
       "    <tr>\n",
       "      <th>bathrooms</th>\n",
       "      <td>0.423621</td>\n",
       "      <td>0.583681</td>\n",
       "      <td>1.000000</td>\n",
       "      <td>0.761275</td>\n",
       "      <td>0.186211</td>\n",
       "      <td>0.557462</td>\n",
       "      <td>0.423196</td>\n",
       "      <td>0.240046</td>\n",
       "      <td>0.303988</td>\n",
       "      <td>-0.072543</td>\n",
       "      <td>0.606389</td>\n",
       "    </tr>\n",
       "    <tr>\n",
       "      <th>sqft_living</th>\n",
       "      <td>0.506742</td>\n",
       "      <td>0.645940</td>\n",
       "      <td>0.761275</td>\n",
       "      <td>1.000000</td>\n",
       "      <td>0.113242</td>\n",
       "      <td>0.666269</td>\n",
       "      <td>0.568536</td>\n",
       "      <td>0.200828</td>\n",
       "      <td>0.358703</td>\n",
       "      <td>-0.041236</td>\n",
       "      <td>0.286278</td>\n",
       "    </tr>\n",
       "    <tr>\n",
       "      <th>condition</th>\n",
       "      <td>0.074478</td>\n",
       "      <td>0.104795</td>\n",
       "      <td>0.186211</td>\n",
       "      <td>0.113242</td>\n",
       "      <td>1.000000</td>\n",
       "      <td>0.070840</td>\n",
       "      <td>-0.010871</td>\n",
       "      <td>0.053188</td>\n",
       "      <td>0.089552</td>\n",
       "      <td>-0.053190</td>\n",
       "      <td>0.103458</td>\n",
       "    </tr>\n",
       "    <tr>\n",
       "      <th>grade</th>\n",
       "      <td>0.523750</td>\n",
       "      <td>0.398960</td>\n",
       "      <td>0.557462</td>\n",
       "      <td>0.666269</td>\n",
       "      <td>0.070840</td>\n",
       "      <td>1.000000</td>\n",
       "      <td>0.373277</td>\n",
       "      <td>0.289103</td>\n",
       "      <td>0.270589</td>\n",
       "      <td>-0.096636</td>\n",
       "      <td>0.249887</td>\n",
       "    </tr>\n",
       "    <tr>\n",
       "      <th>sqft_basement</th>\n",
       "      <td>0.285369</td>\n",
       "      <td>0.350960</td>\n",
       "      <td>0.423196</td>\n",
       "      <td>0.568536</td>\n",
       "      <td>-0.010871</td>\n",
       "      <td>0.373277</td>\n",
       "      <td>1.000000</td>\n",
       "      <td>0.102250</td>\n",
       "      <td>0.211292</td>\n",
       "      <td>0.122797</td>\n",
       "      <td>0.178914</td>\n",
       "    </tr>\n",
       "    <tr>\n",
       "      <th>sqft_garage</th>\n",
       "      <td>0.083475</td>\n",
       "      <td>0.177073</td>\n",
       "      <td>0.240046</td>\n",
       "      <td>0.200828</td>\n",
       "      <td>0.053188</td>\n",
       "      <td>0.289103</td>\n",
       "      <td>0.102250</td>\n",
       "      <td>1.000000</td>\n",
       "      <td>0.110444</td>\n",
       "      <td>-0.481876</td>\n",
       "      <td>0.096146</td>\n",
       "    </tr>\n",
       "    <tr>\n",
       "      <th>sqft_patio</th>\n",
       "      <td>0.226416</td>\n",
       "      <td>0.183566</td>\n",
       "      <td>0.303988</td>\n",
       "      <td>0.358703</td>\n",
       "      <td>0.089552</td>\n",
       "      <td>0.270589</td>\n",
       "      <td>0.211292</td>\n",
       "      <td>0.110444</td>\n",
       "      <td>1.000000</td>\n",
       "      <td>-0.050352</td>\n",
       "      <td>0.182712</td>\n",
       "    </tr>\n",
       "    <tr>\n",
       "      <th>age</th>\n",
       "      <td>0.086305</td>\n",
       "      <td>-0.116354</td>\n",
       "      <td>-0.072543</td>\n",
       "      <td>-0.041236</td>\n",
       "      <td>-0.053190</td>\n",
       "      <td>-0.096636</td>\n",
       "      <td>0.122797</td>\n",
       "      <td>-0.481876</td>\n",
       "      <td>-0.050352</td>\n",
       "      <td>1.000000</td>\n",
       "      <td>0.042980</td>\n",
       "    </tr>\n",
       "    <tr>\n",
       "      <th>bathbed</th>\n",
       "      <td>0.255102</td>\n",
       "      <td>-0.216724</td>\n",
       "      <td>0.606389</td>\n",
       "      <td>0.286278</td>\n",
       "      <td>0.103458</td>\n",
       "      <td>0.249887</td>\n",
       "      <td>0.178914</td>\n",
       "      <td>0.096146</td>\n",
       "      <td>0.182712</td>\n",
       "      <td>0.042980</td>\n",
       "      <td>1.000000</td>\n",
       "    </tr>\n",
       "  </tbody>\n",
       "</table>\n",
       "</div>"
      ],
      "text/plain": [
       "                  price  bedrooms  bathrooms  sqft_living  condition  \\\n",
       "price          1.000000  0.235563   0.423621     0.506742   0.074478   \n",
       "bedrooms       0.235563  1.000000   0.583681     0.645940   0.104795   \n",
       "bathrooms      0.423621  0.583681   1.000000     0.761275   0.186211   \n",
       "sqft_living    0.506742  0.645940   0.761275     1.000000   0.113242   \n",
       "condition      0.074478  0.104795   0.186211     0.113242   1.000000   \n",
       "grade          0.523750  0.398960   0.557462     0.666269   0.070840   \n",
       "sqft_basement  0.285369  0.350960   0.423196     0.568536  -0.010871   \n",
       "sqft_garage    0.083475  0.177073   0.240046     0.200828   0.053188   \n",
       "sqft_patio     0.226416  0.183566   0.303988     0.358703   0.089552   \n",
       "age            0.086305 -0.116354  -0.072543    -0.041236  -0.053190   \n",
       "bathbed        0.255102 -0.216724   0.606389     0.286278   0.103458   \n",
       "\n",
       "                  grade  sqft_basement  sqft_garage  sqft_patio       age  \\\n",
       "price          0.523750       0.285369     0.083475    0.226416  0.086305   \n",
       "bedrooms       0.398960       0.350960     0.177073    0.183566 -0.116354   \n",
       "bathrooms      0.557462       0.423196     0.240046    0.303988 -0.072543   \n",
       "sqft_living    0.666269       0.568536     0.200828    0.358703 -0.041236   \n",
       "condition      0.070840      -0.010871     0.053188    0.089552 -0.053190   \n",
       "grade          1.000000       0.373277     0.289103    0.270589 -0.096636   \n",
       "sqft_basement  0.373277       1.000000     0.102250    0.211292  0.122797   \n",
       "sqft_garage    0.289103       0.102250     1.000000    0.110444 -0.481876   \n",
       "sqft_patio     0.270589       0.211292     0.110444    1.000000 -0.050352   \n",
       "age           -0.096636       0.122797    -0.481876   -0.050352  1.000000   \n",
       "bathbed        0.249887       0.178914     0.096146    0.182712  0.042980   \n",
       "\n",
       "                bathbed  \n",
       "price          0.255102  \n",
       "bedrooms      -0.216724  \n",
       "bathrooms      0.606389  \n",
       "sqft_living    0.286278  \n",
       "condition      0.103458  \n",
       "grade          0.249887  \n",
       "sqft_basement  0.178914  \n",
       "sqft_garage    0.096146  \n",
       "sqft_patio     0.182712  \n",
       "age            0.042980  \n",
       "bathbed        1.000000  "
      ]
     },
     "execution_count": 154,
     "metadata": {},
     "output_type": "execute_result"
    }
   ],
   "source": [
    "df.corr()"
   ]
  },
  {
   "cell_type": "code",
   "execution_count": 155,
   "metadata": {},
   "outputs": [
    {
     "data": {
      "text/plain": [
       "<AxesSubplot:>"
      ]
     },
     "execution_count": 155,
     "metadata": {},
     "output_type": "execute_result"
    },
    {
     "data": {
      "image/png": "[encoded data removed]",
      "text/plain": [
       "<Figure size 1008x720 with 2 Axes>"
      ]
     },
     "metadata": {},
     "output_type": "display_data"
    }
   ],
   "source": [
    "fig, ax = plt.subplots(figsize=(14,10))\n",
    "\n",
    "sns.heatmap(df.corr().abs(), annot=True)"
   ]
  },
  {
   "cell_type": "code",
   "execution_count": 156,
   "metadata": {},
   "outputs": [
    {
     "data": {
      "text/html": [
       "<table class=\"simpletable\">\n",
       "<caption>OLS Regression Results</caption>\n",
       "<tr>\n",
       "  <th>Dep. Variable:</th>          <td>price</td>      <th>  R-squared:         </th>  <td>   0.257</td>  \n",
       "</tr>\n",
       "<tr>\n",
       "  <th>Model:</th>                   <td>OLS</td>       <th>  Adj. R-squared:    </th>  <td>   0.257</td>  \n",
       "</tr>\n",
       "<tr>\n",
       "  <th>Method:</th>             <td>Least Squares</td>  <th>  F-statistic:       </th>  <td>   4556.</td>  \n",
       "</tr>\n",
       "<tr>\n",
       "  <th>Date:</th>             <td>Wed, 14 Sep 2022</td> <th>  Prob (F-statistic):</th>   <td>  0.00</td>   \n",
       "</tr>\n",
       "<tr>\n",
       "  <th>Time:</th>                 <td>10:15:24</td>     <th>  Log-Likelihood:    </th> <td>-1.9400e+05</td>\n",
       "</tr>\n",
       "<tr>\n",
       "  <th>No. Observations:</th>      <td> 13188</td>      <th>  AIC:               </th>  <td>3.880e+05</td> \n",
       "</tr>\n",
       "<tr>\n",
       "  <th>Df Residuals:</th>          <td> 13186</td>      <th>  BIC:               </th>  <td>3.880e+05</td> \n",
       "</tr>\n",
       "<tr>\n",
       "  <th>Df Model:</th>              <td>     1</td>      <th>                     </th>      <td> </td>     \n",
       "</tr>\n",
       "<tr>\n",
       "  <th>Covariance Type:</th>      <td>nonrobust</td>    <th>                     </th>      <td> </td>     \n",
       "</tr>\n",
       "</table>\n",
       "<table class=\"simpletable\">\n",
       "<tr>\n",
       "       <td></td>          <th>coef</th>     <th>std err</th>      <th>t</th>      <th>P>|t|</th>  <th>[0.025</th>    <th>0.975]</th>  \n",
       "</tr>\n",
       "<tr>\n",
       "  <th>Intercept</th>   <td> 1.314e+05</td> <td> 1.35e+04</td> <td>    9.705</td> <td> 0.000</td> <td> 1.05e+05</td> <td> 1.58e+05</td>\n",
       "</tr>\n",
       "<tr>\n",
       "  <th>sqft_living</th> <td>  481.6708</td> <td>    7.136</td> <td>   67.497</td> <td> 0.000</td> <td>  467.683</td> <td>  495.659</td>\n",
       "</tr>\n",
       "</table>\n",
       "<table class=\"simpletable\">\n",
       "<tr>\n",
       "  <th>Omnibus:</th>       <td>15978.864</td> <th>  Durbin-Watson:     </th>  <td>   1.930</td>  \n",
       "</tr>\n",
       "<tr>\n",
       "  <th>Prob(Omnibus):</th>  <td> 0.000</td>   <th>  Jarque-Bera (JB):  </th> <td>5302102.609</td>\n",
       "</tr>\n",
       "<tr>\n",
       "  <th>Skew:</th>           <td> 6.155</td>   <th>  Prob(JB):          </th>  <td>    0.00</td>  \n",
       "</tr>\n",
       "<tr>\n",
       "  <th>Kurtosis:</th>       <td>100.455</td>  <th>  Cond. No.          </th>  <td>4.98e+03</td>  \n",
       "</tr>\n",
       "</table><br/><br/>Notes:<br/>[1] Standard Errors assume that the covariance matrix of the errors is correctly specified.<br/>[2] The condition number is large, 4.98e+03. This might indicate that there are<br/>strong multicollinearity or other numerical problems."
      ],
      "text/plain": [
       "<class 'statsmodels.iolib.summary.Summary'>\n",
       "\"\"\"\n",
       "                            OLS Regression Results                            \n",
       "==============================================================================\n",
       "Dep. Variable:                  price   R-squared:                       0.257\n",
       "Model:                            OLS   Adj. R-squared:                  0.257\n",
       "Method:                 Least Squares   F-statistic:                     4556.\n",
       "Date:                Wed, 14 Sep 2022   Prob (F-statistic):               0.00\n",
       "Time:                        10:15:24   Log-Likelihood:            -1.9400e+05\n",
       "No. Observations:               13188   AIC:                         3.880e+05\n",
       "Df Residuals:                   13186   BIC:                         3.880e+05\n",
       "Df Model:                           1                                         \n",
       "Covariance Type:            nonrobust                                         \n",
       "===============================================================================\n",
       "                  coef    std err          t      P>|t|      [0.025      0.975]\n",
       "-------------------------------------------------------------------------------\n",
       "Intercept    1.314e+05   1.35e+04      9.705      0.000    1.05e+05    1.58e+05\n",
       "sqft_living   481.6708      7.136     67.497      0.000     467.683     495.659\n",
       "==============================================================================\n",
       "Omnibus:                    15978.864   Durbin-Watson:                   1.930\n",
       "Prob(Omnibus):                  0.000   Jarque-Bera (JB):          5302102.609\n",
       "Skew:                           6.155   Prob(JB):                         0.00\n",
       "Kurtosis:                     100.455   Cond. No.                     4.98e+03\n",
       "==============================================================================\n",
       "\n",
       "Notes:\n",
       "[1] Standard Errors assume that the covariance matrix of the errors is correctly specified.\n",
       "[2] The condition number is large, 4.98e+03. This might indicate that there are\n",
       "strong multicollinearity or other numerical problems.\n",
       "\"\"\""
      ]
     },
     "execution_count": 156,
     "metadata": {},
     "output_type": "execute_result"
    }
   ],
   "source": [
    "formula = \"price ~ sqft_living\"\n",
    "all_mod = ols(formula=formula, data=df).fit()\n",
    "all_mod_summ = all_mod.summary()\n",
    "all_mod_summ"
   ]
  },
  {
   "cell_type": "code",
   "execution_count": 157,
   "metadata": {},
   "outputs": [
    {
     "data": {
      "text/html": [
       "<table class=\"simpletable\">\n",
       "<caption>OLS Regression Results</caption>\n",
       "<tr>\n",
       "  <th>Dep. Variable:</th>          <td>price</td>      <th>  R-squared:         </th>  <td>   0.291</td>  \n",
       "</tr>\n",
       "<tr>\n",
       "  <th>Model:</th>                   <td>OLS</td>       <th>  Adj. R-squared:    </th>  <td>   0.290</td>  \n",
       "</tr>\n",
       "<tr>\n",
       "  <th>Method:</th>             <td>Least Squares</td>  <th>  F-statistic:       </th>  <td>   674.6</td>  \n",
       "</tr>\n",
       "<tr>\n",
       "  <th>Date:</th>             <td>Wed, 14 Sep 2022</td> <th>  Prob (F-statistic):</th>   <td>  0.00</td>   \n",
       "</tr>\n",
       "<tr>\n",
       "  <th>Time:</th>                 <td>10:15:24</td>     <th>  Log-Likelihood:    </th> <td>-1.9370e+05</td>\n",
       "</tr>\n",
       "<tr>\n",
       "  <th>No. Observations:</th>      <td> 13188</td>      <th>  AIC:               </th>  <td>3.874e+05</td> \n",
       "</tr>\n",
       "<tr>\n",
       "  <th>Df Residuals:</th>          <td> 13179</td>      <th>  BIC:               </th>  <td>3.875e+05</td> \n",
       "</tr>\n",
       "<tr>\n",
       "  <th>Df Model:</th>              <td>     8</td>      <th>                     </th>      <td> </td>     \n",
       "</tr>\n",
       "<tr>\n",
       "  <th>Covariance Type:</th>      <td>nonrobust</td>    <th>                     </th>      <td> </td>     \n",
       "</tr>\n",
       "</table>\n",
       "<table class=\"simpletable\">\n",
       "<tr>\n",
       "        <td></td>           <th>coef</th>     <th>std err</th>      <th>t</th>      <th>P>|t|</th>  <th>[0.025</th>    <th>0.975]</th>  \n",
       "</tr>\n",
       "<tr>\n",
       "  <th>Intercept</th>     <td> -1.11e+05</td> <td> 3.84e+04</td> <td>   -2.892</td> <td> 0.004</td> <td>-1.86e+05</td> <td>-3.58e+04</td>\n",
       "</tr>\n",
       "<tr>\n",
       "  <th>bedrooms</th>      <td>-1.083e+05</td> <td> 6722.543</td> <td>  -16.112</td> <td> 0.000</td> <td>-1.21e+05</td> <td>-9.51e+04</td>\n",
       "</tr>\n",
       "<tr>\n",
       "  <th>bathrooms</th>     <td> 1.071e+05</td> <td> 1.02e+04</td> <td>   10.475</td> <td> 0.000</td> <td> 8.71e+04</td> <td> 1.27e+05</td>\n",
       "</tr>\n",
       "<tr>\n",
       "  <th>sqft_basement</th> <td>  -38.3828</td> <td>   11.303</td> <td>   -3.396</td> <td> 0.001</td> <td>  -60.538</td> <td>  -16.227</td>\n",
       "</tr>\n",
       "<tr>\n",
       "  <th>sqft_living</th>   <td>  489.8629</td> <td>   12.961</td> <td>   37.796</td> <td> 0.000</td> <td>  464.458</td> <td>  515.268</td>\n",
       "</tr>\n",
       "<tr>\n",
       "  <th>condition</th>     <td> 9061.6060</td> <td> 6540.942</td> <td>    1.385</td> <td> 0.166</td> <td>-3759.582</td> <td> 2.19e+04</td>\n",
       "</tr>\n",
       "<tr>\n",
       "  <th>sqft_garage</th>   <td>  108.4487</td> <td>   26.733</td> <td>    4.057</td> <td> 0.000</td> <td>   56.049</td> <td>  160.848</td>\n",
       "</tr>\n",
       "<tr>\n",
       "  <th>sqft_patio</th>    <td>  145.0090</td> <td>   27.880</td> <td>    5.201</td> <td> 0.000</td> <td>   90.360</td> <td>  199.658</td>\n",
       "</tr>\n",
       "<tr>\n",
       "  <th>age</th>           <td> 4300.9766</td> <td>  304.994</td> <td>   14.102</td> <td> 0.000</td> <td> 3703.145</td> <td> 4898.808</td>\n",
       "</tr>\n",
       "</table>\n",
       "<table class=\"simpletable\">\n",
       "<tr>\n",
       "  <th>Omnibus:</th>       <td>16332.822</td> <th>  Durbin-Watson:     </th>  <td>   1.945</td>  \n",
       "</tr>\n",
       "<tr>\n",
       "  <th>Prob(Omnibus):</th>  <td> 0.000</td>   <th>  Jarque-Bera (JB):  </th> <td>6025961.841</td>\n",
       "</tr>\n",
       "<tr>\n",
       "  <th>Skew:</th>           <td> 6.380</td>   <th>  Prob(JB):          </th>  <td>    0.00</td>  \n",
       "</tr>\n",
       "<tr>\n",
       "  <th>Kurtosis:</th>       <td>106.940</td>  <th>  Cond. No.          </th>  <td>1.56e+04</td>  \n",
       "</tr>\n",
       "</table><br/><br/>Notes:<br/>[1] Standard Errors assume that the covariance matrix of the errors is correctly specified.<br/>[2] The condition number is large, 1.56e+04. This might indicate that there are<br/>strong multicollinearity or other numerical problems."
      ],
      "text/plain": [
       "<class 'statsmodels.iolib.summary.Summary'>\n",
       "\"\"\"\n",
       "                            OLS Regression Results                            \n",
       "==============================================================================\n",
       "Dep. Variable:                  price   R-squared:                       0.291\n",
       "Model:                            OLS   Adj. R-squared:                  0.290\n",
       "Method:                 Least Squares   F-statistic:                     674.6\n",
       "Date:                Wed, 14 Sep 2022   Prob (F-statistic):               0.00\n",
       "Time:                        10:15:24   Log-Likelihood:            -1.9370e+05\n",
       "No. Observations:               13188   AIC:                         3.874e+05\n",
       "Df Residuals:                   13179   BIC:                         3.875e+05\n",
       "Df Model:                           8                                         \n",
       "Covariance Type:            nonrobust                                         \n",
       "=================================================================================\n",
       "                    coef    std err          t      P>|t|      [0.025      0.975]\n",
       "---------------------------------------------------------------------------------\n",
       "Intercept      -1.11e+05   3.84e+04     -2.892      0.004   -1.86e+05   -3.58e+04\n",
       "bedrooms      -1.083e+05   6722.543    -16.112      0.000   -1.21e+05   -9.51e+04\n",
       "bathrooms      1.071e+05   1.02e+04     10.475      0.000    8.71e+04    1.27e+05\n",
       "sqft_basement   -38.3828     11.303     -3.396      0.001     -60.538     -16.227\n",
       "sqft_living     489.8629     12.961     37.796      0.000     464.458     515.268\n",
       "condition      9061.6060   6540.942      1.385      0.166   -3759.582    2.19e+04\n",
       "sqft_garage     108.4487     26.733      4.057      0.000      56.049     160.848\n",
       "sqft_patio      145.0090     27.880      5.201      0.000      90.360     199.658\n",
       "age            4300.9766    304.994     14.102      0.000    3703.145    4898.808\n",
       "==============================================================================\n",
       "Omnibus:                    16332.822   Durbin-Watson:                   1.945\n",
       "Prob(Omnibus):                  0.000   Jarque-Bera (JB):          6025961.841\n",
       "Skew:                           6.380   Prob(JB):                         0.00\n",
       "Kurtosis:                     106.940   Cond. No.                     1.56e+04\n",
       "==============================================================================\n",
       "\n",
       "Notes:\n",
       "[1] Standard Errors assume that the covariance matrix of the errors is correctly specified.\n",
       "[2] The condition number is large, 1.56e+04. This might indicate that there are\n",
       "strong multicollinearity or other numerical problems.\n",
       "\"\"\""
      ]
     },
     "execution_count": 157,
     "metadata": {},
     "output_type": "execute_result"
    }
   ],
   "source": [
    "formula = \"price ~ bedrooms + bathrooms + sqft_basement + sqft_living + condition + sqft_garage + sqft_patio + age\"\n",
    "all_mod = ols(formula=formula, data=df).fit()\n",
    "all_mod_summ = all_mod.summary()\n",
    "all_mod_summ"
   ]
  },
  {
   "cell_type": "code",
   "execution_count": 158,
   "metadata": {},
   "outputs": [
    {
     "data": {
      "text/html": [
       "<table class=\"simpletable\">\n",
       "<caption>OLS Regression Results</caption>\n",
       "<tr>\n",
       "  <th>Dep. Variable:</th>          <td>price</td>      <th>  R-squared:         </th>  <td>   0.320</td>  \n",
       "</tr>\n",
       "<tr>\n",
       "  <th>Model:</th>                   <td>OLS</td>       <th>  Adj. R-squared:    </th>  <td>   0.320</td>  \n",
       "</tr>\n",
       "<tr>\n",
       "  <th>Method:</th>             <td>Least Squares</td>  <th>  F-statistic:       </th>  <td>   2072.</td>  \n",
       "</tr>\n",
       "<tr>\n",
       "  <th>Date:</th>             <td>Wed, 14 Sep 2022</td> <th>  Prob (F-statistic):</th>   <td>  0.00</td>   \n",
       "</tr>\n",
       "<tr>\n",
       "  <th>Time:</th>                 <td>10:15:24</td>     <th>  Log-Likelihood:    </th> <td>-1.9341e+05</td>\n",
       "</tr>\n",
       "<tr>\n",
       "  <th>No. Observations:</th>      <td> 13188</td>      <th>  AIC:               </th>  <td>3.868e+05</td> \n",
       "</tr>\n",
       "<tr>\n",
       "  <th>Df Residuals:</th>          <td> 13184</td>      <th>  BIC:               </th>  <td>3.869e+05</td> \n",
       "</tr>\n",
       "<tr>\n",
       "  <th>Df Model:</th>              <td>     3</td>      <th>                     </th>      <td> </td>     \n",
       "</tr>\n",
       "<tr>\n",
       "  <th>Covariance Type:</th>      <td>nonrobust</td>    <th>                     </th>      <td> </td>     \n",
       "</tr>\n",
       "</table>\n",
       "<table class=\"simpletable\">\n",
       "<tr>\n",
       "       <td></td>          <th>coef</th>     <th>std err</th>      <th>t</th>      <th>P>|t|</th>  <th>[0.025</th>    <th>0.975]</th>  \n",
       "</tr>\n",
       "<tr>\n",
       "  <th>Intercept</th>   <td>-1.317e+06</td> <td>  4.4e+04</td> <td>  -29.954</td> <td> 0.000</td> <td> -1.4e+06</td> <td>-1.23e+06</td>\n",
       "</tr>\n",
       "<tr>\n",
       "  <th>sqft_living</th> <td>  257.7519</td> <td>    9.448</td> <td>   27.281</td> <td> 0.000</td> <td>  239.233</td> <td>  276.271</td>\n",
       "</tr>\n",
       "<tr>\n",
       "  <th>grade</th>       <td> 2.589e+05</td> <td> 7505.201</td> <td>   34.497</td> <td> 0.000</td> <td> 2.44e+05</td> <td> 2.74e+05</td>\n",
       "</tr>\n",
       "<tr>\n",
       "  <th>sqft_patio</th>  <td>  138.0442</td> <td>   27.125</td> <td>    5.089</td> <td> 0.000</td> <td>   84.875</td> <td>  191.214</td>\n",
       "</tr>\n",
       "</table>\n",
       "<table class=\"simpletable\">\n",
       "<tr>\n",
       "  <th>Omnibus:</th>       <td>16700.813</td> <th>  Durbin-Watson:     </th>  <td>   1.917</td>  \n",
       "</tr>\n",
       "<tr>\n",
       "  <th>Prob(Omnibus):</th>  <td> 0.000</td>   <th>  Jarque-Bera (JB):  </th> <td>6834047.504</td>\n",
       "</tr>\n",
       "<tr>\n",
       "  <th>Skew:</th>           <td> 6.623</td>   <th>  Prob(JB):          </th>  <td>    0.00</td>  \n",
       "</tr>\n",
       "<tr>\n",
       "  <th>Kurtosis:</th>       <td>113.731</td>  <th>  Cond. No.          </th>  <td>1.72e+04</td>  \n",
       "</tr>\n",
       "</table><br/><br/>Notes:<br/>[1] Standard Errors assume that the covariance matrix of the errors is correctly specified.<br/>[2] The condition number is large, 1.72e+04. This might indicate that there are<br/>strong multicollinearity or other numerical problems."
      ],
      "text/plain": [
       "<class 'statsmodels.iolib.summary.Summary'>\n",
       "\"\"\"\n",
       "                            OLS Regression Results                            \n",
       "==============================================================================\n",
       "Dep. Variable:                  price   R-squared:                       0.320\n",
       "Model:                            OLS   Adj. R-squared:                  0.320\n",
       "Method:                 Least Squares   F-statistic:                     2072.\n",
       "Date:                Wed, 14 Sep 2022   Prob (F-statistic):               0.00\n",
       "Time:                        10:15:24   Log-Likelihood:            -1.9341e+05\n",
       "No. Observations:               13188   AIC:                         3.868e+05\n",
       "Df Residuals:                   13184   BIC:                         3.869e+05\n",
       "Df Model:                           3                                         \n",
       "Covariance Type:            nonrobust                                         \n",
       "===============================================================================\n",
       "                  coef    std err          t      P>|t|      [0.025      0.975]\n",
       "-------------------------------------------------------------------------------\n",
       "Intercept   -1.317e+06    4.4e+04    -29.954      0.000    -1.4e+06   -1.23e+06\n",
       "sqft_living   257.7519      9.448     27.281      0.000     239.233     276.271\n",
       "grade        2.589e+05   7505.201     34.497      0.000    2.44e+05    2.74e+05\n",
       "sqft_patio    138.0442     27.125      5.089      0.000      84.875     191.214\n",
       "==============================================================================\n",
       "Omnibus:                    16700.813   Durbin-Watson:                   1.917\n",
       "Prob(Omnibus):                  0.000   Jarque-Bera (JB):          6834047.504\n",
       "Skew:                           6.623   Prob(JB):                         0.00\n",
       "Kurtosis:                     113.731   Cond. No.                     1.72e+04\n",
       "==============================================================================\n",
       "\n",
       "Notes:\n",
       "[1] Standard Errors assume that the covariance matrix of the errors is correctly specified.\n",
       "[2] The condition number is large, 1.72e+04. This might indicate that there are\n",
       "strong multicollinearity or other numerical problems.\n",
       "\"\"\""
      ]
     },
     "execution_count": 158,
     "metadata": {},
     "output_type": "execute_result"
    }
   ],
   "source": [
    "formula = \"price ~ sqft_living + grade + sqft_patio\"\n",
    "all_mod = ols(formula=formula, data=df).fit()\n",
    "all_mod_summ = all_mod.summary()\n",
    "all_mod_summ"
   ]
  },
  {
   "cell_type": "code",
   "execution_count": 159,
   "metadata": {},
   "outputs": [],
   "source": [
    "dflog = df.copy()\n"
   ]
  },
  {
   "cell_type": "code",
   "execution_count": 160,
   "metadata": {},
   "outputs": [],
   "source": [
    "# dflog['bathbed'] = dflog['bathrooms'] / dflog['bedrooms']\n",
    "# median_bathbed = dflog['bathbed'].median()\n",
    "# dflog.replace([np.inf, -np.inf], median_bathbed, inplace=True)\n",
    "# dflog.fillna(median_bathbed, inplace=True)\n",
    "# dflog['bathbed'].value_counts()"
   ]
  },
  {
   "cell_type": "code",
   "execution_count": 161,
   "metadata": {},
   "outputs": [
    {
     "data": {
      "text/html": [
       "<div>\n",
       "<style scoped>\n",
       "    .dataframe tbody tr th:only-of-type {\n",
       "        vertical-align: middle;\n",
       "    }\n",
       "\n",
       "    .dataframe tbody tr th {\n",
       "        vertical-align: top;\n",
       "    }\n",
       "\n",
       "    .dataframe thead th {\n",
       "        text-align: right;\n",
       "    }\n",
       "</style>\n",
       "<table border=\"1\" class=\"dataframe\">\n",
       "  <thead>\n",
       "    <tr style=\"text-align: right;\">\n",
       "      <th></th>\n",
       "      <th>price</th>\n",
       "      <th>bedrooms</th>\n",
       "      <th>bathrooms</th>\n",
       "      <th>sqft_living</th>\n",
       "      <th>condition</th>\n",
       "      <th>grade</th>\n",
       "      <th>sqft_basement</th>\n",
       "      <th>sqft_garage</th>\n",
       "      <th>sqft_patio</th>\n",
       "      <th>age</th>\n",
       "      <th>bathbed</th>\n",
       "    </tr>\n",
       "  </thead>\n",
       "  <tbody>\n",
       "    <tr>\n",
       "      <th>0</th>\n",
       "      <td>675000.0</td>\n",
       "      <td>4</td>\n",
       "      <td>1.0</td>\n",
       "      <td>-0.794290</td>\n",
       "      <td>4</td>\n",
       "      <td>7</td>\n",
       "      <td>-1.045989</td>\n",
       "      <td>-0.795225</td>\n",
       "      <td>-0.633809</td>\n",
       "      <td>-1.228078</td>\n",
       "      <td>0.250000</td>\n",
       "    </tr>\n",
       "    <tr>\n",
       "      <th>1</th>\n",
       "      <td>920000.0</td>\n",
       "      <td>5</td>\n",
       "      <td>2.5</td>\n",
       "      <td>1.405668</td>\n",
       "      <td>3</td>\n",
       "      <td>7</td>\n",
       "      <td>1.783256</td>\n",
       "      <td>-0.795225</td>\n",
       "      <td>0.391853</td>\n",
       "      <td>-0.247719</td>\n",
       "      <td>0.500000</td>\n",
       "    </tr>\n",
       "    <tr>\n",
       "      <th>2</th>\n",
       "      <td>311000.0</td>\n",
       "      <td>6</td>\n",
       "      <td>2.0</td>\n",
       "      <td>1.557867</td>\n",
       "      <td>3</td>\n",
       "      <td>7</td>\n",
       "      <td>1.801276</td>\n",
       "      <td>-0.795225</td>\n",
       "      <td>-0.838941</td>\n",
       "      <td>-0.557306</td>\n",
       "      <td>0.333333</td>\n",
       "    </tr>\n",
       "    <tr>\n",
       "      <th>5</th>\n",
       "      <td>625000.0</td>\n",
       "      <td>2</td>\n",
       "      <td>1.0</td>\n",
       "      <td>-0.780454</td>\n",
       "      <td>3</td>\n",
       "      <td>7</td>\n",
       "      <td>-1.045989</td>\n",
       "      <td>0.553441</td>\n",
       "      <td>-0.838941</td>\n",
       "      <td>-0.144523</td>\n",
       "      <td>0.500000</td>\n",
       "    </tr>\n",
       "    <tr>\n",
       "      <th>6</th>\n",
       "      <td>1317227.0</td>\n",
       "      <td>3</td>\n",
       "      <td>3.0</td>\n",
       "      <td>0.450969</td>\n",
       "      <td>4</td>\n",
       "      <td>9</td>\n",
       "      <td>-1.045989</td>\n",
       "      <td>-0.795225</td>\n",
       "      <td>-0.069695</td>\n",
       "      <td>-0.299317</td>\n",
       "      <td>1.000000</td>\n",
       "    </tr>\n",
       "    <tr>\n",
       "      <th>...</th>\n",
       "      <td>...</td>\n",
       "      <td>...</td>\n",
       "      <td>...</td>\n",
       "      <td>...</td>\n",
       "      <td>...</td>\n",
       "      <td>...</td>\n",
       "      <td>...</td>\n",
       "      <td>...</td>\n",
       "      <td>...</td>\n",
       "      <td>...</td>\n",
       "      <td>...</td>\n",
       "    </tr>\n",
       "    <tr>\n",
       "      <th>30140</th>\n",
       "      <td>2650000.0</td>\n",
       "      <td>4</td>\n",
       "      <td>3.5</td>\n",
       "      <td>2.097479</td>\n",
       "      <td>4</td>\n",
       "      <td>9</td>\n",
       "      <td>0.864202</td>\n",
       "      <td>-0.795225</td>\n",
       "      <td>-0.633809</td>\n",
       "      <td>1.042227</td>\n",
       "      <td>0.875000</td>\n",
       "    </tr>\n",
       "    <tr>\n",
       "      <th>30143</th>\n",
       "      <td>725000.0</td>\n",
       "      <td>3</td>\n",
       "      <td>1.0</td>\n",
       "      <td>-0.102479</td>\n",
       "      <td>3</td>\n",
       "      <td>7</td>\n",
       "      <td>0.539830</td>\n",
       "      <td>0.283708</td>\n",
       "      <td>-0.838941</td>\n",
       "      <td>0.835836</td>\n",
       "      <td>0.333333</td>\n",
       "    </tr>\n",
       "    <tr>\n",
       "      <th>30146</th>\n",
       "      <td>380000.0</td>\n",
       "      <td>3</td>\n",
       "      <td>1.0</td>\n",
       "      <td>-1.237049</td>\n",
       "      <td>4</td>\n",
       "      <td>6</td>\n",
       "      <td>-1.045989</td>\n",
       "      <td>-0.795225</td>\n",
       "      <td>-0.838941</td>\n",
       "      <td>-0.092925</td>\n",
       "      <td>0.333333</td>\n",
       "    </tr>\n",
       "    <tr>\n",
       "      <th>30150</th>\n",
       "      <td>1555000.0</td>\n",
       "      <td>5</td>\n",
       "      <td>2.0</td>\n",
       "      <td>0.215754</td>\n",
       "      <td>4</td>\n",
       "      <td>8</td>\n",
       "      <td>0.990346</td>\n",
       "      <td>-0.795225</td>\n",
       "      <td>0.238004</td>\n",
       "      <td>1.248619</td>\n",
       "      <td>0.400000</td>\n",
       "    </tr>\n",
       "    <tr>\n",
       "      <th>30154</th>\n",
       "      <td>500000.0</td>\n",
       "      <td>3</td>\n",
       "      <td>1.5</td>\n",
       "      <td>-0.766618</td>\n",
       "      <td>3</td>\n",
       "      <td>7</td>\n",
       "      <td>-1.045989</td>\n",
       "      <td>1.092907</td>\n",
       "      <td>-0.838941</td>\n",
       "      <td>-1.021687</td>\n",
       "      <td>0.500000</td>\n",
       "    </tr>\n",
       "  </tbody>\n",
       "</table>\n",
       "<p>13188 rows × 11 columns</p>\n",
       "</div>"
      ],
      "text/plain": [
       "           price  bedrooms  bathrooms  sqft_living  condition  grade  \\\n",
       "0       675000.0         4        1.0    -0.794290          4      7   \n",
       "1       920000.0         5        2.5     1.405668          3      7   \n",
       "2       311000.0         6        2.0     1.557867          3      7   \n",
       "5       625000.0         2        1.0    -0.780454          3      7   \n",
       "6      1317227.0         3        3.0     0.450969          4      9   \n",
       "...          ...       ...        ...          ...        ...    ...   \n",
       "30140  2650000.0         4        3.5     2.097479          4      9   \n",
       "30143   725000.0         3        1.0    -0.102479          3      7   \n",
       "30146   380000.0         3        1.0    -1.237049          4      6   \n",
       "30150  1555000.0         5        2.0     0.215754          4      8   \n",
       "30154   500000.0         3        1.5    -0.766618          3      7   \n",
       "\n",
       "       sqft_basement  sqft_garage  sqft_patio       age   bathbed  \n",
       "0          -1.045989    -0.795225   -0.633809 -1.228078  0.250000  \n",
       "1           1.783256    -0.795225    0.391853 -0.247719  0.500000  \n",
       "2           1.801276    -0.795225   -0.838941 -0.557306  0.333333  \n",
       "5          -1.045989     0.553441   -0.838941 -0.144523  0.500000  \n",
       "6          -1.045989    -0.795225   -0.069695 -0.299317  1.000000  \n",
       "...              ...          ...         ...       ...       ...  \n",
       "30140       0.864202    -0.795225   -0.633809  1.042227  0.875000  \n",
       "30143       0.539830     0.283708   -0.838941  0.835836  0.333333  \n",
       "30146      -1.045989    -0.795225   -0.838941 -0.092925  0.333333  \n",
       "30150       0.990346    -0.795225    0.238004  1.248619  0.400000  \n",
       "30154      -1.045989     1.092907   -0.838941 -1.021687  0.500000  \n",
       "\n",
       "[13188 rows x 11 columns]"
      ]
     },
     "execution_count": 161,
     "metadata": {},
     "output_type": "execute_result"
    }
   ],
   "source": [
    "#list for cols to scale\n",
    "cols_to_scale = ['sqft_living', 'sqft_basement', 'sqft_garage', 'sqft_patio', 'age']\n",
    "\n",
    "#create and fit scaler\n",
    "scaler = StandardScaler()\n",
    "scaler.fit(dflog[cols_to_scale])\n",
    "\n",
    "#scale selected data\n",
    "dflog[cols_to_scale] = scaler.transform(dflog[cols_to_scale])\n",
    "dflog\n"
   ]
  },
  {
   "cell_type": "markdown",
   "metadata": {},
   "source": [
    "## Good"
   ]
  },
  {
   "cell_type": "code",
   "execution_count": 162,
   "metadata": {},
   "outputs": [
    {
     "ename": "KeyError",
     "evalue": "\"['has_patio'] not found in axis\"",
     "output_type": "error",
     "traceback": [
      "\u001b[1;31m---------------------------------------------------------------------------\u001b[0m",
      "\u001b[1;31mKeyError\u001b[0m                                  Traceback (most recent call last)",
      "\u001b[1;32m<ipython-input-162-f99ffb769a1a>\u001b[0m in \u001b[0;36m<module>\u001b[1;34m\u001b[0m\n\u001b[0;32m      1\u001b[0m \u001b[0mtarget\u001b[0m \u001b[1;33m=\u001b[0m \u001b[0mdflog\u001b[0m\u001b[1;33m[\u001b[0m\u001b[1;34m'price'\u001b[0m\u001b[1;33m]\u001b[0m\u001b[1;33m\u001b[0m\u001b[1;33m\u001b[0m\u001b[0m\n\u001b[1;32m----> 2\u001b[1;33m \u001b[0mpredictors\u001b[0m \u001b[1;33m=\u001b[0m \u001b[0mdflog\u001b[0m\u001b[1;33m.\u001b[0m\u001b[0mdrop\u001b[0m\u001b[1;33m(\u001b[0m\u001b[1;33m[\u001b[0m\u001b[1;34m'price'\u001b[0m\u001b[1;33m,\u001b[0m \u001b[1;34m'condition'\u001b[0m\u001b[1;33m,\u001b[0m \u001b[1;34m'bedrooms'\u001b[0m\u001b[1;33m,\u001b[0m \u001b[1;34m'bathrooms'\u001b[0m\u001b[1;33m,\u001b[0m \u001b[1;34m'has_patio'\u001b[0m\u001b[1;33m]\u001b[0m\u001b[1;33m,\u001b[0m \u001b[0maxis\u001b[0m\u001b[1;33m=\u001b[0m\u001b[1;36m1\u001b[0m\u001b[1;33m)\u001b[0m\u001b[1;33m\u001b[0m\u001b[1;33m\u001b[0m\u001b[0m\n\u001b[0m\u001b[0;32m      3\u001b[0m \u001b[0mpredictors\u001b[0m \u001b[1;33m=\u001b[0m \u001b[0msm\u001b[0m\u001b[1;33m.\u001b[0m\u001b[0madd_constant\u001b[0m\u001b[1;33m(\u001b[0m\u001b[0mpredictors\u001b[0m\u001b[1;33m)\u001b[0m\u001b[1;33m\u001b[0m\u001b[1;33m\u001b[0m\u001b[0m\n\u001b[0;32m      4\u001b[0m \u001b[0mmodel\u001b[0m \u001b[1;33m=\u001b[0m \u001b[0msm\u001b[0m\u001b[1;33m.\u001b[0m\u001b[0mOLS\u001b[0m\u001b[1;33m(\u001b[0m\u001b[0mtarget\u001b[0m\u001b[1;33m,\u001b[0m \u001b[0mpredictors\u001b[0m\u001b[1;33m)\u001b[0m\u001b[1;33m.\u001b[0m\u001b[0mfit\u001b[0m\u001b[1;33m(\u001b[0m\u001b[1;33m)\u001b[0m\u001b[1;33m\u001b[0m\u001b[1;33m\u001b[0m\u001b[0m\n\u001b[0;32m      5\u001b[0m \u001b[0mmodel\u001b[0m\u001b[1;33m.\u001b[0m\u001b[0msummary\u001b[0m\u001b[1;33m(\u001b[0m\u001b[1;33m)\u001b[0m\u001b[1;33m\u001b[0m\u001b[1;33m\u001b[0m\u001b[0m\n",
      "\u001b[1;32m~\\anaconda3\\envs\\learn-env\\lib\\site-packages\\pandas\\core\\frame.py\u001b[0m in \u001b[0;36mdrop\u001b[1;34m(self, labels, axis, index, columns, level, inplace, errors)\u001b[0m\n\u001b[0;32m   4161\u001b[0m                 \u001b[0mweight\u001b[0m  \u001b[1;36m1.0\u001b[0m     \u001b[1;36m0.8\u001b[0m\u001b[1;33m\u001b[0m\u001b[1;33m\u001b[0m\u001b[0m\n\u001b[0;32m   4162\u001b[0m         \"\"\"\n\u001b[1;32m-> 4163\u001b[1;33m         return super().drop(\n\u001b[0m\u001b[0;32m   4164\u001b[0m             \u001b[0mlabels\u001b[0m\u001b[1;33m=\u001b[0m\u001b[0mlabels\u001b[0m\u001b[1;33m,\u001b[0m\u001b[1;33m\u001b[0m\u001b[1;33m\u001b[0m\u001b[0m\n\u001b[0;32m   4165\u001b[0m             \u001b[0maxis\u001b[0m\u001b[1;33m=\u001b[0m\u001b[0maxis\u001b[0m\u001b[1;33m,\u001b[0m\u001b[1;33m\u001b[0m\u001b[1;33m\u001b[0m\u001b[0m\n",
      "\u001b[1;32m~\\anaconda3\\envs\\learn-env\\lib\\site-packages\\pandas\\core\\generic.py\u001b[0m in \u001b[0;36mdrop\u001b[1;34m(self, labels, axis, index, columns, level, inplace, errors)\u001b[0m\n\u001b[0;32m   3885\u001b[0m         \u001b[1;32mfor\u001b[0m \u001b[0maxis\u001b[0m\u001b[1;33m,\u001b[0m \u001b[0mlabels\u001b[0m \u001b[1;32min\u001b[0m \u001b[0maxes\u001b[0m\u001b[1;33m.\u001b[0m\u001b[0mitems\u001b[0m\u001b[1;33m(\u001b[0m\u001b[1;33m)\u001b[0m\u001b[1;33m:\u001b[0m\u001b[1;33m\u001b[0m\u001b[1;33m\u001b[0m\u001b[0m\n\u001b[0;32m   3886\u001b[0m             \u001b[1;32mif\u001b[0m \u001b[0mlabels\u001b[0m \u001b[1;32mis\u001b[0m \u001b[1;32mnot\u001b[0m \u001b[1;32mNone\u001b[0m\u001b[1;33m:\u001b[0m\u001b[1;33m\u001b[0m\u001b[1;33m\u001b[0m\u001b[0m\n\u001b[1;32m-> 3887\u001b[1;33m                 \u001b[0mobj\u001b[0m \u001b[1;33m=\u001b[0m \u001b[0mobj\u001b[0m\u001b[1;33m.\u001b[0m\u001b[0m_drop_axis\u001b[0m\u001b[1;33m(\u001b[0m\u001b[0mlabels\u001b[0m\u001b[1;33m,\u001b[0m \u001b[0maxis\u001b[0m\u001b[1;33m,\u001b[0m \u001b[0mlevel\u001b[0m\u001b[1;33m=\u001b[0m\u001b[0mlevel\u001b[0m\u001b[1;33m,\u001b[0m \u001b[0merrors\u001b[0m\u001b[1;33m=\u001b[0m\u001b[0merrors\u001b[0m\u001b[1;33m)\u001b[0m\u001b[1;33m\u001b[0m\u001b[1;33m\u001b[0m\u001b[0m\n\u001b[0m\u001b[0;32m   3888\u001b[0m \u001b[1;33m\u001b[0m\u001b[0m\n\u001b[0;32m   3889\u001b[0m         \u001b[1;32mif\u001b[0m \u001b[0minplace\u001b[0m\u001b[1;33m:\u001b[0m\u001b[1;33m\u001b[0m\u001b[1;33m\u001b[0m\u001b[0m\n",
      "\u001b[1;32m~\\anaconda3\\envs\\learn-env\\lib\\site-packages\\pandas\\core\\generic.py\u001b[0m in \u001b[0;36m_drop_axis\u001b[1;34m(self, labels, axis, level, errors)\u001b[0m\n\u001b[0;32m   3919\u001b[0m                 \u001b[0mnew_axis\u001b[0m \u001b[1;33m=\u001b[0m \u001b[0maxis\u001b[0m\u001b[1;33m.\u001b[0m\u001b[0mdrop\u001b[0m\u001b[1;33m(\u001b[0m\u001b[0mlabels\u001b[0m\u001b[1;33m,\u001b[0m \u001b[0mlevel\u001b[0m\u001b[1;33m=\u001b[0m\u001b[0mlevel\u001b[0m\u001b[1;33m,\u001b[0m \u001b[0merrors\u001b[0m\u001b[1;33m=\u001b[0m\u001b[0merrors\u001b[0m\u001b[1;33m)\u001b[0m\u001b[1;33m\u001b[0m\u001b[1;33m\u001b[0m\u001b[0m\n\u001b[0;32m   3920\u001b[0m             \u001b[1;32melse\u001b[0m\u001b[1;33m:\u001b[0m\u001b[1;33m\u001b[0m\u001b[1;33m\u001b[0m\u001b[0m\n\u001b[1;32m-> 3921\u001b[1;33m                 \u001b[0mnew_axis\u001b[0m \u001b[1;33m=\u001b[0m \u001b[0maxis\u001b[0m\u001b[1;33m.\u001b[0m\u001b[0mdrop\u001b[0m\u001b[1;33m(\u001b[0m\u001b[0mlabels\u001b[0m\u001b[1;33m,\u001b[0m \u001b[0merrors\u001b[0m\u001b[1;33m=\u001b[0m\u001b[0merrors\u001b[0m\u001b[1;33m)\u001b[0m\u001b[1;33m\u001b[0m\u001b[1;33m\u001b[0m\u001b[0m\n\u001b[0m\u001b[0;32m   3922\u001b[0m             \u001b[0mresult\u001b[0m \u001b[1;33m=\u001b[0m \u001b[0mself\u001b[0m\u001b[1;33m.\u001b[0m\u001b[0mreindex\u001b[0m\u001b[1;33m(\u001b[0m\u001b[1;33m**\u001b[0m\u001b[1;33m{\u001b[0m\u001b[0maxis_name\u001b[0m\u001b[1;33m:\u001b[0m \u001b[0mnew_axis\u001b[0m\u001b[1;33m}\u001b[0m\u001b[1;33m)\u001b[0m\u001b[1;33m\u001b[0m\u001b[1;33m\u001b[0m\u001b[0m\n\u001b[0;32m   3923\u001b[0m \u001b[1;33m\u001b[0m\u001b[0m\n",
      "\u001b[1;32m~\\anaconda3\\envs\\learn-env\\lib\\site-packages\\pandas\\core\\indexes\\base.py\u001b[0m in \u001b[0;36mdrop\u001b[1;34m(self, labels, errors)\u001b[0m\n\u001b[0;32m   5280\u001b[0m         \u001b[1;32mif\u001b[0m \u001b[0mmask\u001b[0m\u001b[1;33m.\u001b[0m\u001b[0many\u001b[0m\u001b[1;33m(\u001b[0m\u001b[1;33m)\u001b[0m\u001b[1;33m:\u001b[0m\u001b[1;33m\u001b[0m\u001b[1;33m\u001b[0m\u001b[0m\n\u001b[0;32m   5281\u001b[0m             \u001b[1;32mif\u001b[0m \u001b[0merrors\u001b[0m \u001b[1;33m!=\u001b[0m \u001b[1;34m\"ignore\"\u001b[0m\u001b[1;33m:\u001b[0m\u001b[1;33m\u001b[0m\u001b[1;33m\u001b[0m\u001b[0m\n\u001b[1;32m-> 5282\u001b[1;33m                 \u001b[1;32mraise\u001b[0m \u001b[0mKeyError\u001b[0m\u001b[1;33m(\u001b[0m\u001b[1;34mf\"{labels[mask]} not found in axis\"\u001b[0m\u001b[1;33m)\u001b[0m\u001b[1;33m\u001b[0m\u001b[1;33m\u001b[0m\u001b[0m\n\u001b[0m\u001b[0;32m   5283\u001b[0m             \u001b[0mindexer\u001b[0m \u001b[1;33m=\u001b[0m \u001b[0mindexer\u001b[0m\u001b[1;33m[\u001b[0m\u001b[1;33m~\u001b[0m\u001b[0mmask\u001b[0m\u001b[1;33m]\u001b[0m\u001b[1;33m\u001b[0m\u001b[1;33m\u001b[0m\u001b[0m\n\u001b[0;32m   5284\u001b[0m         \u001b[1;32mreturn\u001b[0m \u001b[0mself\u001b[0m\u001b[1;33m.\u001b[0m\u001b[0mdelete\u001b[0m\u001b[1;33m(\u001b[0m\u001b[0mindexer\u001b[0m\u001b[1;33m)\u001b[0m\u001b[1;33m\u001b[0m\u001b[1;33m\u001b[0m\u001b[0m\n",
      "\u001b[1;31mKeyError\u001b[0m: \"['has_patio'] not found in axis\""
     ]
    }
   ],
   "source": [
    "target = dflog['price']\n",
    "predictors = dflog.drop(['price', 'condition', 'bedrooms', 'bathrooms', 'has_patio'], axis=1)\n",
    "predictors = sm.add_constant(predictors)\n",
    "model = sm.OLS(target, predictors).fit()\n",
    "model.summary()"
   ]
  },
  {
   "cell_type": "code",
   "execution_count": null,
   "metadata": {},
   "outputs": [],
   "source": [
    "formula = \"price ~ bathbed\"\n",
    "all_mod = ols(formula=formula, data=dflog).fit()\n",
    "all_mod_summ = all_mod.summary()\n",
    "all_mod_summ"
   ]
  },
  {
   "cell_type": "code",
   "execution_count": null,
   "metadata": {},
   "outputs": [],
   "source": []
  }
 ],
 "metadata": {
  "kernelspec": {
   "display_name": "Python (learn-env)",
   "language": "python",
   "name": "learn-env"
  },
  "language_info": {
   "codemirror_mode": {
    "name": "ipython",
    "version": 3
   },
   "file_extension": ".py",
   "mimetype": "text/x-python",
   "name": "python",
   "nbconvert_exporter": "python",
   "pygments_lexer": "ipython3",
   "version": "3.8.5"
  }
 },
 "nbformat": 4,
 "nbformat_minor": 4
}
