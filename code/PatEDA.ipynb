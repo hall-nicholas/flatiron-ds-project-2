{
 "cells": [
  {
   "cell_type": "markdown",
   "metadata": {},
   "source": [
    "## Resources"
   ]
  },
  {
   "cell_type": "code",
   "execution_count": 352,
   "metadata": {},
   "outputs": [],
   "source": [
    "import matplotlib.pyplot as plt\n",
    "plt.style.use('seaborn')\n",
    "import numpy as np\n",
    "import pandas as pd\n",
    "import scipy.stats as stats\n",
    "import seaborn as sns\n",
    "import statsmodels.api as sm\n",
    "from statsmodels.formula.api import ols\n",
    "from sklearn.preprocessing import StandardScaler, OneHotEncoder, OrdinalEncoder\n",
    "from sklearn.linear_model import LinearRegression\n",
    "import matplotlib.ticker as ticker"
   ]
  },
  {
   "cell_type": "code",
   "execution_count": 312,
   "metadata": {},
   "outputs": [
    {
     "data": {
      "text/html": [
       "<div>\n",
       "<style scoped>\n",
       "    .dataframe tbody tr th:only-of-type {\n",
       "        vertical-align: middle;\n",
       "    }\n",
       "\n",
       "    .dataframe tbody tr th {\n",
       "        vertical-align: top;\n",
       "    }\n",
       "\n",
       "    .dataframe thead th {\n",
       "        text-align: right;\n",
       "    }\n",
       "</style>\n",
       "<table border=\"1\" class=\"dataframe\">\n",
       "  <thead>\n",
       "    <tr style=\"text-align: right;\">\n",
       "      <th></th>\n",
       "      <th>id</th>\n",
       "      <th>date</th>\n",
       "      <th>price</th>\n",
       "      <th>bedrooms</th>\n",
       "      <th>bathrooms</th>\n",
       "      <th>sqft_living</th>\n",
       "      <th>sqft_lot</th>\n",
       "      <th>floors</th>\n",
       "      <th>waterfront</th>\n",
       "      <th>greenbelt</th>\n",
       "      <th>...</th>\n",
       "      <th>sqft_basement</th>\n",
       "      <th>sqft_garage</th>\n",
       "      <th>sqft_patio</th>\n",
       "      <th>yr_built</th>\n",
       "      <th>yr_renovated</th>\n",
       "      <th>address</th>\n",
       "      <th>lat</th>\n",
       "      <th>long</th>\n",
       "      <th>age</th>\n",
       "      <th>bath_to_bed</th>\n",
       "    </tr>\n",
       "  </thead>\n",
       "  <tbody>\n",
       "    <tr>\n",
       "      <th>0</th>\n",
       "      <td>7399300360</td>\n",
       "      <td>5/24/2022</td>\n",
       "      <td>675000.0</td>\n",
       "      <td>4</td>\n",
       "      <td>1.0</td>\n",
       "      <td>1180</td>\n",
       "      <td>7140</td>\n",
       "      <td>1.0</td>\n",
       "      <td>NO</td>\n",
       "      <td>NO</td>\n",
       "      <td>...</td>\n",
       "      <td>0</td>\n",
       "      <td>0</td>\n",
       "      <td>40</td>\n",
       "      <td>1969</td>\n",
       "      <td>0</td>\n",
       "      <td>2102 Southeast 21st Court, Renton, Washington ...</td>\n",
       "      <td>47.461975</td>\n",
       "      <td>-122.19052</td>\n",
       "      <td>52</td>\n",
       "      <td>0.250000</td>\n",
       "    </tr>\n",
       "    <tr>\n",
       "      <th>1</th>\n",
       "      <td>8910500230</td>\n",
       "      <td>12/13/2021</td>\n",
       "      <td>920000.0</td>\n",
       "      <td>5</td>\n",
       "      <td>2.5</td>\n",
       "      <td>2770</td>\n",
       "      <td>6703</td>\n",
       "      <td>1.0</td>\n",
       "      <td>NO</td>\n",
       "      <td>NO</td>\n",
       "      <td>...</td>\n",
       "      <td>1570</td>\n",
       "      <td>0</td>\n",
       "      <td>240</td>\n",
       "      <td>1950</td>\n",
       "      <td>0</td>\n",
       "      <td>11231 Greenwood Avenue North, Seattle, Washing...</td>\n",
       "      <td>47.711525</td>\n",
       "      <td>-122.35591</td>\n",
       "      <td>71</td>\n",
       "      <td>0.500000</td>\n",
       "    </tr>\n",
       "    <tr>\n",
       "      <th>2</th>\n",
       "      <td>1180000275</td>\n",
       "      <td>9/29/2021</td>\n",
       "      <td>311000.0</td>\n",
       "      <td>6</td>\n",
       "      <td>2.0</td>\n",
       "      <td>2880</td>\n",
       "      <td>6156</td>\n",
       "      <td>1.0</td>\n",
       "      <td>NO</td>\n",
       "      <td>NO</td>\n",
       "      <td>...</td>\n",
       "      <td>1580</td>\n",
       "      <td>0</td>\n",
       "      <td>0</td>\n",
       "      <td>1956</td>\n",
       "      <td>0</td>\n",
       "      <td>8504 South 113th Street, Seattle, Washington 9...</td>\n",
       "      <td>47.502045</td>\n",
       "      <td>-122.22520</td>\n",
       "      <td>65</td>\n",
       "      <td>0.333333</td>\n",
       "    </tr>\n",
       "    <tr>\n",
       "      <th>3</th>\n",
       "      <td>1604601802</td>\n",
       "      <td>12/14/2021</td>\n",
       "      <td>775000.0</td>\n",
       "      <td>3</td>\n",
       "      <td>3.0</td>\n",
       "      <td>2160</td>\n",
       "      <td>1400</td>\n",
       "      <td>2.0</td>\n",
       "      <td>NO</td>\n",
       "      <td>NO</td>\n",
       "      <td>...</td>\n",
       "      <td>1070</td>\n",
       "      <td>200</td>\n",
       "      <td>270</td>\n",
       "      <td>2010</td>\n",
       "      <td>0</td>\n",
       "      <td>4079 Letitia Avenue South, Seattle, Washington...</td>\n",
       "      <td>47.566110</td>\n",
       "      <td>-122.29020</td>\n",
       "      <td>11</td>\n",
       "      <td>1.000000</td>\n",
       "    </tr>\n",
       "    <tr>\n",
       "      <th>4</th>\n",
       "      <td>8562780790</td>\n",
       "      <td>8/24/2021</td>\n",
       "      <td>592500.0</td>\n",
       "      <td>2</td>\n",
       "      <td>2.0</td>\n",
       "      <td>1120</td>\n",
       "      <td>758</td>\n",
       "      <td>2.0</td>\n",
       "      <td>NO</td>\n",
       "      <td>NO</td>\n",
       "      <td>...</td>\n",
       "      <td>550</td>\n",
       "      <td>550</td>\n",
       "      <td>30</td>\n",
       "      <td>2012</td>\n",
       "      <td>0</td>\n",
       "      <td>2193 Northwest Talus Drive, Issaquah, Washingt...</td>\n",
       "      <td>47.532470</td>\n",
       "      <td>-122.07188</td>\n",
       "      <td>9</td>\n",
       "      <td>1.000000</td>\n",
       "    </tr>\n",
       "  </tbody>\n",
       "</table>\n",
       "<p>5 rows × 27 columns</p>\n",
       "</div>"
      ],
      "text/plain": [
       "           id        date     price  bedrooms  bathrooms  sqft_living  \\\n",
       "0  7399300360   5/24/2022  675000.0         4        1.0         1180   \n",
       "1  8910500230  12/13/2021  920000.0         5        2.5         2770   \n",
       "2  1180000275   9/29/2021  311000.0         6        2.0         2880   \n",
       "3  1604601802  12/14/2021  775000.0         3        3.0         2160   \n",
       "4  8562780790   8/24/2021  592500.0         2        2.0         1120   \n",
       "\n",
       "   sqft_lot  floors waterfront greenbelt  ... sqft_basement sqft_garage  \\\n",
       "0      7140     1.0         NO        NO  ...             0           0   \n",
       "1      6703     1.0         NO        NO  ...          1570           0   \n",
       "2      6156     1.0         NO        NO  ...          1580           0   \n",
       "3      1400     2.0         NO        NO  ...          1070         200   \n",
       "4       758     2.0         NO        NO  ...           550         550   \n",
       "\n",
       "   sqft_patio  yr_built yr_renovated  \\\n",
       "0          40      1969            0   \n",
       "1         240      1950            0   \n",
       "2           0      1956            0   \n",
       "3         270      2010            0   \n",
       "4          30      2012            0   \n",
       "\n",
       "                                             address        lat       long  \\\n",
       "0  2102 Southeast 21st Court, Renton, Washington ...  47.461975 -122.19052   \n",
       "1  11231 Greenwood Avenue North, Seattle, Washing...  47.711525 -122.35591   \n",
       "2  8504 South 113th Street, Seattle, Washington 9...  47.502045 -122.22520   \n",
       "3  4079 Letitia Avenue South, Seattle, Washington...  47.566110 -122.29020   \n",
       "4  2193 Northwest Talus Drive, Issaquah, Washingt...  47.532470 -122.07188   \n",
       "\n",
       "   age  bath_to_bed  \n",
       "0   52     0.250000  \n",
       "1   71     0.500000  \n",
       "2   65     0.333333  \n",
       "3   11     1.000000  \n",
       "4    9     1.000000  \n",
       "\n",
       "[5 rows x 27 columns]"
      ]
     },
     "execution_count": 312,
     "metadata": {},
     "output_type": "execute_result"
    }
   ],
   "source": [
    "import functions as fn\n",
    "\n",
    "# See functions.py to see how the data is cleaned\n",
    "\n",
    "df = fn.import_and_clean_data('../data/kc_house_data.csv')\n",
    "df.head()"
   ]
  },
  {
   "cell_type": "markdown",
   "metadata": {},
   "source": [
    "## EDA"
   ]
  },
  {
   "cell_type": "code",
   "execution_count": 313,
   "metadata": {},
   "outputs": [
    {
     "data": {
      "text/plain": [
       "Index(['id', 'date', 'price', 'bedrooms', 'bathrooms', 'sqft_living',\n",
       "       'sqft_lot', 'floors', 'waterfront', 'greenbelt', 'nuisance', 'view',\n",
       "       'condition', 'grade', 'heat_source', 'sewer_system', 'sqft_above',\n",
       "       'sqft_basement', 'sqft_garage', 'sqft_patio', 'yr_built',\n",
       "       'yr_renovated', 'address', 'lat', 'long', 'age', 'bath_to_bed'],\n",
       "      dtype='object')"
      ]
     },
     "execution_count": 313,
     "metadata": {},
     "output_type": "execute_result"
    }
   ],
   "source": [
    "df.columns"
   ]
  },
  {
   "cell_type": "code",
   "execution_count": 314,
   "metadata": {},
   "outputs": [
    {
     "name": "stdout",
     "output_type": "stream",
     "text": [
      "<class 'pandas.core.frame.DataFrame'>\n",
      "Int64Index: 28959 entries, 0 to 30154\n",
      "Data columns (total 27 columns):\n",
      " #   Column         Non-Null Count  Dtype  \n",
      "---  ------         --------------  -----  \n",
      " 0   id             28959 non-null  int64  \n",
      " 1   date           28959 non-null  object \n",
      " 2   price          28959 non-null  float64\n",
      " 3   bedrooms       28959 non-null  int64  \n",
      " 4   bathrooms      28959 non-null  float64\n",
      " 5   sqft_living    28959 non-null  int64  \n",
      " 6   sqft_lot       28959 non-null  int64  \n",
      " 7   floors         28959 non-null  float64\n",
      " 8   waterfront     28959 non-null  object \n",
      " 9   greenbelt      28959 non-null  object \n",
      " 10  nuisance       28959 non-null  object \n",
      " 11  view           28959 non-null  object \n",
      " 12  condition      28959 non-null  int64  \n",
      " 13  grade          28959 non-null  int64  \n",
      " 14  heat_source    28959 non-null  object \n",
      " 15  sewer_system   28959 non-null  object \n",
      " 16  sqft_above     28959 non-null  int64  \n",
      " 17  sqft_basement  28959 non-null  int64  \n",
      " 18  sqft_garage    28959 non-null  int64  \n",
      " 19  sqft_patio     28959 non-null  int64  \n",
      " 20  yr_built       28959 non-null  int64  \n",
      " 21  yr_renovated   28959 non-null  int64  \n",
      " 22  address        28959 non-null  object \n",
      " 23  lat            28959 non-null  float64\n",
      " 24  long           28959 non-null  float64\n",
      " 25  age            28959 non-null  int64  \n",
      " 26  bath_to_bed    28959 non-null  float64\n",
      "dtypes: float64(6), int64(13), object(8)\n",
      "memory usage: 6.2+ MB\n"
     ]
    }
   ],
   "source": [
    "df.info()"
   ]
  },
  {
   "cell_type": "code",
   "execution_count": 315,
   "metadata": {},
   "outputs": [
    {
     "data": {
      "text/html": [
       "<div>\n",
       "<style scoped>\n",
       "    .dataframe tbody tr th:only-of-type {\n",
       "        vertical-align: middle;\n",
       "    }\n",
       "\n",
       "    .dataframe tbody tr th {\n",
       "        vertical-align: top;\n",
       "    }\n",
       "\n",
       "    .dataframe thead th {\n",
       "        text-align: right;\n",
       "    }\n",
       "</style>\n",
       "<table border=\"1\" class=\"dataframe\">\n",
       "  <thead>\n",
       "    <tr style=\"text-align: right;\">\n",
       "      <th></th>\n",
       "      <th>id</th>\n",
       "      <th>price</th>\n",
       "      <th>bedrooms</th>\n",
       "      <th>bathrooms</th>\n",
       "      <th>sqft_living</th>\n",
       "      <th>sqft_lot</th>\n",
       "      <th>floors</th>\n",
       "      <th>condition</th>\n",
       "      <th>grade</th>\n",
       "      <th>sqft_above</th>\n",
       "      <th>sqft_basement</th>\n",
       "      <th>sqft_garage</th>\n",
       "      <th>sqft_patio</th>\n",
       "      <th>yr_built</th>\n",
       "      <th>yr_renovated</th>\n",
       "      <th>lat</th>\n",
       "      <th>long</th>\n",
       "      <th>age</th>\n",
       "      <th>bath_to_bed</th>\n",
       "    </tr>\n",
       "  </thead>\n",
       "  <tbody>\n",
       "    <tr>\n",
       "      <th>count</th>\n",
       "      <td>2.895900e+04</td>\n",
       "      <td>2.895900e+04</td>\n",
       "      <td>28959.000000</td>\n",
       "      <td>28959.000000</td>\n",
       "      <td>28959.000000</td>\n",
       "      <td>28959.000000</td>\n",
       "      <td>28959.000000</td>\n",
       "      <td>28959.000000</td>\n",
       "      <td>28959.000000</td>\n",
       "      <td>28959.000000</td>\n",
       "      <td>28959.000000</td>\n",
       "      <td>28959.000000</td>\n",
       "      <td>28959.000000</td>\n",
       "      <td>28959.000000</td>\n",
       "      <td>28959.000000</td>\n",
       "      <td>28959.000000</td>\n",
       "      <td>28959.000000</td>\n",
       "      <td>28959.000000</td>\n",
       "      <td>28959.000000</td>\n",
       "    </tr>\n",
       "    <tr>\n",
       "      <th>mean</th>\n",
       "      <td>4.583861e+09</td>\n",
       "      <td>1.051138e+06</td>\n",
       "      <td>3.389344</td>\n",
       "      <td>2.289910</td>\n",
       "      <td>2037.981629</td>\n",
       "      <td>11570.077972</td>\n",
       "      <td>1.540108</td>\n",
       "      <td>3.473739</td>\n",
       "      <td>7.591630</td>\n",
       "      <td>1754.269346</td>\n",
       "      <td>452.054456</td>\n",
       "      <td>315.158431</td>\n",
       "      <td>198.305466</td>\n",
       "      <td>1974.763528</td>\n",
       "      <td>88.322180</td>\n",
       "      <td>47.321251</td>\n",
       "      <td>-121.290675</td>\n",
       "      <td>46.236472</td>\n",
       "      <td>0.691836</td>\n",
       "    </tr>\n",
       "    <tr>\n",
       "      <th>std</th>\n",
       "      <td>2.882613e+09</td>\n",
       "      <td>7.233138e+05</td>\n",
       "      <td>0.961320</td>\n",
       "      <td>0.828525</td>\n",
       "      <td>841.673375</td>\n",
       "      <td>20406.186603</td>\n",
       "      <td>0.569324</td>\n",
       "      <td>0.702963</td>\n",
       "      <td>1.068168</td>\n",
       "      <td>791.055170</td>\n",
       "      <td>535.663377</td>\n",
       "      <td>261.715858</td>\n",
       "      <td>204.128819</td>\n",
       "      <td>32.200530</td>\n",
       "      <td>410.739076</td>\n",
       "      <td>1.458032</td>\n",
       "      <td>5.823823</td>\n",
       "      <td>32.200530</td>\n",
       "      <td>0.226852</td>\n",
       "    </tr>\n",
       "    <tr>\n",
       "      <th>min</th>\n",
       "      <td>1.000055e+06</td>\n",
       "      <td>2.736000e+04</td>\n",
       "      <td>0.000000</td>\n",
       "      <td>0.000000</td>\n",
       "      <td>260.000000</td>\n",
       "      <td>402.000000</td>\n",
       "      <td>1.000000</td>\n",
       "      <td>1.000000</td>\n",
       "      <td>2.000000</td>\n",
       "      <td>260.000000</td>\n",
       "      <td>0.000000</td>\n",
       "      <td>0.000000</td>\n",
       "      <td>0.000000</td>\n",
       "      <td>1900.000000</td>\n",
       "      <td>0.000000</td>\n",
       "      <td>21.274240</td>\n",
       "      <td>-157.791480</td>\n",
       "      <td>-1.000000</td>\n",
       "      <td>0.000000</td>\n",
       "    </tr>\n",
       "    <tr>\n",
       "      <th>25%</th>\n",
       "      <td>2.126049e+09</td>\n",
       "      <td>6.400000e+05</td>\n",
       "      <td>3.000000</td>\n",
       "      <td>2.000000</td>\n",
       "      <td>1400.000000</td>\n",
       "      <td>4766.500000</td>\n",
       "      <td>1.000000</td>\n",
       "      <td>3.000000</td>\n",
       "      <td>7.000000</td>\n",
       "      <td>1170.000000</td>\n",
       "      <td>0.000000</td>\n",
       "      <td>0.000000</td>\n",
       "      <td>40.000000</td>\n",
       "      <td>1952.000000</td>\n",
       "      <td>0.000000</td>\n",
       "      <td>47.404870</td>\n",
       "      <td>-122.327988</td>\n",
       "      <td>18.000000</td>\n",
       "      <td>0.500000</td>\n",
       "    </tr>\n",
       "    <tr>\n",
       "      <th>50%</th>\n",
       "      <td>3.901000e+09</td>\n",
       "      <td>8.500000e+05</td>\n",
       "      <td>3.000000</td>\n",
       "      <td>2.500000</td>\n",
       "      <td>1890.000000</td>\n",
       "      <td>7318.000000</td>\n",
       "      <td>1.500000</td>\n",
       "      <td>3.000000</td>\n",
       "      <td>7.000000</td>\n",
       "      <td>1530.000000</td>\n",
       "      <td>0.000000</td>\n",
       "      <td>380.000000</td>\n",
       "      <td>140.000000</td>\n",
       "      <td>1977.000000</td>\n",
       "      <td>0.000000</td>\n",
       "      <td>47.551060</td>\n",
       "      <td>-122.231760</td>\n",
       "      <td>44.000000</td>\n",
       "      <td>0.666667</td>\n",
       "    </tr>\n",
       "    <tr>\n",
       "      <th>75%</th>\n",
       "      <td>7.308000e+09</td>\n",
       "      <td>1.261000e+06</td>\n",
       "      <td>4.000000</td>\n",
       "      <td>2.500000</td>\n",
       "      <td>2540.000000</td>\n",
       "      <td>10092.500000</td>\n",
       "      <td>2.000000</td>\n",
       "      <td>4.000000</td>\n",
       "      <td>8.000000</td>\n",
       "      <td>2200.000000</td>\n",
       "      <td>920.000000</td>\n",
       "      <td>500.000000</td>\n",
       "      <td>300.000000</td>\n",
       "      <td>2003.000000</td>\n",
       "      <td>0.000000</td>\n",
       "      <td>47.670560</td>\n",
       "      <td>-122.120488</td>\n",
       "      <td>69.000000</td>\n",
       "      <td>0.833333</td>\n",
       "    </tr>\n",
       "    <tr>\n",
       "      <th>max</th>\n",
       "      <td>9.904000e+09</td>\n",
       "      <td>3.075000e+07</td>\n",
       "      <td>11.000000</td>\n",
       "      <td>7.500000</td>\n",
       "      <td>5140.000000</td>\n",
       "      <td>218226.000000</td>\n",
       "      <td>4.000000</td>\n",
       "      <td>5.000000</td>\n",
       "      <td>12.000000</td>\n",
       "      <td>5500.000000</td>\n",
       "      <td>2010.000000</td>\n",
       "      <td>1060.000000</td>\n",
       "      <td>1070.000000</td>\n",
       "      <td>2022.000000</td>\n",
       "      <td>2022.000000</td>\n",
       "      <td>64.824070</td>\n",
       "      <td>-70.074340</td>\n",
       "      <td>121.000000</td>\n",
       "      <td>4.500000</td>\n",
       "    </tr>\n",
       "  </tbody>\n",
       "</table>\n",
       "</div>"
      ],
      "text/plain": [
       "                 id         price      bedrooms     bathrooms   sqft_living  \\\n",
       "count  2.895900e+04  2.895900e+04  28959.000000  28959.000000  28959.000000   \n",
       "mean   4.583861e+09  1.051138e+06      3.389344      2.289910   2037.981629   \n",
       "std    2.882613e+09  7.233138e+05      0.961320      0.828525    841.673375   \n",
       "min    1.000055e+06  2.736000e+04      0.000000      0.000000    260.000000   \n",
       "25%    2.126049e+09  6.400000e+05      3.000000      2.000000   1400.000000   \n",
       "50%    3.901000e+09  8.500000e+05      3.000000      2.500000   1890.000000   \n",
       "75%    7.308000e+09  1.261000e+06      4.000000      2.500000   2540.000000   \n",
       "max    9.904000e+09  3.075000e+07     11.000000      7.500000   5140.000000   \n",
       "\n",
       "            sqft_lot        floors     condition         grade    sqft_above  \\\n",
       "count   28959.000000  28959.000000  28959.000000  28959.000000  28959.000000   \n",
       "mean    11570.077972      1.540108      3.473739      7.591630   1754.269346   \n",
       "std     20406.186603      0.569324      0.702963      1.068168    791.055170   \n",
       "min       402.000000      1.000000      1.000000      2.000000    260.000000   \n",
       "25%      4766.500000      1.000000      3.000000      7.000000   1170.000000   \n",
       "50%      7318.000000      1.500000      3.000000      7.000000   1530.000000   \n",
       "75%     10092.500000      2.000000      4.000000      8.000000   2200.000000   \n",
       "max    218226.000000      4.000000      5.000000     12.000000   5500.000000   \n",
       "\n",
       "       sqft_basement   sqft_garage    sqft_patio      yr_built  yr_renovated  \\\n",
       "count   28959.000000  28959.000000  28959.000000  28959.000000  28959.000000   \n",
       "mean      452.054456    315.158431    198.305466   1974.763528     88.322180   \n",
       "std       535.663377    261.715858    204.128819     32.200530    410.739076   \n",
       "min         0.000000      0.000000      0.000000   1900.000000      0.000000   \n",
       "25%         0.000000      0.000000     40.000000   1952.000000      0.000000   \n",
       "50%         0.000000    380.000000    140.000000   1977.000000      0.000000   \n",
       "75%       920.000000    500.000000    300.000000   2003.000000      0.000000   \n",
       "max      2010.000000   1060.000000   1070.000000   2022.000000   2022.000000   \n",
       "\n",
       "                lat          long           age   bath_to_bed  \n",
       "count  28959.000000  28959.000000  28959.000000  28959.000000  \n",
       "mean      47.321251   -121.290675     46.236472      0.691836  \n",
       "std        1.458032      5.823823     32.200530      0.226852  \n",
       "min       21.274240   -157.791480     -1.000000      0.000000  \n",
       "25%       47.404870   -122.327988     18.000000      0.500000  \n",
       "50%       47.551060   -122.231760     44.000000      0.666667  \n",
       "75%       47.670560   -122.120488     69.000000      0.833333  \n",
       "max       64.824070    -70.074340    121.000000      4.500000  "
      ]
     },
     "execution_count": 315,
     "metadata": {},
     "output_type": "execute_result"
    }
   ],
   "source": [
    "df.describe()"
   ]
  },
  {
   "cell_type": "code",
   "execution_count": 316,
   "metadata": {},
   "outputs": [
    {
     "data": {
      "text/plain": [
       "id               0\n",
       "date             0\n",
       "price            0\n",
       "bedrooms         0\n",
       "bathrooms        0\n",
       "sqft_living      0\n",
       "sqft_lot         0\n",
       "floors           0\n",
       "waterfront       0\n",
       "greenbelt        0\n",
       "nuisance         0\n",
       "view             0\n",
       "condition        0\n",
       "grade            0\n",
       "heat_source      0\n",
       "sewer_system     0\n",
       "sqft_above       0\n",
       "sqft_basement    0\n",
       "sqft_garage      0\n",
       "sqft_patio       0\n",
       "yr_built         0\n",
       "yr_renovated     0\n",
       "address          0\n",
       "lat              0\n",
       "long             0\n",
       "age              0\n",
       "bath_to_bed      0\n",
       "dtype: int64"
      ]
     },
     "execution_count": 316,
     "metadata": {},
     "output_type": "execute_result"
    }
   ],
   "source": [
    "df.isna().sum()"
   ]
  },
  {
   "cell_type": "code",
   "execution_count": 317,
   "metadata": {},
   "outputs": [
    {
     "name": "stdout",
     "output_type": "stream",
     "text": [
      "9948     5140\n",
      "12350    5130\n",
      "11219    5130\n",
      "23258    5130\n",
      "20717    5130\n",
      "         ... \n",
      "11989     310\n",
      "23622     290\n",
      "8391      290\n",
      "5811      290\n",
      "8694      260\n",
      "Name: sqft_living, Length: 28959, dtype: int64\n"
     ]
    }
   ],
   "source": [
    "print(df['sqft_living'].sort_values(ascending = False))"
   ]
  },
  {
   "cell_type": "code",
   "execution_count": 318,
   "metadata": {},
   "outputs": [
    {
     "data": {
      "text/plain": [
       "<AxesSubplot:ylabel='Frequency'>"
      ]
     },
     "execution_count": 318,
     "metadata": {},
     "output_type": "execute_result"
    },
    {
     "data": {
      "image/png": "[encoded data removed]",
      "text/plain": [
       "<Figure size 576x396 with 1 Axes>"
      ]
     },
     "metadata": {},
     "output_type": "display_data"
    }
   ],
   "source": [
    "df['sqft_living'].plot(kind = 'hist', bins = 50)"
   ]
  },
  {
   "cell_type": "code",
   "execution_count": 319,
   "metadata": {},
   "outputs": [
    {
     "name": "stdout",
     "output_type": "stream",
     "text": [
      "329      218226\n",
      "1997     218171\n",
      "27403    217852\n",
      "28172    217800\n",
      "17782    217800\n",
      "          ...  \n",
      "1798        468\n",
      "3070        435\n",
      "12400       420\n",
      "8788        412\n",
      "16934       402\n",
      "Name: sqft_lot, Length: 28959, dtype: int64\n"
     ]
    }
   ],
   "source": [
    "print(df['sqft_lot'].sort_values(ascending = False))"
   ]
  },
  {
   "cell_type": "code",
   "execution_count": 320,
   "metadata": {},
   "outputs": [
    {
     "data": {
      "text/plain": [
       "<AxesSubplot:ylabel='Frequency'>"
      ]
     },
     "execution_count": 320,
     "metadata": {},
     "output_type": "execute_result"
    },
    {
     "data": {
      "image/png": "[encoded data removed]",
      "text/plain": [
       "<Figure size 576x396 with 1 Axes>"
      ]
     },
     "metadata": {},
     "output_type": "display_data"
    }
   ],
   "source": [
    "df['sqft_lot'].plot(kind = 'hist', bins = 50)"
   ]
  },
  {
   "cell_type": "code",
   "execution_count": 321,
   "metadata": {},
   "outputs": [
    {
     "name": "stdout",
     "output_type": "stream",
     "text": [
      "9884     11\n",
      "24101    10\n",
      "11826     9\n",
      "2536      9\n",
      "2155      9\n",
      "         ..\n",
      "18639     0\n",
      "17536     0\n",
      "20643     0\n",
      "1952      0\n",
      "573       0\n",
      "Name: bedrooms, Length: 28959, dtype: int64\n"
     ]
    }
   ],
   "source": [
    "print(df['bedrooms'].sort_values(ascending = False))"
   ]
  },
  {
   "cell_type": "code",
   "execution_count": 322,
   "metadata": {},
   "outputs": [
    {
     "data": {
      "text/plain": [
       "<AxesSubplot:ylabel='Frequency'>"
      ]
     },
     "execution_count": 322,
     "metadata": {},
     "output_type": "execute_result"
    },
    {
     "data": {
      "image/png": "[encoded data removed]",
      "text/plain": [
       "<Figure size 576x396 with 1 Axes>"
      ]
     },
     "metadata": {},
     "output_type": "display_data"
    }
   ],
   "source": [
    "df['bedrooms'].plot(kind = 'hist', bins = 10)"
   ]
  },
  {
   "cell_type": "code",
   "execution_count": 323,
   "metadata": {},
   "outputs": [
    {
     "name": "stdout",
     "output_type": "stream",
     "text": [
      "21623    7.5\n",
      "657      7.5\n",
      "1949     7.0\n",
      "21296    7.0\n",
      "24101    7.0\n",
      "        ... \n",
      "25994    0.0\n",
      "19920    0.0\n",
      "28508    0.0\n",
      "1289     0.0\n",
      "7545     0.0\n",
      "Name: bathrooms, Length: 28959, dtype: float64\n"
     ]
    }
   ],
   "source": [
    "print(df['bathrooms'].sort_values(ascending = False))"
   ]
  },
  {
   "cell_type": "code",
   "execution_count": 324,
   "metadata": {},
   "outputs": [
    {
     "data": {
      "text/plain": [
       "<AxesSubplot:ylabel='Frequency'>"
      ]
     },
     "execution_count": 324,
     "metadata": {},
     "output_type": "execute_result"
    },
    {
     "data": {
      "image/png": "[encoded data removed]",
      "text/plain": [
       "<Figure size 576x396 with 1 Axes>"
      ]
     },
     "metadata": {},
     "output_type": "display_data"
    }
   ],
   "source": [
    "df['bathrooms'].plot(kind = 'hist', bins = 10)"
   ]
  },
  {
   "cell_type": "code",
   "execution_count": 325,
   "metadata": {},
   "outputs": [
    {
     "name": "stdout",
     "output_type": "stream",
     "text": [
      "21199    5\n",
      "7311     5\n",
      "7313     5\n",
      "7314     5\n",
      "7316     5\n",
      "        ..\n",
      "23335    1\n",
      "7961     1\n",
      "8468     1\n",
      "11822    1\n",
      "17155    1\n",
      "Name: condition, Length: 28959, dtype: int64\n"
     ]
    }
   ],
   "source": [
    "print(df['condition'].sort_values(ascending = False))"
   ]
  },
  {
   "cell_type": "code",
   "execution_count": 326,
   "metadata": {},
   "outputs": [
    {
     "data": {
      "text/plain": [
       "<AxesSubplot:ylabel='Frequency'>"
      ]
     },
     "execution_count": 326,
     "metadata": {},
     "output_type": "execute_result"
    },
    {
     "data": {
      "image/png": "[encoded data removed]",
      "text/plain": [
       "<Figure size 576x396 with 1 Axes>"
      ]
     },
     "metadata": {},
     "output_type": "display_data"
    }
   ],
   "source": [
    "df['condition'].plot(kind = 'hist', bins = 5)"
   ]
  },
  {
   "cell_type": "code",
   "execution_count": 327,
   "metadata": {},
   "outputs": [
    {
     "name": "stdout",
     "output_type": "stream",
     "text": [
      "21009    12\n",
      "25829    12\n",
      "14339    12\n",
      "4890     12\n",
      "11249    12\n",
      "         ..\n",
      "14636     3\n",
      "29732     3\n",
      "8468      3\n",
      "21804     3\n",
      "30071     2\n",
      "Name: grade, Length: 28959, dtype: int64\n"
     ]
    }
   ],
   "source": [
    "print(df['grade'].sort_values(ascending = False))"
   ]
  },
  {
   "cell_type": "code",
   "execution_count": 328,
   "metadata": {},
   "outputs": [
    {
     "data": {
      "text/plain": [
       "<AxesSubplot:ylabel='Frequency'>"
      ]
     },
     "execution_count": 328,
     "metadata": {},
     "output_type": "execute_result"
    },
    {
     "data": {
      "image/png": "[encoded data removed]",
      "text/plain": [
       "<Figure size 576x396 with 1 Axes>"
      ]
     },
     "metadata": {},
     "output_type": "display_data"
    }
   ],
   "source": [
    "df['grade'].plot(kind = 'hist', bins = 10)"
   ]
  },
  {
   "cell_type": "code",
   "execution_count": 329,
   "metadata": {},
   "outputs": [
    {
     "name": "stdout",
     "output_type": "stream",
     "text": [
      "5984     2010\n",
      "28487    2010\n",
      "25748    2010\n",
      "16320    2010\n",
      "10786    2010\n",
      "         ... \n",
      "16994       0\n",
      "16998       0\n",
      "17001       0\n",
      "17005       0\n",
      "0           0\n",
      "Name: sqft_basement, Length: 28959, dtype: int64\n"
     ]
    }
   ],
   "source": [
    "print(df['sqft_basement'].sort_values(ascending = False))"
   ]
  },
  {
   "cell_type": "code",
   "execution_count": 330,
   "metadata": {},
   "outputs": [
    {
     "data": {
      "text/plain": [
       "<AxesSubplot:ylabel='Frequency'>"
      ]
     },
     "execution_count": 330,
     "metadata": {},
     "output_type": "execute_result"
    },
    {
     "data": {
      "image/png": "[encoded data removed]",
      "text/plain": [
       "<Figure size 576x396 with 1 Axes>"
      ]
     },
     "metadata": {},
     "output_type": "display_data"
    }
   ],
   "source": [
    "df['sqft_basement'].plot(kind = 'hist', bins = 50)"
   ]
  },
  {
   "cell_type": "code",
   "execution_count": 331,
   "metadata": {},
   "outputs": [
    {
     "name": "stdout",
     "output_type": "stream",
     "text": [
      "27705    1070\n",
      "29993    1070\n",
      "28847    1070\n",
      "2416     1070\n",
      "1997     1070\n",
      "         ... \n",
      "15935       0\n",
      "15932       0\n",
      "15931       0\n",
      "5156        0\n",
      "30154       0\n",
      "Name: sqft_patio, Length: 28959, dtype: int64\n"
     ]
    }
   ],
   "source": [
    "print(df['sqft_patio'].sort_values(ascending = False))"
   ]
  },
  {
   "cell_type": "code",
   "execution_count": 332,
   "metadata": {},
   "outputs": [
    {
     "data": {
      "text/plain": [
       "<AxesSubplot:ylabel='Frequency'>"
      ]
     },
     "execution_count": 332,
     "metadata": {},
     "output_type": "execute_result"
    },
    {
     "data": {
      "image/png": "[encoded data removed]",
      "text/plain": [
       "<Figure size 576x396 with 1 Axes>"
      ]
     },
     "metadata": {},
     "output_type": "display_data"
    }
   ],
   "source": [
    "df['sqft_patio'].plot(kind = 'hist', bins = 50)"
   ]
  },
  {
   "cell_type": "code",
   "execution_count": 333,
   "metadata": {},
   "outputs": [
    {
     "name": "stdout",
     "output_type": "stream",
     "text": [
      "24076    1060\n",
      "17435    1060\n",
      "16836    1060\n",
      "21272    1060\n",
      "5076     1060\n",
      "         ... \n",
      "9895        0\n",
      "22463       0\n",
      "22468       0\n",
      "9886        0\n",
      "0           0\n",
      "Name: sqft_garage, Length: 28959, dtype: int64\n"
     ]
    }
   ],
   "source": [
    "print(df['sqft_garage'].sort_values(ascending = False))"
   ]
  },
  {
   "cell_type": "code",
   "execution_count": 334,
   "metadata": {},
   "outputs": [
    {
     "data": {
      "text/plain": [
       "<AxesSubplot:ylabel='Frequency'>"
      ]
     },
     "execution_count": 334,
     "metadata": {},
     "output_type": "execute_result"
    },
    {
     "data": {
      "image/png": "[encoded data removed]",
      "text/plain": [
       "<Figure size 576x396 with 1 Axes>"
      ]
     },
     "metadata": {},
     "output_type": "display_data"
    }
   ],
   "source": [
    "df['sqft_garage'].plot(kind = 'hist', bins = 50)"
   ]
  },
  {
   "cell_type": "markdown",
   "metadata": {},
   "source": [
    "## Model Exploration"
   ]
  },
  {
   "cell_type": "code",
   "execution_count": 335,
   "metadata": {
    "scrolled": true
   },
   "outputs": [
    {
     "data": {
      "text/html": [
       "<div>\n",
       "<style scoped>\n",
       "    .dataframe tbody tr th:only-of-type {\n",
       "        vertical-align: middle;\n",
       "    }\n",
       "\n",
       "    .dataframe tbody tr th {\n",
       "        vertical-align: top;\n",
       "    }\n",
       "\n",
       "    .dataframe thead th {\n",
       "        text-align: right;\n",
       "    }\n",
       "</style>\n",
       "<table border=\"1\" class=\"dataframe\">\n",
       "  <thead>\n",
       "    <tr style=\"text-align: right;\">\n",
       "      <th></th>\n",
       "      <th>price</th>\n",
       "      <th>bedrooms</th>\n",
       "      <th>bathrooms</th>\n",
       "      <th>sqft_living</th>\n",
       "      <th>condition</th>\n",
       "      <th>grade</th>\n",
       "      <th>sqft_basement</th>\n",
       "      <th>sqft_garage</th>\n",
       "      <th>sqft_patio</th>\n",
       "      <th>bath_to_bed</th>\n",
       "    </tr>\n",
       "  </thead>\n",
       "  <tbody>\n",
       "    <tr>\n",
       "      <th>0</th>\n",
       "      <td>675000.0</td>\n",
       "      <td>4</td>\n",
       "      <td>1.0</td>\n",
       "      <td>1180</td>\n",
       "      <td>4</td>\n",
       "      <td>7</td>\n",
       "      <td>0</td>\n",
       "      <td>0</td>\n",
       "      <td>40</td>\n",
       "      <td>0.250000</td>\n",
       "    </tr>\n",
       "    <tr>\n",
       "      <th>1</th>\n",
       "      <td>920000.0</td>\n",
       "      <td>5</td>\n",
       "      <td>2.5</td>\n",
       "      <td>2770</td>\n",
       "      <td>3</td>\n",
       "      <td>7</td>\n",
       "      <td>1570</td>\n",
       "      <td>0</td>\n",
       "      <td>240</td>\n",
       "      <td>0.500000</td>\n",
       "    </tr>\n",
       "    <tr>\n",
       "      <th>2</th>\n",
       "      <td>311000.0</td>\n",
       "      <td>6</td>\n",
       "      <td>2.0</td>\n",
       "      <td>2880</td>\n",
       "      <td>3</td>\n",
       "      <td>7</td>\n",
       "      <td>1580</td>\n",
       "      <td>0</td>\n",
       "      <td>0</td>\n",
       "      <td>0.333333</td>\n",
       "    </tr>\n",
       "    <tr>\n",
       "      <th>3</th>\n",
       "      <td>775000.0</td>\n",
       "      <td>3</td>\n",
       "      <td>3.0</td>\n",
       "      <td>2160</td>\n",
       "      <td>3</td>\n",
       "      <td>9</td>\n",
       "      <td>1070</td>\n",
       "      <td>200</td>\n",
       "      <td>270</td>\n",
       "      <td>1.000000</td>\n",
       "    </tr>\n",
       "    <tr>\n",
       "      <th>4</th>\n",
       "      <td>592500.0</td>\n",
       "      <td>2</td>\n",
       "      <td>2.0</td>\n",
       "      <td>1120</td>\n",
       "      <td>3</td>\n",
       "      <td>7</td>\n",
       "      <td>550</td>\n",
       "      <td>550</td>\n",
       "      <td>30</td>\n",
       "      <td>1.000000</td>\n",
       "    </tr>\n",
       "  </tbody>\n",
       "</table>\n",
       "</div>"
      ],
      "text/plain": [
       "      price  bedrooms  bathrooms  sqft_living  condition  grade  \\\n",
       "0  675000.0         4        1.0         1180          4      7   \n",
       "1  920000.0         5        2.5         2770          3      7   \n",
       "2  311000.0         6        2.0         2880          3      7   \n",
       "3  775000.0         3        3.0         2160          3      9   \n",
       "4  592500.0         2        2.0         1120          3      7   \n",
       "\n",
       "   sqft_basement  sqft_garage  sqft_patio  bath_to_bed  \n",
       "0              0            0          40     0.250000  \n",
       "1           1570            0         240     0.500000  \n",
       "2           1580            0           0     0.333333  \n",
       "3           1070          200         270     1.000000  \n",
       "4            550          550          30     1.000000  "
      ]
     },
     "execution_count": 335,
     "metadata": {},
     "output_type": "execute_result"
    }
   ],
   "source": [
    "\n",
    "df = df.drop(['id', 'date', 'sqft_lot', 'sqft_above', 'floors', 'yr_built', 'yr_renovated', 'lat', 'long', 'waterfront', 'greenbelt', 'nuisance', 'view', 'heat_source', 'sewer_system', 'address', 'age'], axis=1)\n",
    "df.head()"
   ]
  },
  {
   "cell_type": "code",
   "execution_count": 336,
   "metadata": {
    "scrolled": true
   },
   "outputs": [
    {
     "data": {
      "text/html": [
       "<div>\n",
       "<style scoped>\n",
       "    .dataframe tbody tr th:only-of-type {\n",
       "        vertical-align: middle;\n",
       "    }\n",
       "\n",
       "    .dataframe tbody tr th {\n",
       "        vertical-align: top;\n",
       "    }\n",
       "\n",
       "    .dataframe thead th {\n",
       "        text-align: right;\n",
       "    }\n",
       "</style>\n",
       "<table border=\"1\" class=\"dataframe\">\n",
       "  <thead>\n",
       "    <tr style=\"text-align: right;\">\n",
       "      <th></th>\n",
       "      <th>price</th>\n",
       "      <th>bedrooms</th>\n",
       "      <th>bathrooms</th>\n",
       "      <th>sqft_living</th>\n",
       "      <th>condition</th>\n",
       "      <th>grade</th>\n",
       "      <th>sqft_basement</th>\n",
       "      <th>sqft_garage</th>\n",
       "      <th>sqft_patio</th>\n",
       "      <th>bath_to_bed</th>\n",
       "    </tr>\n",
       "  </thead>\n",
       "  <tbody>\n",
       "    <tr>\n",
       "      <th>price</th>\n",
       "      <td>1.000000</td>\n",
       "      <td>0.274420</td>\n",
       "      <td>0.424641</td>\n",
       "      <td>0.549661</td>\n",
       "      <td>0.005911</td>\n",
       "      <td>0.535920</td>\n",
       "      <td>0.166171</td>\n",
       "      <td>0.209692</td>\n",
       "      <td>0.248313</td>\n",
       "      <td>0.213328</td>\n",
       "    </tr>\n",
       "    <tr>\n",
       "      <th>bedrooms</th>\n",
       "      <td>0.274420</td>\n",
       "      <td>1.000000</td>\n",
       "      <td>0.575249</td>\n",
       "      <td>0.654764</td>\n",
       "      <td>0.037385</td>\n",
       "      <td>0.347576</td>\n",
       "      <td>0.207413</td>\n",
       "      <td>0.314296</td>\n",
       "      <td>0.157328</td>\n",
       "      <td>-0.255431</td>\n",
       "    </tr>\n",
       "    <tr>\n",
       "      <th>bathrooms</th>\n",
       "      <td>0.424641</td>\n",
       "      <td>0.575249</td>\n",
       "      <td>1.000000</td>\n",
       "      <td>0.746044</td>\n",
       "      <td>-0.062272</td>\n",
       "      <td>0.611656</td>\n",
       "      <td>0.194644</td>\n",
       "      <td>0.433329</td>\n",
       "      <td>0.284709</td>\n",
       "      <td>0.589956</td>\n",
       "    </tr>\n",
       "    <tr>\n",
       "      <th>sqft_living</th>\n",
       "      <td>0.549661</td>\n",
       "      <td>0.654764</td>\n",
       "      <td>0.746044</td>\n",
       "      <td>1.000000</td>\n",
       "      <td>-0.049740</td>\n",
       "      <td>0.684679</td>\n",
       "      <td>0.251806</td>\n",
       "      <td>0.483416</td>\n",
       "      <td>0.330498</td>\n",
       "      <td>0.219746</td>\n",
       "    </tr>\n",
       "    <tr>\n",
       "      <th>condition</th>\n",
       "      <td>0.005911</td>\n",
       "      <td>0.037385</td>\n",
       "      <td>-0.062272</td>\n",
       "      <td>-0.049740</td>\n",
       "      <td>1.000000</td>\n",
       "      <td>-0.159886</td>\n",
       "      <td>0.105612</td>\n",
       "      <td>-0.061595</td>\n",
       "      <td>0.049695</td>\n",
       "      <td>-0.113734</td>\n",
       "    </tr>\n",
       "    <tr>\n",
       "      <th>grade</th>\n",
       "      <td>0.535920</td>\n",
       "      <td>0.347576</td>\n",
       "      <td>0.611656</td>\n",
       "      <td>0.684679</td>\n",
       "      <td>-0.159886</td>\n",
       "      <td>1.000000</td>\n",
       "      <td>0.060503</td>\n",
       "      <td>0.469263</td>\n",
       "      <td>0.308344</td>\n",
       "      <td>0.362755</td>\n",
       "    </tr>\n",
       "    <tr>\n",
       "      <th>sqft_basement</th>\n",
       "      <td>0.166171</td>\n",
       "      <td>0.207413</td>\n",
       "      <td>0.194644</td>\n",
       "      <td>0.251806</td>\n",
       "      <td>0.105612</td>\n",
       "      <td>0.060503</td>\n",
       "      <td>1.000000</td>\n",
       "      <td>-0.044755</td>\n",
       "      <td>0.163877</td>\n",
       "      <td>0.040996</td>\n",
       "    </tr>\n",
       "    <tr>\n",
       "      <th>sqft_garage</th>\n",
       "      <td>0.209692</td>\n",
       "      <td>0.314296</td>\n",
       "      <td>0.433329</td>\n",
       "      <td>0.483416</td>\n",
       "      <td>-0.061595</td>\n",
       "      <td>0.469263</td>\n",
       "      <td>-0.044755</td>\n",
       "      <td>1.000000</td>\n",
       "      <td>0.152641</td>\n",
       "      <td>0.169806</td>\n",
       "    </tr>\n",
       "    <tr>\n",
       "      <th>sqft_patio</th>\n",
       "      <td>0.248313</td>\n",
       "      <td>0.157328</td>\n",
       "      <td>0.284709</td>\n",
       "      <td>0.330498</td>\n",
       "      <td>0.049695</td>\n",
       "      <td>0.308344</td>\n",
       "      <td>0.163877</td>\n",
       "      <td>0.152641</td>\n",
       "      <td>1.000000</td>\n",
       "      <td>0.178565</td>\n",
       "    </tr>\n",
       "    <tr>\n",
       "      <th>bath_to_bed</th>\n",
       "      <td>0.213328</td>\n",
       "      <td>-0.255431</td>\n",
       "      <td>0.589956</td>\n",
       "      <td>0.219746</td>\n",
       "      <td>-0.113734</td>\n",
       "      <td>0.362755</td>\n",
       "      <td>0.040996</td>\n",
       "      <td>0.169806</td>\n",
       "      <td>0.178565</td>\n",
       "      <td>1.000000</td>\n",
       "    </tr>\n",
       "  </tbody>\n",
       "</table>\n",
       "</div>"
      ],
      "text/plain": [
       "                  price  bedrooms  bathrooms  sqft_living  condition  \\\n",
       "price          1.000000  0.274420   0.424641     0.549661   0.005911   \n",
       "bedrooms       0.274420  1.000000   0.575249     0.654764   0.037385   \n",
       "bathrooms      0.424641  0.575249   1.000000     0.746044  -0.062272   \n",
       "sqft_living    0.549661  0.654764   0.746044     1.000000  -0.049740   \n",
       "condition      0.005911  0.037385  -0.062272    -0.049740   1.000000   \n",
       "grade          0.535920  0.347576   0.611656     0.684679  -0.159886   \n",
       "sqft_basement  0.166171  0.207413   0.194644     0.251806   0.105612   \n",
       "sqft_garage    0.209692  0.314296   0.433329     0.483416  -0.061595   \n",
       "sqft_patio     0.248313  0.157328   0.284709     0.330498   0.049695   \n",
       "bath_to_bed    0.213328 -0.255431   0.589956     0.219746  -0.113734   \n",
       "\n",
       "                  grade  sqft_basement  sqft_garage  sqft_patio  bath_to_bed  \n",
       "price          0.535920       0.166171     0.209692    0.248313     0.213328  \n",
       "bedrooms       0.347576       0.207413     0.314296    0.157328    -0.255431  \n",
       "bathrooms      0.611656       0.194644     0.433329    0.284709     0.589956  \n",
       "sqft_living    0.684679       0.251806     0.483416    0.330498     0.219746  \n",
       "condition     -0.159886       0.105612    -0.061595    0.049695    -0.113734  \n",
       "grade          1.000000       0.060503     0.469263    0.308344     0.362755  \n",
       "sqft_basement  0.060503       1.000000    -0.044755    0.163877     0.040996  \n",
       "sqft_garage    0.469263      -0.044755     1.000000    0.152641     0.169806  \n",
       "sqft_patio     0.308344       0.163877     0.152641    1.000000     0.178565  \n",
       "bath_to_bed    0.362755       0.040996     0.169806    0.178565     1.000000  "
      ]
     },
     "execution_count": 336,
     "metadata": {},
     "output_type": "execute_result"
    }
   ],
   "source": [
    "\n",
    "df.corr()"
   ]
  },
  {
   "cell_type": "code",
   "execution_count": 337,
   "metadata": {},
   "outputs": [
    {
     "data": {
      "text/plain": [
       "<AxesSubplot:>"
      ]
     },
     "execution_count": 337,
     "metadata": {},
     "output_type": "execute_result"
    },
    {
     "data": {
      "image/png": "[encoded data removed]",
      "text/plain": [
       "<Figure size 1008x720 with 2 Axes>"
      ]
     },
     "metadata": {},
     "output_type": "display_data"
    }
   ],
   "source": [
    "fig, ax = plt.subplots(figsize=(14,10))\n",
    "\n",
    "sns.heatmap(df.corr().abs(), annot=True)"
   ]
  },
  {
   "cell_type": "code",
   "execution_count": 338,
   "metadata": {},
   "outputs": [
    {
     "data": {
      "text/html": [
       "<table class=\"simpletable\">\n",
       "<caption>OLS Regression Results</caption>\n",
       "<tr>\n",
       "  <th>Dep. Variable:</th>          <td>price</td>      <th>  R-squared:         </th>  <td>   0.302</td>  \n",
       "</tr>\n",
       "<tr>\n",
       "  <th>Model:</th>                   <td>OLS</td>       <th>  Adj. R-squared:    </th>  <td>   0.302</td>  \n",
       "</tr>\n",
       "<tr>\n",
       "  <th>Method:</th>             <td>Least Squares</td>  <th>  F-statistic:       </th>  <td>1.254e+04</td> \n",
       "</tr>\n",
       "<tr>\n",
       "  <th>Date:</th>             <td>Wed, 14 Sep 2022</td> <th>  Prob (F-statistic):</th>   <td>  0.00</td>   \n",
       "</tr>\n",
       "<tr>\n",
       "  <th>Time:</th>                 <td>13:28:08</td>     <th>  Log-Likelihood:    </th> <td>-4.2659e+05</td>\n",
       "</tr>\n",
       "<tr>\n",
       "  <th>No. Observations:</th>      <td> 28959</td>      <th>  AIC:               </th>  <td>8.532e+05</td> \n",
       "</tr>\n",
       "<tr>\n",
       "  <th>Df Residuals:</th>          <td> 28957</td>      <th>  BIC:               </th>  <td>8.532e+05</td> \n",
       "</tr>\n",
       "<tr>\n",
       "  <th>Df Model:</th>              <td>     1</td>      <th>                     </th>      <td> </td>     \n",
       "</tr>\n",
       "<tr>\n",
       "  <th>Covariance Type:</th>      <td>nonrobust</td>    <th>                     </th>      <td> </td>     \n",
       "</tr>\n",
       "</table>\n",
       "<table class=\"simpletable\">\n",
       "<tr>\n",
       "       <td></td>          <th>coef</th>     <th>std err</th>      <th>t</th>      <th>P>|t|</th>  <th>[0.025</th>    <th>0.975]</th>  \n",
       "</tr>\n",
       "<tr>\n",
       "  <th>Intercept</th>   <td> 8.847e+04</td> <td> 9302.321</td> <td>    9.510</td> <td> 0.000</td> <td> 7.02e+04</td> <td> 1.07e+05</td>\n",
       "</tr>\n",
       "<tr>\n",
       "  <th>sqft_living</th> <td>  472.3651</td> <td>    4.219</td> <td>  111.965</td> <td> 0.000</td> <td>  464.096</td> <td>  480.634</td>\n",
       "</tr>\n",
       "</table>\n",
       "<table class=\"simpletable\">\n",
       "<tr>\n",
       "  <th>Omnibus:</th>       <td>42504.043</td> <th>  Durbin-Watson:     </th>   <td>   1.837</td>  \n",
       "</tr>\n",
       "<tr>\n",
       "  <th>Prob(Omnibus):</th>  <td> 0.000</td>   <th>  Jarque-Bera (JB):  </th> <td>79500306.264</td>\n",
       "</tr>\n",
       "<tr>\n",
       "  <th>Skew:</th>           <td> 8.297</td>   <th>  Prob(JB):          </th>   <td>    0.00</td>  \n",
       "</tr>\n",
       "<tr>\n",
       "  <th>Kurtosis:</th>       <td>259.147</td>  <th>  Cond. No.          </th>   <td>5.78e+03</td>  \n",
       "</tr>\n",
       "</table><br/><br/>Notes:<br/>[1] Standard Errors assume that the covariance matrix of the errors is correctly specified.<br/>[2] The condition number is large, 5.78e+03. This might indicate that there are<br/>strong multicollinearity or other numerical problems."
      ],
      "text/plain": [
       "<class 'statsmodels.iolib.summary.Summary'>\n",
       "\"\"\"\n",
       "                            OLS Regression Results                            \n",
       "==============================================================================\n",
       "Dep. Variable:                  price   R-squared:                       0.302\n",
       "Model:                            OLS   Adj. R-squared:                  0.302\n",
       "Method:                 Least Squares   F-statistic:                 1.254e+04\n",
       "Date:                Wed, 14 Sep 2022   Prob (F-statistic):               0.00\n",
       "Time:                        13:28:08   Log-Likelihood:            -4.2659e+05\n",
       "No. Observations:               28959   AIC:                         8.532e+05\n",
       "Df Residuals:                   28957   BIC:                         8.532e+05\n",
       "Df Model:                           1                                         \n",
       "Covariance Type:            nonrobust                                         \n",
       "===============================================================================\n",
       "                  coef    std err          t      P>|t|      [0.025      0.975]\n",
       "-------------------------------------------------------------------------------\n",
       "Intercept    8.847e+04   9302.321      9.510      0.000    7.02e+04    1.07e+05\n",
       "sqft_living   472.3651      4.219    111.965      0.000     464.096     480.634\n",
       "==============================================================================\n",
       "Omnibus:                    42504.043   Durbin-Watson:                   1.837\n",
       "Prob(Omnibus):                  0.000   Jarque-Bera (JB):         79500306.264\n",
       "Skew:                           8.297   Prob(JB):                         0.00\n",
       "Kurtosis:                     259.147   Cond. No.                     5.78e+03\n",
       "==============================================================================\n",
       "\n",
       "Notes:\n",
       "[1] Standard Errors assume that the covariance matrix of the errors is correctly specified.\n",
       "[2] The condition number is large, 5.78e+03. This might indicate that there are\n",
       "strong multicollinearity or other numerical problems.\n",
       "\"\"\""
      ]
     },
     "execution_count": 338,
     "metadata": {},
     "output_type": "execute_result"
    }
   ],
   "source": [
    "formula = \"price ~ sqft_living\"\n",
    "all_mod = ols(formula=formula, data=df).fit()\n",
    "all_mod_summ = all_mod.summary()\n",
    "all_mod_summ"
   ]
  },
  {
   "cell_type": "code",
   "execution_count": 339,
   "metadata": {},
   "outputs": [
    {
     "data": {
      "text/html": [
       "<table class=\"simpletable\">\n",
       "<caption>OLS Regression Results</caption>\n",
       "<tr>\n",
       "  <th>Dep. Variable:</th>          <td>price</td>      <th>  R-squared:         </th>  <td>   0.352</td>  \n",
       "</tr>\n",
       "<tr>\n",
       "  <th>Model:</th>                   <td>OLS</td>       <th>  Adj. R-squared:    </th>  <td>   0.352</td>  \n",
       "</tr>\n",
       "<tr>\n",
       "  <th>Method:</th>             <td>Least Squares</td>  <th>  F-statistic:       </th>  <td>   5245.</td>  \n",
       "</tr>\n",
       "<tr>\n",
       "  <th>Date:</th>             <td>Wed, 14 Sep 2022</td> <th>  Prob (F-statistic):</th>   <td>  0.00</td>   \n",
       "</tr>\n",
       "<tr>\n",
       "  <th>Time:</th>                 <td>13:28:08</td>     <th>  Log-Likelihood:    </th> <td>-4.2551e+05</td>\n",
       "</tr>\n",
       "<tr>\n",
       "  <th>No. Observations:</th>      <td> 28959</td>      <th>  AIC:               </th>  <td>8.510e+05</td> \n",
       "</tr>\n",
       "<tr>\n",
       "  <th>Df Residuals:</th>          <td> 28955</td>      <th>  BIC:               </th>  <td>8.511e+05</td> \n",
       "</tr>\n",
       "<tr>\n",
       "  <th>Df Model:</th>              <td>     3</td>      <th>                     </th>      <td> </td>     \n",
       "</tr>\n",
       "<tr>\n",
       "  <th>Covariance Type:</th>      <td>nonrobust</td>    <th>                     </th>      <td> </td>     \n",
       "</tr>\n",
       "</table>\n",
       "<table class=\"simpletable\">\n",
       "<tr>\n",
       "       <td></td>          <th>coef</th>     <th>std err</th>      <th>t</th>      <th>P>|t|</th>  <th>[0.025</th>    <th>0.975]</th>  \n",
       "</tr>\n",
       "<tr>\n",
       "  <th>Intercept</th>   <td>-1.072e+06</td> <td> 2.72e+04</td> <td>  -39.401</td> <td> 0.000</td> <td>-1.13e+06</td> <td>-1.02e+06</td>\n",
       "</tr>\n",
       "<tr>\n",
       "  <th>sqft_living</th> <td>  286.3708</td> <td>    5.662</td> <td>   50.576</td> <td> 0.000</td> <td>  275.273</td> <td>  297.469</td>\n",
       "</tr>\n",
       "<tr>\n",
       "  <th>grade</th>       <td> 1.984e+05</td> <td> 4426.549</td> <td>   44.824</td> <td> 0.000</td> <td>  1.9e+05</td> <td> 2.07e+05</td>\n",
       "</tr>\n",
       "<tr>\n",
       "  <th>sqft_patio</th>  <td>  169.4844</td> <td>   17.888</td> <td>    9.475</td> <td> 0.000</td> <td>  134.424</td> <td>  204.545</td>\n",
       "</tr>\n",
       "</table>\n",
       "<table class=\"simpletable\">\n",
       "<tr>\n",
       "  <th>Omnibus:</th>       <td>43468.586</td> <th>  Durbin-Watson:     </th>   <td>   1.834</td>  \n",
       "</tr>\n",
       "<tr>\n",
       "  <th>Prob(Omnibus):</th>  <td> 0.000</td>   <th>  Jarque-Bera (JB):  </th> <td>88703456.344</td>\n",
       "</tr>\n",
       "<tr>\n",
       "  <th>Skew:</th>           <td> 8.674</td>   <th>  Prob(JB):          </th>   <td>    0.00</td>  \n",
       "</tr>\n",
       "<tr>\n",
       "  <th>Kurtosis:</th>       <td>273.579</td>  <th>  Cond. No.          </th>   <td>1.78e+04</td>  \n",
       "</tr>\n",
       "</table><br/><br/>Notes:<br/>[1] Standard Errors assume that the covariance matrix of the errors is correctly specified.<br/>[2] The condition number is large, 1.78e+04. This might indicate that there are<br/>strong multicollinearity or other numerical problems."
      ],
      "text/plain": [
       "<class 'statsmodels.iolib.summary.Summary'>\n",
       "\"\"\"\n",
       "                            OLS Regression Results                            \n",
       "==============================================================================\n",
       "Dep. Variable:                  price   R-squared:                       0.352\n",
       "Model:                            OLS   Adj. R-squared:                  0.352\n",
       "Method:                 Least Squares   F-statistic:                     5245.\n",
       "Date:                Wed, 14 Sep 2022   Prob (F-statistic):               0.00\n",
       "Time:                        13:28:08   Log-Likelihood:            -4.2551e+05\n",
       "No. Observations:               28959   AIC:                         8.510e+05\n",
       "Df Residuals:                   28955   BIC:                         8.511e+05\n",
       "Df Model:                           3                                         \n",
       "Covariance Type:            nonrobust                                         \n",
       "===============================================================================\n",
       "                  coef    std err          t      P>|t|      [0.025      0.975]\n",
       "-------------------------------------------------------------------------------\n",
       "Intercept   -1.072e+06   2.72e+04    -39.401      0.000   -1.13e+06   -1.02e+06\n",
       "sqft_living   286.3708      5.662     50.576      0.000     275.273     297.469\n",
       "grade        1.984e+05   4426.549     44.824      0.000     1.9e+05    2.07e+05\n",
       "sqft_patio    169.4844     17.888      9.475      0.000     134.424     204.545\n",
       "==============================================================================\n",
       "Omnibus:                    43468.586   Durbin-Watson:                   1.834\n",
       "Prob(Omnibus):                  0.000   Jarque-Bera (JB):         88703456.344\n",
       "Skew:                           8.674   Prob(JB):                         0.00\n",
       "Kurtosis:                     273.579   Cond. No.                     1.78e+04\n",
       "==============================================================================\n",
       "\n",
       "Notes:\n",
       "[1] Standard Errors assume that the covariance matrix of the errors is correctly specified.\n",
       "[2] The condition number is large, 1.78e+04. This might indicate that there are\n",
       "strong multicollinearity or other numerical problems.\n",
       "\"\"\""
      ]
     },
     "execution_count": 339,
     "metadata": {},
     "output_type": "execute_result"
    }
   ],
   "source": [
    "formula = \"price ~ sqft_living + grade + sqft_patio\"\n",
    "all_mod = ols(formula=formula, data=df).fit()\n",
    "all_mod_summ = all_mod.summary()\n",
    "all_mod_summ"
   ]
  },
  {
   "cell_type": "code",
   "execution_count": 340,
   "metadata": {},
   "outputs": [],
   "source": [
    "dflog = df.copy()\n"
   ]
  },
  {
   "cell_type": "code",
   "execution_count": 341,
   "metadata": {},
   "outputs": [],
   "source": [
    "# dflog['bathbed'] = dflog['bathrooms'] / dflog['bedrooms']\n",
    "# median_bathbed = dflog['bathbed'].median()\n",
    "# dflog.replace([np.inf, -np.inf], median_bathbed, inplace=True)\n",
    "# dflog.fillna(median_bathbed, inplace=True)\n",
    "# dflog['bathbed'].value_counts()"
   ]
  },
  {
   "cell_type": "code",
   "execution_count": 342,
   "metadata": {},
   "outputs": [
    {
     "data": {
      "text/html": [
       "<div>\n",
       "<style scoped>\n",
       "    .dataframe tbody tr th:only-of-type {\n",
       "        vertical-align: middle;\n",
       "    }\n",
       "\n",
       "    .dataframe tbody tr th {\n",
       "        vertical-align: top;\n",
       "    }\n",
       "\n",
       "    .dataframe thead th {\n",
       "        text-align: right;\n",
       "    }\n",
       "</style>\n",
       "<table border=\"1\" class=\"dataframe\">\n",
       "  <thead>\n",
       "    <tr style=\"text-align: right;\">\n",
       "      <th></th>\n",
       "      <th>price</th>\n",
       "      <th>bedrooms</th>\n",
       "      <th>bathrooms</th>\n",
       "      <th>sqft_living</th>\n",
       "      <th>condition</th>\n",
       "      <th>grade</th>\n",
       "      <th>sqft_basement</th>\n",
       "      <th>sqft_garage</th>\n",
       "      <th>sqft_patio</th>\n",
       "      <th>bath_to_bed</th>\n",
       "    </tr>\n",
       "  </thead>\n",
       "  <tbody>\n",
       "    <tr>\n",
       "      <th>0</th>\n",
       "      <td>675000.0</td>\n",
       "      <td>4</td>\n",
       "      <td>1.0</td>\n",
       "      <td>-1.019394</td>\n",
       "      <td>4</td>\n",
       "      <td>7</td>\n",
       "      <td>-0.843930</td>\n",
       "      <td>-1.204222</td>\n",
       "      <td>-0.775531</td>\n",
       "      <td>0.250000</td>\n",
       "    </tr>\n",
       "    <tr>\n",
       "      <th>1</th>\n",
       "      <td>920000.0</td>\n",
       "      <td>5</td>\n",
       "      <td>2.5</td>\n",
       "      <td>0.869733</td>\n",
       "      <td>3</td>\n",
       "      <td>7</td>\n",
       "      <td>2.087066</td>\n",
       "      <td>-1.204222</td>\n",
       "      <td>0.204260</td>\n",
       "      <td>0.500000</td>\n",
       "    </tr>\n",
       "    <tr>\n",
       "      <th>2</th>\n",
       "      <td>311000.0</td>\n",
       "      <td>6</td>\n",
       "      <td>2.0</td>\n",
       "      <td>1.000427</td>\n",
       "      <td>3</td>\n",
       "      <td>7</td>\n",
       "      <td>2.105735</td>\n",
       "      <td>-1.204222</td>\n",
       "      <td>-0.971489</td>\n",
       "      <td>0.333333</td>\n",
       "    </tr>\n",
       "    <tr>\n",
       "      <th>3</th>\n",
       "      <td>775000.0</td>\n",
       "      <td>3</td>\n",
       "      <td>3.0</td>\n",
       "      <td>0.144974</td>\n",
       "      <td>3</td>\n",
       "      <td>9</td>\n",
       "      <td>1.153628</td>\n",
       "      <td>-0.440021</td>\n",
       "      <td>0.351228</td>\n",
       "      <td>1.000000</td>\n",
       "    </tr>\n",
       "    <tr>\n",
       "      <th>4</th>\n",
       "      <td>592500.0</td>\n",
       "      <td>2</td>\n",
       "      <td>2.0</td>\n",
       "      <td>-1.090681</td>\n",
       "      <td>3</td>\n",
       "      <td>7</td>\n",
       "      <td>0.182852</td>\n",
       "      <td>0.897331</td>\n",
       "      <td>-0.824520</td>\n",
       "      <td>1.000000</td>\n",
       "    </tr>\n",
       "    <tr>\n",
       "      <th>...</th>\n",
       "      <td>...</td>\n",
       "      <td>...</td>\n",
       "      <td>...</td>\n",
       "      <td>...</td>\n",
       "      <td>...</td>\n",
       "      <td>...</td>\n",
       "      <td>...</td>\n",
       "      <td>...</td>\n",
       "      <td>...</td>\n",
       "      <td>...</td>\n",
       "    </tr>\n",
       "    <tr>\n",
       "      <th>30150</th>\n",
       "      <td>1555000.0</td>\n",
       "      <td>5</td>\n",
       "      <td>2.0</td>\n",
       "      <td>-0.152059</td>\n",
       "      <td>4</td>\n",
       "      <td>8</td>\n",
       "      <td>1.265640</td>\n",
       "      <td>-1.204222</td>\n",
       "      <td>0.057291</td>\n",
       "      <td>0.400000</td>\n",
       "    </tr>\n",
       "    <tr>\n",
       "      <th>30151</th>\n",
       "      <td>1313000.0</td>\n",
       "      <td>3</td>\n",
       "      <td>2.0</td>\n",
       "      <td>-0.021365</td>\n",
       "      <td>3</td>\n",
       "      <td>7</td>\n",
       "      <td>-0.843930</td>\n",
       "      <td>-1.204222</td>\n",
       "      <td>1.575966</td>\n",
       "      <td>0.666667</td>\n",
       "    </tr>\n",
       "    <tr>\n",
       "      <th>30152</th>\n",
       "      <td>800000.0</td>\n",
       "      <td>3</td>\n",
       "      <td>2.0</td>\n",
       "      <td>-0.496616</td>\n",
       "      <td>3</td>\n",
       "      <td>7</td>\n",
       "      <td>0.873596</td>\n",
       "      <td>-0.287181</td>\n",
       "      <td>-0.432604</td>\n",
       "      <td>0.666667</td>\n",
       "    </tr>\n",
       "    <tr>\n",
       "      <th>30153</th>\n",
       "      <td>775000.0</td>\n",
       "      <td>3</td>\n",
       "      <td>2.5</td>\n",
       "      <td>0.632107</td>\n",
       "      <td>3</td>\n",
       "      <td>8</td>\n",
       "      <td>0.537559</td>\n",
       "      <td>0.629860</td>\n",
       "      <td>-0.481594</td>\n",
       "      <td>0.833333</td>\n",
       "    </tr>\n",
       "    <tr>\n",
       "      <th>30154</th>\n",
       "      <td>500000.0</td>\n",
       "      <td>3</td>\n",
       "      <td>1.5</td>\n",
       "      <td>-0.995631</td>\n",
       "      <td>3</td>\n",
       "      <td>7</td>\n",
       "      <td>-0.843930</td>\n",
       "      <td>0.400600</td>\n",
       "      <td>-0.971489</td>\n",
       "      <td>0.500000</td>\n",
       "    </tr>\n",
       "  </tbody>\n",
       "</table>\n",
       "<p>28959 rows × 10 columns</p>\n",
       "</div>"
      ],
      "text/plain": [
       "           price  bedrooms  bathrooms  sqft_living  condition  grade  \\\n",
       "0       675000.0         4        1.0    -1.019394          4      7   \n",
       "1       920000.0         5        2.5     0.869733          3      7   \n",
       "2       311000.0         6        2.0     1.000427          3      7   \n",
       "3       775000.0         3        3.0     0.144974          3      9   \n",
       "4       592500.0         2        2.0    -1.090681          3      7   \n",
       "...          ...       ...        ...          ...        ...    ...   \n",
       "30150  1555000.0         5        2.0    -0.152059          4      8   \n",
       "30151  1313000.0         3        2.0    -0.021365          3      7   \n",
       "30152   800000.0         3        2.0    -0.496616          3      7   \n",
       "30153   775000.0         3        2.5     0.632107          3      8   \n",
       "30154   500000.0         3        1.5    -0.995631          3      7   \n",
       "\n",
       "       sqft_basement  sqft_garage  sqft_patio  bath_to_bed  \n",
       "0          -0.843930    -1.204222   -0.775531     0.250000  \n",
       "1           2.087066    -1.204222    0.204260     0.500000  \n",
       "2           2.105735    -1.204222   -0.971489     0.333333  \n",
       "3           1.153628    -0.440021    0.351228     1.000000  \n",
       "4           0.182852     0.897331   -0.824520     1.000000  \n",
       "...              ...          ...         ...          ...  \n",
       "30150       1.265640    -1.204222    0.057291     0.400000  \n",
       "30151      -0.843930    -1.204222    1.575966     0.666667  \n",
       "30152       0.873596    -0.287181   -0.432604     0.666667  \n",
       "30153       0.537559     0.629860   -0.481594     0.833333  \n",
       "30154      -0.843930     0.400600   -0.971489     0.500000  \n",
       "\n",
       "[28959 rows x 10 columns]"
      ]
     },
     "execution_count": 342,
     "metadata": {},
     "output_type": "execute_result"
    }
   ],
   "source": [
    "#list for cols to scale\n",
    "cols_to_scale = ['sqft_living', 'sqft_basement', 'sqft_garage', 'sqft_patio']\n",
    "\n",
    "#create and fit scaler\n",
    "scaler = StandardScaler()\n",
    "scaler.fit(dflog[cols_to_scale])\n",
    "\n",
    "#scale selected data\n",
    "dflog[cols_to_scale] = scaler.transform(dflog[cols_to_scale])\n",
    "dflog\n"
   ]
  },
  {
   "cell_type": "markdown",
   "metadata": {},
   "source": [
    "## Good"
   ]
  },
  {
   "cell_type": "code",
   "execution_count": 343,
   "metadata": {},
   "outputs": [
    {
     "data": {
      "text/html": [
       "<table class=\"simpletable\">\n",
       "<caption>OLS Regression Results</caption>\n",
       "<tr>\n",
       "  <th>Dep. Variable:</th>          <td>price</td>      <th>  R-squared:         </th>  <td>   0.376</td>  \n",
       "</tr>\n",
       "<tr>\n",
       "  <th>Model:</th>                   <td>OLS</td>       <th>  Adj. R-squared:    </th>  <td>   0.376</td>  \n",
       "</tr>\n",
       "<tr>\n",
       "  <th>Method:</th>             <td>Least Squares</td>  <th>  F-statistic:       </th>  <td>   1941.</td>  \n",
       "</tr>\n",
       "<tr>\n",
       "  <th>Date:</th>             <td>Wed, 14 Sep 2022</td> <th>  Prob (F-statistic):</th>   <td>  0.00</td>   \n",
       "</tr>\n",
       "<tr>\n",
       "  <th>Time:</th>                 <td>13:28:08</td>     <th>  Log-Likelihood:    </th> <td>-4.2496e+05</td>\n",
       "</tr>\n",
       "<tr>\n",
       "  <th>No. Observations:</th>      <td> 28959</td>      <th>  AIC:               </th>  <td>8.499e+05</td> \n",
       "</tr>\n",
       "<tr>\n",
       "  <th>Df Residuals:</th>          <td> 28949</td>      <th>  BIC:               </th>  <td>8.500e+05</td> \n",
       "</tr>\n",
       "<tr>\n",
       "  <th>Df Model:</th>              <td>     9</td>      <th>                     </th>      <td> </td>     \n",
       "</tr>\n",
       "<tr>\n",
       "  <th>Covariance Type:</th>      <td>nonrobust</td>    <th>                     </th>      <td> </td>     \n",
       "</tr>\n",
       "</table>\n",
       "<table class=\"simpletable\">\n",
       "<tr>\n",
       "        <td></td>           <th>coef</th>     <th>std err</th>      <th>t</th>      <th>P>|t|</th>  <th>[0.025</th>    <th>0.975]</th>  \n",
       "</tr>\n",
       "<tr>\n",
       "  <th>const</th>         <td>-5.906e+05</td> <td> 5.37e+04</td> <td>  -10.996</td> <td> 0.000</td> <td>-6.96e+05</td> <td>-4.85e+05</td>\n",
       "</tr>\n",
       "<tr>\n",
       "  <th>bedrooms</th>      <td>-9.834e+04</td> <td> 9940.848</td> <td>   -9.892</td> <td> 0.000</td> <td>-1.18e+05</td> <td>-7.89e+04</td>\n",
       "</tr>\n",
       "<tr>\n",
       "  <th>bathrooms</th>     <td> 3.285e+04</td> <td> 1.46e+04</td> <td>    2.247</td> <td> 0.025</td> <td> 4200.260</td> <td> 6.15e+04</td>\n",
       "</tr>\n",
       "<tr>\n",
       "  <th>sqft_living</th>   <td> 3.094e+05</td> <td> 6597.580</td> <td>   46.897</td> <td> 0.000</td> <td> 2.96e+05</td> <td> 3.22e+05</td>\n",
       "</tr>\n",
       "<tr>\n",
       "  <th>condition</th>     <td> 7.275e+04</td> <td> 4911.574</td> <td>   14.812</td> <td> 0.000</td> <td> 6.31e+04</td> <td> 8.24e+04</td>\n",
       "</tr>\n",
       "<tr>\n",
       "  <th>grade</th>         <td> 2.274e+05</td> <td> 4734.200</td> <td>   48.042</td> <td> 0.000</td> <td> 2.18e+05</td> <td> 2.37e+05</td>\n",
       "</tr>\n",
       "<tr>\n",
       "  <th>sqft_basement</th> <td> 3.031e+04</td> <td> 3608.361</td> <td>    8.400</td> <td> 0.000</td> <td> 2.32e+04</td> <td> 3.74e+04</td>\n",
       "</tr>\n",
       "<tr>\n",
       "  <th>sqft_garage</th>   <td>-8.813e+04</td> <td> 4014.221</td> <td>  -21.954</td> <td> 0.000</td> <td> -9.6e+04</td> <td>-8.03e+04</td>\n",
       "</tr>\n",
       "<tr>\n",
       "  <th>sqft_patio</th>    <td> 2.016e+04</td> <td> 3632.802</td> <td>    5.550</td> <td> 0.000</td> <td>  1.3e+04</td> <td> 2.73e+04</td>\n",
       "</tr>\n",
       "<tr>\n",
       "  <th>bath_to_bed</th>   <td> -1.15e+05</td> <td> 4.26e+04</td> <td>   -2.699</td> <td> 0.007</td> <td>-1.98e+05</td> <td>-3.15e+04</td>\n",
       "</tr>\n",
       "</table>\n",
       "<table class=\"simpletable\">\n",
       "<tr>\n",
       "  <th>Omnibus:</th>       <td>44077.992</td> <th>  Durbin-Watson:     </th>   <td>   1.825</td>  \n",
       "</tr>\n",
       "<tr>\n",
       "  <th>Prob(Omnibus):</th>  <td> 0.000</td>   <th>  Jarque-Bera (JB):  </th> <td>98855813.817</td>\n",
       "</tr>\n",
       "<tr>\n",
       "  <th>Skew:</th>           <td> 8.902</td>   <th>  Prob(JB):          </th>   <td>    0.00</td>  \n",
       "</tr>\n",
       "<tr>\n",
       "  <th>Kurtosis:</th>       <td>288.676</td>  <th>  Cond. No.          </th>   <td>    174.</td>  \n",
       "</tr>\n",
       "</table><br/><br/>Notes:<br/>[1] Standard Errors assume that the covariance matrix of the errors is correctly specified."
      ],
      "text/plain": [
       "<class 'statsmodels.iolib.summary.Summary'>\n",
       "\"\"\"\n",
       "                            OLS Regression Results                            \n",
       "==============================================================================\n",
       "Dep. Variable:                  price   R-squared:                       0.376\n",
       "Model:                            OLS   Adj. R-squared:                  0.376\n",
       "Method:                 Least Squares   F-statistic:                     1941.\n",
       "Date:                Wed, 14 Sep 2022   Prob (F-statistic):               0.00\n",
       "Time:                        13:28:08   Log-Likelihood:            -4.2496e+05\n",
       "No. Observations:               28959   AIC:                         8.499e+05\n",
       "Df Residuals:                   28949   BIC:                         8.500e+05\n",
       "Df Model:                           9                                         \n",
       "Covariance Type:            nonrobust                                         \n",
       "=================================================================================\n",
       "                    coef    std err          t      P>|t|      [0.025      0.975]\n",
       "---------------------------------------------------------------------------------\n",
       "const         -5.906e+05   5.37e+04    -10.996      0.000   -6.96e+05   -4.85e+05\n",
       "bedrooms      -9.834e+04   9940.848     -9.892      0.000   -1.18e+05   -7.89e+04\n",
       "bathrooms      3.285e+04   1.46e+04      2.247      0.025    4200.260    6.15e+04\n",
       "sqft_living    3.094e+05   6597.580     46.897      0.000    2.96e+05    3.22e+05\n",
       "condition      7.275e+04   4911.574     14.812      0.000    6.31e+04    8.24e+04\n",
       "grade          2.274e+05   4734.200     48.042      0.000    2.18e+05    2.37e+05\n",
       "sqft_basement  3.031e+04   3608.361      8.400      0.000    2.32e+04    3.74e+04\n",
       "sqft_garage   -8.813e+04   4014.221    -21.954      0.000    -9.6e+04   -8.03e+04\n",
       "sqft_patio     2.016e+04   3632.802      5.550      0.000     1.3e+04    2.73e+04\n",
       "bath_to_bed    -1.15e+05   4.26e+04     -2.699      0.007   -1.98e+05   -3.15e+04\n",
       "==============================================================================\n",
       "Omnibus:                    44077.992   Durbin-Watson:                   1.825\n",
       "Prob(Omnibus):                  0.000   Jarque-Bera (JB):         98855813.817\n",
       "Skew:                           8.902   Prob(JB):                         0.00\n",
       "Kurtosis:                     288.676   Cond. No.                         174.\n",
       "==============================================================================\n",
       "\n",
       "Notes:\n",
       "[1] Standard Errors assume that the covariance matrix of the errors is correctly specified.\n",
       "\"\"\""
      ]
     },
     "execution_count": 343,
     "metadata": {},
     "output_type": "execute_result"
    }
   ],
   "source": [
    "target = dflog['price']\n",
    "predictors = dflog.drop(['price'], axis=1)\n",
    "# predictors = dflog.drop(['price', 'condition', 'bedrooms', 'bathrooms', 'sqft_garage', 'sqft_basement'], axis=1)\n",
    "predictors = sm.add_constant(predictors)\n",
    "model = sm.OLS(target, predictors).fit()\n",
    "model.summary()"
   ]
  },
  {
   "cell_type": "code",
   "execution_count": 344,
   "metadata": {},
   "outputs": [
    {
     "data": {
      "text/html": [
       "<table class=\"simpletable\">\n",
       "<caption>OLS Regression Results</caption>\n",
       "<tr>\n",
       "  <th>Dep. Variable:</th>          <td>price</td>      <th>  R-squared:         </th>  <td>   0.361</td>  \n",
       "</tr>\n",
       "<tr>\n",
       "  <th>Model:</th>                   <td>OLS</td>       <th>  Adj. R-squared:    </th>  <td>   0.360</td>  \n",
       "</tr>\n",
       "<tr>\n",
       "  <th>Method:</th>             <td>Least Squares</td>  <th>  F-statistic:       </th>  <td>   2721.</td>  \n",
       "</tr>\n",
       "<tr>\n",
       "  <th>Date:</th>             <td>Wed, 14 Sep 2022</td> <th>  Prob (F-statistic):</th>   <td>  0.00</td>   \n",
       "</tr>\n",
       "<tr>\n",
       "  <th>Time:</th>                 <td>13:28:08</td>     <th>  Log-Likelihood:    </th> <td>-4.2532e+05</td>\n",
       "</tr>\n",
       "<tr>\n",
       "  <th>No. Observations:</th>      <td> 28959</td>      <th>  AIC:               </th>  <td>8.507e+05</td> \n",
       "</tr>\n",
       "<tr>\n",
       "  <th>Df Residuals:</th>          <td> 28952</td>      <th>  BIC:               </th>  <td>8.507e+05</td> \n",
       "</tr>\n",
       "<tr>\n",
       "  <th>Df Model:</th>              <td>     6</td>      <th>                     </th>      <td> </td>     \n",
       "</tr>\n",
       "<tr>\n",
       "  <th>Covariance Type:</th>      <td>nonrobust</td>    <th>                     </th>      <td> </td>     \n",
       "</tr>\n",
       "</table>\n",
       "<table class=\"simpletable\">\n",
       "<tr>\n",
       "        <td></td>           <th>coef</th>     <th>std err</th>      <th>t</th>      <th>P>|t|</th>  <th>[0.025</th>    <th>0.975]</th>  \n",
       "</tr>\n",
       "<tr>\n",
       "  <th>const</th>         <td>-8.542e+05</td> <td> 4.11e+04</td> <td>  -20.763</td> <td> 0.000</td> <td>-9.35e+05</td> <td>-7.74e+05</td>\n",
       "</tr>\n",
       "<tr>\n",
       "  <th>sqft_living</th>   <td> 2.233e+05</td> <td> 4929.540</td> <td>   45.305</td> <td> 0.000</td> <td> 2.14e+05</td> <td> 2.33e+05</td>\n",
       "</tr>\n",
       "<tr>\n",
       "  <th>condition</th>     <td> 6.897e+04</td> <td> 4967.853</td> <td>   13.883</td> <td> 0.000</td> <td> 5.92e+04</td> <td> 7.87e+04</td>\n",
       "</tr>\n",
       "<tr>\n",
       "  <th>grade</th>         <td>   2.1e+05</td> <td> 4709.171</td> <td>   44.585</td> <td> 0.000</td> <td> 2.01e+05</td> <td> 2.19e+05</td>\n",
       "</tr>\n",
       "<tr>\n",
       "  <th>sqft_basement</th> <td> 4.047e+04</td> <td> 3594.705</td> <td>   11.257</td> <td> 0.000</td> <td> 3.34e+04</td> <td> 4.75e+04</td>\n",
       "</tr>\n",
       "<tr>\n",
       "  <th>sqft_patio</th>    <td>  2.34e+04</td> <td> 3675.743</td> <td>    6.365</td> <td> 0.000</td> <td> 1.62e+04</td> <td> 3.06e+04</td>\n",
       "</tr>\n",
       "<tr>\n",
       "  <th>bath_to_bed</th>   <td> 1.038e+05</td> <td> 1.62e+04</td> <td>    6.410</td> <td> 0.000</td> <td> 7.21e+04</td> <td> 1.36e+05</td>\n",
       "</tr>\n",
       "</table>\n",
       "<table class=\"simpletable\">\n",
       "<tr>\n",
       "  <th>Omnibus:</th>       <td>43559.571</td> <th>  Durbin-Watson:     </th>   <td>   1.828</td>  \n",
       "</tr>\n",
       "<tr>\n",
       "  <th>Prob(Omnibus):</th>  <td> 0.000</td>   <th>  Jarque-Bera (JB):  </th> <td>88183939.757</td>\n",
       "</tr>\n",
       "<tr>\n",
       "  <th>Skew:</th>           <td> 8.717</td>   <th>  Prob(JB):          </th>   <td>    0.00</td>  \n",
       "</tr>\n",
       "<tr>\n",
       "  <th>Kurtosis:</th>       <td>272.776</td>  <th>  Cond. No.          </th>   <td>    104.</td>  \n",
       "</tr>\n",
       "</table><br/><br/>Notes:<br/>[1] Standard Errors assume that the covariance matrix of the errors is correctly specified."
      ],
      "text/plain": [
       "<class 'statsmodels.iolib.summary.Summary'>\n",
       "\"\"\"\n",
       "                            OLS Regression Results                            \n",
       "==============================================================================\n",
       "Dep. Variable:                  price   R-squared:                       0.361\n",
       "Model:                            OLS   Adj. R-squared:                  0.360\n",
       "Method:                 Least Squares   F-statistic:                     2721.\n",
       "Date:                Wed, 14 Sep 2022   Prob (F-statistic):               0.00\n",
       "Time:                        13:28:08   Log-Likelihood:            -4.2532e+05\n",
       "No. Observations:               28959   AIC:                         8.507e+05\n",
       "Df Residuals:                   28952   BIC:                         8.507e+05\n",
       "Df Model:                           6                                         \n",
       "Covariance Type:            nonrobust                                         \n",
       "=================================================================================\n",
       "                    coef    std err          t      P>|t|      [0.025      0.975]\n",
       "---------------------------------------------------------------------------------\n",
       "const         -8.542e+05   4.11e+04    -20.763      0.000   -9.35e+05   -7.74e+05\n",
       "sqft_living    2.233e+05   4929.540     45.305      0.000    2.14e+05    2.33e+05\n",
       "condition      6.897e+04   4967.853     13.883      0.000    5.92e+04    7.87e+04\n",
       "grade            2.1e+05   4709.171     44.585      0.000    2.01e+05    2.19e+05\n",
       "sqft_basement  4.047e+04   3594.705     11.257      0.000    3.34e+04    4.75e+04\n",
       "sqft_patio      2.34e+04   3675.743      6.365      0.000    1.62e+04    3.06e+04\n",
       "bath_to_bed    1.038e+05   1.62e+04      6.410      0.000    7.21e+04    1.36e+05\n",
       "==============================================================================\n",
       "Omnibus:                    43559.571   Durbin-Watson:                   1.828\n",
       "Prob(Omnibus):                  0.000   Jarque-Bera (JB):         88183939.757\n",
       "Skew:                           8.717   Prob(JB):                         0.00\n",
       "Kurtosis:                     272.776   Cond. No.                         104.\n",
       "==============================================================================\n",
       "\n",
       "Notes:\n",
       "[1] Standard Errors assume that the covariance matrix of the errors is correctly specified.\n",
       "\"\"\""
      ]
     },
     "execution_count": 344,
     "metadata": {},
     "output_type": "execute_result"
    }
   ],
   "source": [
    "target = dflog['price']\n",
    "predictors = dflog.drop(['price', 'bedrooms', 'bathrooms', 'sqft_garage'], axis=1)\n",
    "# predictors = dflog.drop(['price', 'condition', 'bedrooms', 'bathrooms', 'sqft_garage', 'sqft_basement'], axis=1)\n",
    "predictors = sm.add_constant(predictors)\n",
    "model = sm.OLS(target, predictors).fit()\n",
    "model.summary()"
   ]
  },
  {
   "cell_type": "code",
   "execution_count": 345,
   "metadata": {},
   "outputs": [
    {
     "data": {
      "text/plain": [
       "0.3605565156167412"
      ]
     },
     "execution_count": 345,
     "metadata": {},
     "output_type": "execute_result"
    }
   ],
   "source": [
    "lr = LinearRegression()\n",
    "lr.fit(predictors, target)\n",
    "lr.score(predictors, target)"
   ]
  },
  {
   "cell_type": "code",
   "execution_count": 346,
   "metadata": {},
   "outputs": [
    {
     "data": {
      "text/plain": [
       "array([ 637393.12011703, 1157809.2006115 , 1142944.62612833, ...,\n",
       "        805951.93323451, 1270549.16172626,  595095.21419283])"
      ]
     },
     "execution_count": 346,
     "metadata": {},
     "output_type": "execute_result"
    }
   ],
   "source": [
    "y_hat = lr.predict(predictors)\n",
    "y_hat"
   ]
  },
  {
   "cell_type": "code",
   "execution_count": 347,
   "metadata": {},
   "outputs": [],
   "source": [
    "y_hat = lr.predict(predictors)\n",
    "resid = (target - y_hat)"
   ]
  },
  {
   "cell_type": "code",
   "execution_count": 348,
   "metadata": {},
   "outputs": [
    {
     "data": {
      "image/png": "[encoded data removed]",
      "text/plain": [
       "<Figure size 576x396 with 1 Axes>"
      ]
     },
     "metadata": {},
     "output_type": "display_data"
    }
   ],
   "source": [
    "fig, ax = plt.subplots()\n",
    "ax.scatter(x=range(y_hat.shape[0]),y=resid, alpha=0.1);"
   ]
  },
  {
   "cell_type": "code",
   "execution_count": 349,
   "metadata": {},
   "outputs": [
    {
     "data": {
      "text/plain": [
       "<matplotlib.collections.PathCollection at 0x23a33088f40>"
      ]
     },
     "execution_count": 349,
     "metadata": {},
     "output_type": "execute_result"
    },
    {
     "data": {
      "image/png": "[encoded data removed]",
      "text/plain": [
       "<Figure size 576x396 with 1 Axes>"
      ]
     },
     "metadata": {},
     "output_type": "display_data"
    }
   ],
   "source": [
    "fig, ax = plt.subplots()\n",
    "\n",
    "ax.scatter(y_hat, target)"
   ]
  },
  {
   "cell_type": "code",
   "execution_count": 353,
   "metadata": {},
   "outputs": [],
   "source": [
    "millions = ticker.FuncFormatter(lambda x, pos: '${0:g}'.format(x/1000000))"
   ]
  },
  {
   "cell_type": "code",
   "execution_count": 354,
   "metadata": {},
   "outputs": [
    {
     "data": {
      "image/png": "[encoded data removed]",
      "text/plain": [
       "<Figure size 720x1152 with 1 Axes>"
      ]
     },
     "metadata": {},
     "output_type": "display_data"
    }
   ],
   "source": [
    "fig, ax = plt.subplots(figsize = (10,16))\n",
    "sns.scatterplot(x = y_hat, y = target, ax=ax)\n",
    "ax.yaxis.set_major_formatter(millions)\n",
    "ax.xaxis.set_major_formatter(millions)"
   ]
  },
  {
   "cell_type": "code",
   "execution_count": 359,
   "metadata": {},
   "outputs": [
    {
     "data": {
      "text/plain": [
       "<AxesSubplot:ylabel='price'>"
      ]
     },
     "execution_count": 359,
     "metadata": {},
     "output_type": "execute_result"
    },
    {
     "data": {
      "image/png": "[encoded data removed]",
      "text/plain": [
       "<Figure size 720x1152 with 1 Axes>"
      ]
     },
     "metadata": {},
     "output_type": "display_data"
    }
   ],
   "source": [
    "fig, ax = plt.subplots(figsize = (10,16))\n",
    "sns.regplot(x = y_hat, y = target, line_kws={\"color\": \"red\"})"
   ]
  },
  {
   "cell_type": "code",
   "execution_count": null,
   "metadata": {},
   "outputs": [],
   "source": []
  }
 ],
 "metadata": {
  "kernelspec": {
   "display_name": "Python (learn-env)",
   "language": "python",
   "name": "learn-env"
  },
  "language_info": {
   "codemirror_mode": {
    "name": "ipython",
    "version": 3
   },
   "file_extension": ".py",
   "mimetype": "text/x-python",
   "name": "python",
   "nbconvert_exporter": "python",
   "pygments_lexer": "ipython3",
   "version": "3.8.5"
  }
 },
 "nbformat": 4,
 "nbformat_minor": 4
}
