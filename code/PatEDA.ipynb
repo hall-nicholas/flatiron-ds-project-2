{
 "cells": [
  {
   "cell_type": "markdown",
   "metadata": {},
   "source": [
    "## Resources"
   ]
  },
  {
   "cell_type": "code",
   "execution_count": 28,
   "metadata": {},
   "outputs": [],
   "source": [
    "import matplotlib.pyplot as plt\n",
    "plt.style.use('seaborn')\n",
    "import numpy as np\n",
    "import pandas as pd\n",
    "import scipy.stats as stats\n",
    "import seaborn as sns\n",
    "import statsmodels.api as sm\n",
    "from statsmodels.formula.api import ols\n",
    "from sklearn.preprocessing import StandardScaler, OneHotEncoder, OrdinalEncoder\n",
    "from sklearn.linear_model import LinearRegression\n",
    "import matplotlib.ticker as ticker"
   ]
  },
  {
   "cell_type": "code",
   "execution_count": 29,
   "metadata": {},
   "outputs": [
    {
     "data": {
      "text/html": [
       "<div>\n",
       "<style scoped>\n",
       "    .dataframe tbody tr th:only-of-type {\n",
       "        vertical-align: middle;\n",
       "    }\n",
       "\n",
       "    .dataframe tbody tr th {\n",
       "        vertical-align: top;\n",
       "    }\n",
       "\n",
       "    .dataframe thead th {\n",
       "        text-align: right;\n",
       "    }\n",
       "</style>\n",
       "<table border=\"1\" class=\"dataframe\">\n",
       "  <thead>\n",
       "    <tr style=\"text-align: right;\">\n",
       "      <th></th>\n",
       "      <th>id</th>\n",
       "      <th>date</th>\n",
       "      <th>price</th>\n",
       "      <th>bedrooms</th>\n",
       "      <th>bathrooms</th>\n",
       "      <th>sqft_living</th>\n",
       "      <th>sqft_lot</th>\n",
       "      <th>floors</th>\n",
       "      <th>waterfront</th>\n",
       "      <th>greenbelt</th>\n",
       "      <th>...</th>\n",
       "      <th>sqft_patio</th>\n",
       "      <th>yr_built</th>\n",
       "      <th>yr_renovated</th>\n",
       "      <th>address</th>\n",
       "      <th>lat</th>\n",
       "      <th>long</th>\n",
       "      <th>age</th>\n",
       "      <th>state</th>\n",
       "      <th>bath_to_bed</th>\n",
       "      <th>zip</th>\n",
       "    </tr>\n",
       "  </thead>\n",
       "  <tbody>\n",
       "    <tr>\n",
       "      <th>0</th>\n",
       "      <td>7399300360</td>\n",
       "      <td>5/24/2022</td>\n",
       "      <td>675000.0</td>\n",
       "      <td>4</td>\n",
       "      <td>1.0</td>\n",
       "      <td>1180</td>\n",
       "      <td>7140</td>\n",
       "      <td>1.0</td>\n",
       "      <td>NO</td>\n",
       "      <td>NO</td>\n",
       "      <td>...</td>\n",
       "      <td>40</td>\n",
       "      <td>1969</td>\n",
       "      <td>0</td>\n",
       "      <td>2102 Southeast 21st Court, Renton, Washington ...</td>\n",
       "      <td>47.461975</td>\n",
       "      <td>-122.190520</td>\n",
       "      <td>52</td>\n",
       "      <td>Washington</td>\n",
       "      <td>0.250000</td>\n",
       "      <td>98055</td>\n",
       "    </tr>\n",
       "    <tr>\n",
       "      <th>1</th>\n",
       "      <td>8910500230</td>\n",
       "      <td>12/13/2021</td>\n",
       "      <td>920000.0</td>\n",
       "      <td>5</td>\n",
       "      <td>2.5</td>\n",
       "      <td>2770</td>\n",
       "      <td>6703</td>\n",
       "      <td>1.0</td>\n",
       "      <td>NO</td>\n",
       "      <td>NO</td>\n",
       "      <td>...</td>\n",
       "      <td>240</td>\n",
       "      <td>1950</td>\n",
       "      <td>0</td>\n",
       "      <td>11231 Greenwood Avenue North, Seattle, Washing...</td>\n",
       "      <td>47.711525</td>\n",
       "      <td>-122.355910</td>\n",
       "      <td>71</td>\n",
       "      <td>Washington</td>\n",
       "      <td>0.500000</td>\n",
       "      <td>98133</td>\n",
       "    </tr>\n",
       "    <tr>\n",
       "      <th>2</th>\n",
       "      <td>1180000275</td>\n",
       "      <td>9/29/2021</td>\n",
       "      <td>311000.0</td>\n",
       "      <td>6</td>\n",
       "      <td>2.0</td>\n",
       "      <td>2880</td>\n",
       "      <td>6156</td>\n",
       "      <td>1.0</td>\n",
       "      <td>NO</td>\n",
       "      <td>NO</td>\n",
       "      <td>...</td>\n",
       "      <td>0</td>\n",
       "      <td>1956</td>\n",
       "      <td>0</td>\n",
       "      <td>8504 South 113th Street, Seattle, Washington 9...</td>\n",
       "      <td>47.502045</td>\n",
       "      <td>-122.225200</td>\n",
       "      <td>65</td>\n",
       "      <td>Washington</td>\n",
       "      <td>0.333333</td>\n",
       "      <td>98178</td>\n",
       "    </tr>\n",
       "    <tr>\n",
       "      <th>5</th>\n",
       "      <td>2807100156</td>\n",
       "      <td>7/20/2021</td>\n",
       "      <td>625000.0</td>\n",
       "      <td>2</td>\n",
       "      <td>1.0</td>\n",
       "      <td>1190</td>\n",
       "      <td>5688</td>\n",
       "      <td>1.0</td>\n",
       "      <td>NO</td>\n",
       "      <td>NO</td>\n",
       "      <td>...</td>\n",
       "      <td>0</td>\n",
       "      <td>1948</td>\n",
       "      <td>0</td>\n",
       "      <td>1602 North 185th Street, Shoreline, Washington...</td>\n",
       "      <td>47.763470</td>\n",
       "      <td>-122.340155</td>\n",
       "      <td>73</td>\n",
       "      <td>Washington</td>\n",
       "      <td>0.500000</td>\n",
       "      <td>98133</td>\n",
       "    </tr>\n",
       "    <tr>\n",
       "      <th>6</th>\n",
       "      <td>5122400111</td>\n",
       "      <td>11/17/2021</td>\n",
       "      <td>1317227.0</td>\n",
       "      <td>3</td>\n",
       "      <td>3.0</td>\n",
       "      <td>2080</td>\n",
       "      <td>27574</td>\n",
       "      <td>1.0</td>\n",
       "      <td>NO</td>\n",
       "      <td>NO</td>\n",
       "      <td>...</td>\n",
       "      <td>150</td>\n",
       "      <td>1951</td>\n",
       "      <td>0</td>\n",
       "      <td>2633 Southwest 164th Place, Burien, Washington...</td>\n",
       "      <td>47.455470</td>\n",
       "      <td>-122.367220</td>\n",
       "      <td>70</td>\n",
       "      <td>Washington</td>\n",
       "      <td>1.000000</td>\n",
       "      <td>98166</td>\n",
       "    </tr>\n",
       "  </tbody>\n",
       "</table>\n",
       "<p>5 rows × 29 columns</p>\n",
       "</div>"
      ],
      "text/plain": [
       "           id        date      price  bedrooms  bathrooms  sqft_living  \\\n",
       "0  7399300360   5/24/2022   675000.0         4        1.0         1180   \n",
       "1  8910500230  12/13/2021   920000.0         5        2.5         2770   \n",
       "2  1180000275   9/29/2021   311000.0         6        2.0         2880   \n",
       "5  2807100156   7/20/2021   625000.0         2        1.0         1190   \n",
       "6  5122400111  11/17/2021  1317227.0         3        3.0         2080   \n",
       "\n",
       "   sqft_lot  floors waterfront greenbelt  ... sqft_patio yr_built  \\\n",
       "0      7140     1.0         NO        NO  ...         40     1969   \n",
       "1      6703     1.0         NO        NO  ...        240     1950   \n",
       "2      6156     1.0         NO        NO  ...          0     1956   \n",
       "5      5688     1.0         NO        NO  ...          0     1948   \n",
       "6     27574     1.0         NO        NO  ...        150     1951   \n",
       "\n",
       "   yr_renovated                                            address        lat  \\\n",
       "0             0  2102 Southeast 21st Court, Renton, Washington ...  47.461975   \n",
       "1             0  11231 Greenwood Avenue North, Seattle, Washing...  47.711525   \n",
       "2             0  8504 South 113th Street, Seattle, Washington 9...  47.502045   \n",
       "5             0  1602 North 185th Street, Shoreline, Washington...  47.763470   \n",
       "6             0  2633 Southwest 164th Place, Burien, Washington...  47.455470   \n",
       "\n",
       "         long  age       state  bath_to_bed    zip  \n",
       "0 -122.190520   52  Washington     0.250000  98055  \n",
       "1 -122.355910   71  Washington     0.500000  98133  \n",
       "2 -122.225200   65  Washington     0.333333  98178  \n",
       "5 -122.340155   73  Washington     0.500000  98133  \n",
       "6 -122.367220   70  Washington     1.000000  98166  \n",
       "\n",
       "[5 rows x 29 columns]"
      ]
     },
     "execution_count": 29,
     "metadata": {},
     "output_type": "execute_result"
    }
   ],
   "source": [
    "import functions as fn\n",
    "\n",
    "# See functions.py to see how the data is cleaned\n",
    "\n",
    "df = fn.import_and_clean_data('../data/kc_house_data.csv')\n",
    "df.head()"
   ]
  },
  {
   "cell_type": "markdown",
   "metadata": {},
   "source": [
    "## EDA"
   ]
  },
  {
   "cell_type": "code",
   "execution_count": 30,
   "metadata": {},
   "outputs": [
    {
     "data": {
      "text/plain": [
       "Index(['id', 'date', 'price', 'bedrooms', 'bathrooms', 'sqft_living',\n",
       "       'sqft_lot', 'floors', 'waterfront', 'greenbelt', 'nuisance', 'view',\n",
       "       'condition', 'grade', 'heat_source', 'sewer_system', 'sqft_above',\n",
       "       'sqft_basement', 'sqft_garage', 'sqft_patio', 'yr_built',\n",
       "       'yr_renovated', 'address', 'lat', 'long', 'age', 'state', 'bath_to_bed',\n",
       "       'zip'],\n",
       "      dtype='object')"
      ]
     },
     "execution_count": 30,
     "metadata": {},
     "output_type": "execute_result"
    }
   ],
   "source": [
    "df.columns"
   ]
  },
  {
   "cell_type": "code",
   "execution_count": 31,
   "metadata": {},
   "outputs": [
    {
     "name": "stdout",
     "output_type": "stream",
     "text": [
      "<class 'pandas.core.frame.DataFrame'>\n",
      "Int64Index: 12832 entries, 0 to 30154\n",
      "Data columns (total 29 columns):\n",
      " #   Column         Non-Null Count  Dtype  \n",
      "---  ------         --------------  -----  \n",
      " 0   id             12832 non-null  int64  \n",
      " 1   date           12832 non-null  object \n",
      " 2   price          12832 non-null  float64\n",
      " 3   bedrooms       12832 non-null  int64  \n",
      " 4   bathrooms      12832 non-null  float64\n",
      " 5   sqft_living    12832 non-null  int64  \n",
      " 6   sqft_lot       12832 non-null  int64  \n",
      " 7   floors         12832 non-null  float64\n",
      " 8   waterfront     12832 non-null  object \n",
      " 9   greenbelt      12832 non-null  object \n",
      " 10  nuisance       12832 non-null  object \n",
      " 11  view           12832 non-null  object \n",
      " 12  condition      12832 non-null  int64  \n",
      " 13  grade          12832 non-null  int64  \n",
      " 14  heat_source    12832 non-null  object \n",
      " 15  sewer_system   12832 non-null  object \n",
      " 16  sqft_above     12832 non-null  int64  \n",
      " 17  sqft_basement  12832 non-null  int64  \n",
      " 18  sqft_garage    12832 non-null  int64  \n",
      " 19  sqft_patio     12832 non-null  int64  \n",
      " 20  yr_built       12832 non-null  int64  \n",
      " 21  yr_renovated   12832 non-null  int64  \n",
      " 22  address        12832 non-null  object \n",
      " 23  lat            12832 non-null  float64\n",
      " 24  long           12832 non-null  float64\n",
      " 25  age            12832 non-null  int64  \n",
      " 26  state          12832 non-null  object \n",
      " 27  bath_to_bed    12832 non-null  float64\n",
      " 28  zip            12832 non-null  object \n",
      "dtypes: float64(6), int64(13), object(10)\n",
      "memory usage: 2.9+ MB\n"
     ]
    }
   ],
   "source": [
    "df.info()"
   ]
  },
  {
   "cell_type": "code",
   "execution_count": 32,
   "metadata": {},
   "outputs": [
    {
     "data": {
      "text/html": [
       "<div>\n",
       "<style scoped>\n",
       "    .dataframe tbody tr th:only-of-type {\n",
       "        vertical-align: middle;\n",
       "    }\n",
       "\n",
       "    .dataframe tbody tr th {\n",
       "        vertical-align: top;\n",
       "    }\n",
       "\n",
       "    .dataframe thead th {\n",
       "        text-align: right;\n",
       "    }\n",
       "</style>\n",
       "<table border=\"1\" class=\"dataframe\">\n",
       "  <thead>\n",
       "    <tr style=\"text-align: right;\">\n",
       "      <th></th>\n",
       "      <th>id</th>\n",
       "      <th>price</th>\n",
       "      <th>bedrooms</th>\n",
       "      <th>bathrooms</th>\n",
       "      <th>sqft_living</th>\n",
       "      <th>sqft_lot</th>\n",
       "      <th>floors</th>\n",
       "      <th>condition</th>\n",
       "      <th>grade</th>\n",
       "      <th>sqft_above</th>\n",
       "      <th>sqft_basement</th>\n",
       "      <th>sqft_garage</th>\n",
       "      <th>sqft_patio</th>\n",
       "      <th>yr_built</th>\n",
       "      <th>yr_renovated</th>\n",
       "      <th>lat</th>\n",
       "      <th>long</th>\n",
       "      <th>age</th>\n",
       "      <th>bath_to_bed</th>\n",
       "    </tr>\n",
       "  </thead>\n",
       "  <tbody>\n",
       "    <tr>\n",
       "      <th>count</th>\n",
       "      <td>1.283200e+04</td>\n",
       "      <td>1.283200e+04</td>\n",
       "      <td>12832.000000</td>\n",
       "      <td>12832.000000</td>\n",
       "      <td>12832.000000</td>\n",
       "      <td>12832.000000</td>\n",
       "      <td>12832.000000</td>\n",
       "      <td>12832.000000</td>\n",
       "      <td>12832.000000</td>\n",
       "      <td>12832.00000</td>\n",
       "      <td>12832.000000</td>\n",
       "      <td>12832.000000</td>\n",
       "      <td>12832.000000</td>\n",
       "      <td>12832.000000</td>\n",
       "      <td>12832.000000</td>\n",
       "      <td>12832.000000</td>\n",
       "      <td>12832.000000</td>\n",
       "      <td>12832.000000</td>\n",
       "      <td>12832.000000</td>\n",
       "    </tr>\n",
       "    <tr>\n",
       "      <th>mean</th>\n",
       "      <td>4.461447e+09</td>\n",
       "      <td>9.343150e+05</td>\n",
       "      <td>3.241116</td>\n",
       "      <td>1.851621</td>\n",
       "      <td>1726.036393</td>\n",
       "      <td>10301.686721</td>\n",
       "      <td>1.196150</td>\n",
       "      <td>3.680486</td>\n",
       "      <td>6.997117</td>\n",
       "      <td>1385.53538</td>\n",
       "      <td>574.179161</td>\n",
       "      <td>171.159523</td>\n",
       "      <td>157.014963</td>\n",
       "      <td>1945.083463</td>\n",
       "      <td>171.836736</td>\n",
       "      <td>47.564903</td>\n",
       "      <td>-122.271882</td>\n",
       "      <td>75.916537</td>\n",
       "      <td>0.585997</td>\n",
       "    </tr>\n",
       "    <tr>\n",
       "      <th>std</th>\n",
       "      <td>2.820651e+09</td>\n",
       "      <td>5.213920e+05</td>\n",
       "      <td>0.997073</td>\n",
       "      <td>0.770884</td>\n",
       "      <td>683.237186</td>\n",
       "      <td>12516.420694</td>\n",
       "      <td>0.355851</td>\n",
       "      <td>0.789120</td>\n",
       "      <td>0.845610</td>\n",
       "      <td>499.36629</td>\n",
       "      <td>547.639318</td>\n",
       "      <td>214.113876</td>\n",
       "      <td>185.027750</td>\n",
       "      <td>19.393287</td>\n",
       "      <td>560.119661</td>\n",
       "      <td>0.134117</td>\n",
       "      <td>0.110596</td>\n",
       "      <td>19.393287</td>\n",
       "      <td>0.214453</td>\n",
       "    </tr>\n",
       "    <tr>\n",
       "      <th>min</th>\n",
       "      <td>1.000055e+06</td>\n",
       "      <td>2.736000e+04</td>\n",
       "      <td>0.000000</td>\n",
       "      <td>0.000000</td>\n",
       "      <td>260.000000</td>\n",
       "      <td>648.000000</td>\n",
       "      <td>1.000000</td>\n",
       "      <td>1.000000</td>\n",
       "      <td>3.000000</td>\n",
       "      <td>260.00000</td>\n",
       "      <td>0.000000</td>\n",
       "      <td>0.000000</td>\n",
       "      <td>0.000000</td>\n",
       "      <td>1900.000000</td>\n",
       "      <td>0.000000</td>\n",
       "      <td>47.165650</td>\n",
       "      <td>-122.526650</td>\n",
       "      <td>50.000000</td>\n",
       "      <td>0.000000</td>\n",
       "    </tr>\n",
       "    <tr>\n",
       "      <th>25%</th>\n",
       "      <td>2.061100e+09</td>\n",
       "      <td>5.800000e+05</td>\n",
       "      <td>3.000000</td>\n",
       "      <td>1.000000</td>\n",
       "      <td>1210.000000</td>\n",
       "      <td>5274.250000</td>\n",
       "      <td>1.000000</td>\n",
       "      <td>3.000000</td>\n",
       "      <td>7.000000</td>\n",
       "      <td>1040.00000</td>\n",
       "      <td>0.000000</td>\n",
       "      <td>0.000000</td>\n",
       "      <td>0.000000</td>\n",
       "      <td>1929.000000</td>\n",
       "      <td>0.000000</td>\n",
       "      <td>47.482310</td>\n",
       "      <td>-122.350804</td>\n",
       "      <td>60.000000</td>\n",
       "      <td>0.500000</td>\n",
       "    </tr>\n",
       "    <tr>\n",
       "      <th>50%</th>\n",
       "      <td>3.878900e+09</td>\n",
       "      <td>8.050000e+05</td>\n",
       "      <td>3.000000</td>\n",
       "      <td>2.000000</td>\n",
       "      <td>1620.000000</td>\n",
       "      <td>7612.500000</td>\n",
       "      <td>1.000000</td>\n",
       "      <td>4.000000</td>\n",
       "      <td>7.000000</td>\n",
       "      <td>1300.00000</td>\n",
       "      <td>630.000000</td>\n",
       "      <td>0.000000</td>\n",
       "      <td>100.000000</td>\n",
       "      <td>1950.000000</td>\n",
       "      <td>0.000000</td>\n",
       "      <td>47.575073</td>\n",
       "      <td>-122.300145</td>\n",
       "      <td>71.000000</td>\n",
       "      <td>0.500000</td>\n",
       "    </tr>\n",
       "    <tr>\n",
       "      <th>75%</th>\n",
       "      <td>7.168450e+09</td>\n",
       "      <td>1.150000e+06</td>\n",
       "      <td>4.000000</td>\n",
       "      <td>2.000000</td>\n",
       "      <td>2130.000000</td>\n",
       "      <td>10088.000000</td>\n",
       "      <td>1.500000</td>\n",
       "      <td>4.000000</td>\n",
       "      <td>7.000000</td>\n",
       "      <td>1630.00000</td>\n",
       "      <td>1040.000000</td>\n",
       "      <td>340.000000</td>\n",
       "      <td>240.000000</td>\n",
       "      <td>1961.000000</td>\n",
       "      <td>0.000000</td>\n",
       "      <td>47.678521</td>\n",
       "      <td>-122.209464</td>\n",
       "      <td>92.000000</td>\n",
       "      <td>0.666667</td>\n",
       "    </tr>\n",
       "    <tr>\n",
       "      <th>max</th>\n",
       "      <td>9.904000e+09</td>\n",
       "      <td>3.750000e+06</td>\n",
       "      <td>9.000000</td>\n",
       "      <td>7.500000</td>\n",
       "      <td>4280.000000</td>\n",
       "      <td>161607.000000</td>\n",
       "      <td>3.000000</td>\n",
       "      <td>5.000000</td>\n",
       "      <td>12.000000</td>\n",
       "      <td>5500.00000</td>\n",
       "      <td>1940.000000</td>\n",
       "      <td>780.000000</td>\n",
       "      <td>940.000000</td>\n",
       "      <td>1971.000000</td>\n",
       "      <td>2022.000000</td>\n",
       "      <td>47.777640</td>\n",
       "      <td>-121.163960</td>\n",
       "      <td>121.000000</td>\n",
       "      <td>3.000000</td>\n",
       "    </tr>\n",
       "  </tbody>\n",
       "</table>\n",
       "</div>"
      ],
      "text/plain": [
       "                 id         price      bedrooms     bathrooms   sqft_living  \\\n",
       "count  1.283200e+04  1.283200e+04  12832.000000  12832.000000  12832.000000   \n",
       "mean   4.461447e+09  9.343150e+05      3.241116      1.851621   1726.036393   \n",
       "std    2.820651e+09  5.213920e+05      0.997073      0.770884    683.237186   \n",
       "min    1.000055e+06  2.736000e+04      0.000000      0.000000    260.000000   \n",
       "25%    2.061100e+09  5.800000e+05      3.000000      1.000000   1210.000000   \n",
       "50%    3.878900e+09  8.050000e+05      3.000000      2.000000   1620.000000   \n",
       "75%    7.168450e+09  1.150000e+06      4.000000      2.000000   2130.000000   \n",
       "max    9.904000e+09  3.750000e+06      9.000000      7.500000   4280.000000   \n",
       "\n",
       "            sqft_lot        floors     condition         grade   sqft_above  \\\n",
       "count   12832.000000  12832.000000  12832.000000  12832.000000  12832.00000   \n",
       "mean    10301.686721      1.196150      3.680486      6.997117   1385.53538   \n",
       "std     12516.420694      0.355851      0.789120      0.845610    499.36629   \n",
       "min       648.000000      1.000000      1.000000      3.000000    260.00000   \n",
       "25%      5274.250000      1.000000      3.000000      7.000000   1040.00000   \n",
       "50%      7612.500000      1.000000      4.000000      7.000000   1300.00000   \n",
       "75%     10088.000000      1.500000      4.000000      7.000000   1630.00000   \n",
       "max    161607.000000      3.000000      5.000000     12.000000   5500.00000   \n",
       "\n",
       "       sqft_basement   sqft_garage    sqft_patio      yr_built  yr_renovated  \\\n",
       "count   12832.000000  12832.000000  12832.000000  12832.000000  12832.000000   \n",
       "mean      574.179161    171.159523    157.014963   1945.083463    171.836736   \n",
       "std       547.639318    214.113876    185.027750     19.393287    560.119661   \n",
       "min         0.000000      0.000000      0.000000   1900.000000      0.000000   \n",
       "25%         0.000000      0.000000      0.000000   1929.000000      0.000000   \n",
       "50%       630.000000      0.000000    100.000000   1950.000000      0.000000   \n",
       "75%      1040.000000    340.000000    240.000000   1961.000000      0.000000   \n",
       "max      1940.000000    780.000000    940.000000   1971.000000   2022.000000   \n",
       "\n",
       "                lat          long           age   bath_to_bed  \n",
       "count  12832.000000  12832.000000  12832.000000  12832.000000  \n",
       "mean      47.564903   -122.271882     75.916537      0.585997  \n",
       "std        0.134117      0.110596     19.393287      0.214453  \n",
       "min       47.165650   -122.526650     50.000000      0.000000  \n",
       "25%       47.482310   -122.350804     60.000000      0.500000  \n",
       "50%       47.575073   -122.300145     71.000000      0.500000  \n",
       "75%       47.678521   -122.209464     92.000000      0.666667  \n",
       "max       47.777640   -121.163960    121.000000      3.000000  "
      ]
     },
     "execution_count": 32,
     "metadata": {},
     "output_type": "execute_result"
    }
   ],
   "source": [
    "df.describe()"
   ]
  },
  {
   "cell_type": "code",
   "execution_count": 33,
   "metadata": {},
   "outputs": [
    {
     "data": {
      "text/html": [
       "<div>\n",
       "<style scoped>\n",
       "    .dataframe tbody tr th:only-of-type {\n",
       "        vertical-align: middle;\n",
       "    }\n",
       "\n",
       "    .dataframe tbody tr th {\n",
       "        vertical-align: top;\n",
       "    }\n",
       "\n",
       "    .dataframe thead th {\n",
       "        text-align: right;\n",
       "    }\n",
       "</style>\n",
       "<table border=\"1\" class=\"dataframe\">\n",
       "  <thead>\n",
       "    <tr style=\"text-align: right;\">\n",
       "      <th></th>\n",
       "      <th>id</th>\n",
       "      <th>price</th>\n",
       "      <th>bedrooms</th>\n",
       "      <th>bathrooms</th>\n",
       "      <th>sqft_living</th>\n",
       "      <th>sqft_lot</th>\n",
       "      <th>floors</th>\n",
       "      <th>condition</th>\n",
       "      <th>grade</th>\n",
       "      <th>sqft_above</th>\n",
       "      <th>sqft_basement</th>\n",
       "      <th>sqft_garage</th>\n",
       "      <th>sqft_patio</th>\n",
       "      <th>yr_built</th>\n",
       "      <th>yr_renovated</th>\n",
       "      <th>lat</th>\n",
       "      <th>long</th>\n",
       "      <th>age</th>\n",
       "      <th>bath_to_bed</th>\n",
       "    </tr>\n",
       "  </thead>\n",
       "  <tbody>\n",
       "    <tr>\n",
       "      <th>count</th>\n",
       "      <td>1.283200e+04</td>\n",
       "      <td>1.283200e+04</td>\n",
       "      <td>12832.000000</td>\n",
       "      <td>12832.000000</td>\n",
       "      <td>12832.000000</td>\n",
       "      <td>12832.000000</td>\n",
       "      <td>12832.000000</td>\n",
       "      <td>12832.000000</td>\n",
       "      <td>12832.000000</td>\n",
       "      <td>12832.00000</td>\n",
       "      <td>12832.000000</td>\n",
       "      <td>12832.000000</td>\n",
       "      <td>12832.000000</td>\n",
       "      <td>12832.000000</td>\n",
       "      <td>12832.000000</td>\n",
       "      <td>12832.000000</td>\n",
       "      <td>12832.000000</td>\n",
       "      <td>12832.000000</td>\n",
       "      <td>12832.000000</td>\n",
       "    </tr>\n",
       "    <tr>\n",
       "      <th>mean</th>\n",
       "      <td>4.461447e+09</td>\n",
       "      <td>9.343150e+05</td>\n",
       "      <td>3.241116</td>\n",
       "      <td>1.851621</td>\n",
       "      <td>1726.036393</td>\n",
       "      <td>10301.686721</td>\n",
       "      <td>1.196150</td>\n",
       "      <td>3.680486</td>\n",
       "      <td>6.997117</td>\n",
       "      <td>1385.53538</td>\n",
       "      <td>574.179161</td>\n",
       "      <td>171.159523</td>\n",
       "      <td>157.014963</td>\n",
       "      <td>1945.083463</td>\n",
       "      <td>171.836736</td>\n",
       "      <td>47.564903</td>\n",
       "      <td>-122.271882</td>\n",
       "      <td>75.916537</td>\n",
       "      <td>0.585997</td>\n",
       "    </tr>\n",
       "    <tr>\n",
       "      <th>std</th>\n",
       "      <td>2.820651e+09</td>\n",
       "      <td>5.213920e+05</td>\n",
       "      <td>0.997073</td>\n",
       "      <td>0.770884</td>\n",
       "      <td>683.237186</td>\n",
       "      <td>12516.420694</td>\n",
       "      <td>0.355851</td>\n",
       "      <td>0.789120</td>\n",
       "      <td>0.845610</td>\n",
       "      <td>499.36629</td>\n",
       "      <td>547.639318</td>\n",
       "      <td>214.113876</td>\n",
       "      <td>185.027750</td>\n",
       "      <td>19.393287</td>\n",
       "      <td>560.119661</td>\n",
       "      <td>0.134117</td>\n",
       "      <td>0.110596</td>\n",
       "      <td>19.393287</td>\n",
       "      <td>0.214453</td>\n",
       "    </tr>\n",
       "    <tr>\n",
       "      <th>min</th>\n",
       "      <td>1.000055e+06</td>\n",
       "      <td>2.736000e+04</td>\n",
       "      <td>0.000000</td>\n",
       "      <td>0.000000</td>\n",
       "      <td>260.000000</td>\n",
       "      <td>648.000000</td>\n",
       "      <td>1.000000</td>\n",
       "      <td>1.000000</td>\n",
       "      <td>3.000000</td>\n",
       "      <td>260.00000</td>\n",
       "      <td>0.000000</td>\n",
       "      <td>0.000000</td>\n",
       "      <td>0.000000</td>\n",
       "      <td>1900.000000</td>\n",
       "      <td>0.000000</td>\n",
       "      <td>47.165650</td>\n",
       "      <td>-122.526650</td>\n",
       "      <td>50.000000</td>\n",
       "      <td>0.000000</td>\n",
       "    </tr>\n",
       "    <tr>\n",
       "      <th>25%</th>\n",
       "      <td>2.061100e+09</td>\n",
       "      <td>5.800000e+05</td>\n",
       "      <td>3.000000</td>\n",
       "      <td>1.000000</td>\n",
       "      <td>1210.000000</td>\n",
       "      <td>5274.250000</td>\n",
       "      <td>1.000000</td>\n",
       "      <td>3.000000</td>\n",
       "      <td>7.000000</td>\n",
       "      <td>1040.00000</td>\n",
       "      <td>0.000000</td>\n",
       "      <td>0.000000</td>\n",
       "      <td>0.000000</td>\n",
       "      <td>1929.000000</td>\n",
       "      <td>0.000000</td>\n",
       "      <td>47.482310</td>\n",
       "      <td>-122.350804</td>\n",
       "      <td>60.000000</td>\n",
       "      <td>0.500000</td>\n",
       "    </tr>\n",
       "    <tr>\n",
       "      <th>50%</th>\n",
       "      <td>3.878900e+09</td>\n",
       "      <td>8.050000e+05</td>\n",
       "      <td>3.000000</td>\n",
       "      <td>2.000000</td>\n",
       "      <td>1620.000000</td>\n",
       "      <td>7612.500000</td>\n",
       "      <td>1.000000</td>\n",
       "      <td>4.000000</td>\n",
       "      <td>7.000000</td>\n",
       "      <td>1300.00000</td>\n",
       "      <td>630.000000</td>\n",
       "      <td>0.000000</td>\n",
       "      <td>100.000000</td>\n",
       "      <td>1950.000000</td>\n",
       "      <td>0.000000</td>\n",
       "      <td>47.575073</td>\n",
       "      <td>-122.300145</td>\n",
       "      <td>71.000000</td>\n",
       "      <td>0.500000</td>\n",
       "    </tr>\n",
       "    <tr>\n",
       "      <th>75%</th>\n",
       "      <td>7.168450e+09</td>\n",
       "      <td>1.150000e+06</td>\n",
       "      <td>4.000000</td>\n",
       "      <td>2.000000</td>\n",
       "      <td>2130.000000</td>\n",
       "      <td>10088.000000</td>\n",
       "      <td>1.500000</td>\n",
       "      <td>4.000000</td>\n",
       "      <td>7.000000</td>\n",
       "      <td>1630.00000</td>\n",
       "      <td>1040.000000</td>\n",
       "      <td>340.000000</td>\n",
       "      <td>240.000000</td>\n",
       "      <td>1961.000000</td>\n",
       "      <td>0.000000</td>\n",
       "      <td>47.678521</td>\n",
       "      <td>-122.209464</td>\n",
       "      <td>92.000000</td>\n",
       "      <td>0.666667</td>\n",
       "    </tr>\n",
       "    <tr>\n",
       "      <th>max</th>\n",
       "      <td>9.904000e+09</td>\n",
       "      <td>3.750000e+06</td>\n",
       "      <td>9.000000</td>\n",
       "      <td>7.500000</td>\n",
       "      <td>4280.000000</td>\n",
       "      <td>161607.000000</td>\n",
       "      <td>3.000000</td>\n",
       "      <td>5.000000</td>\n",
       "      <td>12.000000</td>\n",
       "      <td>5500.00000</td>\n",
       "      <td>1940.000000</td>\n",
       "      <td>780.000000</td>\n",
       "      <td>940.000000</td>\n",
       "      <td>1971.000000</td>\n",
       "      <td>2022.000000</td>\n",
       "      <td>47.777640</td>\n",
       "      <td>-121.163960</td>\n",
       "      <td>121.000000</td>\n",
       "      <td>3.000000</td>\n",
       "    </tr>\n",
       "  </tbody>\n",
       "</table>\n",
       "</div>"
      ],
      "text/plain": [
       "                 id         price      bedrooms     bathrooms   sqft_living  \\\n",
       "count  1.283200e+04  1.283200e+04  12832.000000  12832.000000  12832.000000   \n",
       "mean   4.461447e+09  9.343150e+05      3.241116      1.851621   1726.036393   \n",
       "std    2.820651e+09  5.213920e+05      0.997073      0.770884    683.237186   \n",
       "min    1.000055e+06  2.736000e+04      0.000000      0.000000    260.000000   \n",
       "25%    2.061100e+09  5.800000e+05      3.000000      1.000000   1210.000000   \n",
       "50%    3.878900e+09  8.050000e+05      3.000000      2.000000   1620.000000   \n",
       "75%    7.168450e+09  1.150000e+06      4.000000      2.000000   2130.000000   \n",
       "max    9.904000e+09  3.750000e+06      9.000000      7.500000   4280.000000   \n",
       "\n",
       "            sqft_lot        floors     condition         grade   sqft_above  \\\n",
       "count   12832.000000  12832.000000  12832.000000  12832.000000  12832.00000   \n",
       "mean    10301.686721      1.196150      3.680486      6.997117   1385.53538   \n",
       "std     12516.420694      0.355851      0.789120      0.845610    499.36629   \n",
       "min       648.000000      1.000000      1.000000      3.000000    260.00000   \n",
       "25%      5274.250000      1.000000      3.000000      7.000000   1040.00000   \n",
       "50%      7612.500000      1.000000      4.000000      7.000000   1300.00000   \n",
       "75%     10088.000000      1.500000      4.000000      7.000000   1630.00000   \n",
       "max    161607.000000      3.000000      5.000000     12.000000   5500.00000   \n",
       "\n",
       "       sqft_basement   sqft_garage    sqft_patio      yr_built  yr_renovated  \\\n",
       "count   12832.000000  12832.000000  12832.000000  12832.000000  12832.000000   \n",
       "mean      574.179161    171.159523    157.014963   1945.083463    171.836736   \n",
       "std       547.639318    214.113876    185.027750     19.393287    560.119661   \n",
       "min         0.000000      0.000000      0.000000   1900.000000      0.000000   \n",
       "25%         0.000000      0.000000      0.000000   1929.000000      0.000000   \n",
       "50%       630.000000      0.000000    100.000000   1950.000000      0.000000   \n",
       "75%      1040.000000    340.000000    240.000000   1961.000000      0.000000   \n",
       "max      1940.000000    780.000000    940.000000   1971.000000   2022.000000   \n",
       "\n",
       "                lat          long           age   bath_to_bed  \n",
       "count  12832.000000  12832.000000  12832.000000  12832.000000  \n",
       "mean      47.564903   -122.271882     75.916537      0.585997  \n",
       "std        0.134117      0.110596     19.393287      0.214453  \n",
       "min       47.165650   -122.526650     50.000000      0.000000  \n",
       "25%       47.482310   -122.350804     60.000000      0.500000  \n",
       "50%       47.575073   -122.300145     71.000000      0.500000  \n",
       "75%       47.678521   -122.209464     92.000000      0.666667  \n",
       "max       47.777640   -121.163960    121.000000      3.000000  "
      ]
     },
     "execution_count": 33,
     "metadata": {},
     "output_type": "execute_result"
    }
   ],
   "source": [
    "df = df[df['age'] > 49]\n",
    "df.describe()"
   ]
  },
  {
   "cell_type": "code",
   "execution_count": 34,
   "metadata": {},
   "outputs": [
    {
     "name": "stdout",
     "output_type": "stream",
     "text": [
      "1473     4280\n",
      "4238     4280\n",
      "11611    4250\n",
      "5296     4240\n",
      "7766     4220\n",
      "         ... \n",
      "476       320\n",
      "11420     320\n",
      "11989     310\n",
      "23622     290\n",
      "8694      260\n",
      "Name: sqft_living, Length: 12832, dtype: int64\n"
     ]
    }
   ],
   "source": [
    "print(df['sqft_living'].sort_values(ascending = False))"
   ]
  },
  {
   "cell_type": "code",
   "execution_count": 35,
   "metadata": {},
   "outputs": [
    {
     "data": {
      "text/plain": [
       "<AxesSubplot:ylabel='Frequency'>"
      ]
     },
     "execution_count": 35,
     "metadata": {},
     "output_type": "execute_result"
    },
    {
     "data": {
      "image/png": "[encoded data removed]",
      "text/plain": [
       "<Figure size 576x396 with 1 Axes>"
      ]
     },
     "metadata": {},
     "output_type": "display_data"
    }
   ],
   "source": [
    "df['sqft_living'].plot(kind = 'hist', bins = 50)"
   ]
  },
  {
   "cell_type": "code",
   "execution_count": 36,
   "metadata": {},
   "outputs": [
    {
     "name": "stdout",
     "output_type": "stream",
     "text": [
      "4878     161607\n",
      "3543     159865\n",
      "6256     156162\n",
      "29835    155509\n",
      "19787    154202\n",
      "          ...  \n",
      "13100       919\n",
      "23894       917\n",
      "6810        900\n",
      "21237       800\n",
      "17155       648\n",
      "Name: sqft_lot, Length: 12832, dtype: int64\n"
     ]
    }
   ],
   "source": [
    "print(df['sqft_lot'].sort_values(ascending = False))"
   ]
  },
  {
   "cell_type": "code",
   "execution_count": 37,
   "metadata": {},
   "outputs": [
    {
     "data": {
      "text/plain": [
       "<AxesSubplot:ylabel='Frequency'>"
      ]
     },
     "execution_count": 37,
     "metadata": {},
     "output_type": "execute_result"
    },
    {
     "data": {
      "image/png": "[encoded data removed]",
      "text/plain": [
       "<Figure size 576x396 with 1 Axes>"
      ]
     },
     "metadata": {},
     "output_type": "display_data"
    }
   ],
   "source": [
    "df['sqft_lot'].plot(kind = 'hist', bins = 50)"
   ]
  },
  {
   "cell_type": "code",
   "execution_count": 38,
   "metadata": {},
   "outputs": [
    {
     "name": "stdout",
     "output_type": "stream",
     "text": [
      "21623    9\n",
      "7766     9\n",
      "11275    9\n",
      "4089     9\n",
      "9455     9\n",
      "        ..\n",
      "11471    0\n",
      "12473    0\n",
      "9487     0\n",
      "14636    0\n",
      "1310     0\n",
      "Name: bedrooms, Length: 12832, dtype: int64\n"
     ]
    }
   ],
   "source": [
    "print(df['bedrooms'].sort_values(ascending = False))"
   ]
  },
  {
   "cell_type": "code",
   "execution_count": 39,
   "metadata": {},
   "outputs": [
    {
     "data": {
      "text/plain": [
       "<AxesSubplot:ylabel='Frequency'>"
      ]
     },
     "execution_count": 39,
     "metadata": {},
     "output_type": "execute_result"
    },
    {
     "data": {
      "image/png": "[encoded data removed]",
      "text/plain": [
       "<Figure size 576x396 with 1 Axes>"
      ]
     },
     "metadata": {},
     "output_type": "display_data"
    }
   ],
   "source": [
    "df['bedrooms'].plot(kind = 'hist', bins = 10)"
   ]
  },
  {
   "cell_type": "code",
   "execution_count": 40,
   "metadata": {},
   "outputs": [
    {
     "name": "stdout",
     "output_type": "stream",
     "text": [
      "657      7.5\n",
      "21623    7.5\n",
      "5089     6.5\n",
      "28471    6.0\n",
      "631      6.0\n",
      "        ... \n",
      "3859     0.5\n",
      "8468     0.0\n",
      "1310     0.0\n",
      "1952     0.0\n",
      "29732    0.0\n",
      "Name: bathrooms, Length: 12832, dtype: float64\n"
     ]
    }
   ],
   "source": [
    "print(df['bathrooms'].sort_values(ascending = False))"
   ]
  },
  {
   "cell_type": "code",
   "execution_count": 41,
   "metadata": {},
   "outputs": [
    {
     "data": {
      "text/plain": [
       "<AxesSubplot:ylabel='Frequency'>"
      ]
     },
     "execution_count": 41,
     "metadata": {},
     "output_type": "execute_result"
    },
    {
     "data": {
      "image/png": "[encoded data removed]",
      "text/plain": [
       "<Figure size 576x396 with 1 Axes>"
      ]
     },
     "metadata": {},
     "output_type": "display_data"
    }
   ],
   "source": [
    "df['bathrooms'].plot(kind = 'hist', bins = 10)"
   ]
  },
  {
   "cell_type": "code",
   "execution_count": 42,
   "metadata": {},
   "outputs": [
    {
     "name": "stdout",
     "output_type": "stream",
     "text": [
      "19705    5\n",
      "7555     5\n",
      "7630     5\n",
      "3939     5\n",
      "13908    5\n",
      "        ..\n",
      "17906    1\n",
      "28129    1\n",
      "26052    1\n",
      "23335    1\n",
      "2069     1\n",
      "Name: condition, Length: 12832, dtype: int64\n"
     ]
    }
   ],
   "source": [
    "print(df['condition'].sort_values(ascending = False))"
   ]
  },
  {
   "cell_type": "code",
   "execution_count": 43,
   "metadata": {},
   "outputs": [
    {
     "data": {
      "text/plain": [
       "<AxesSubplot:ylabel='Frequency'>"
      ]
     },
     "execution_count": 43,
     "metadata": {},
     "output_type": "execute_result"
    },
    {
     "data": {
      "image/png": "[encoded data removed]",
      "text/plain": [
       "<Figure size 576x396 with 1 Axes>"
      ]
     },
     "metadata": {},
     "output_type": "display_data"
    }
   ],
   "source": [
    "df['condition'].plot(kind = 'hist', bins = 5)"
   ]
  },
  {
   "cell_type": "code",
   "execution_count": 44,
   "metadata": {},
   "outputs": [
    {
     "name": "stdout",
     "output_type": "stream",
     "text": [
      "6903     12\n",
      "10047    11\n",
      "22845    11\n",
      "1082     11\n",
      "3945     11\n",
      "         ..\n",
      "28397     3\n",
      "21804     3\n",
      "8468      3\n",
      "29732     3\n",
      "9487      3\n",
      "Name: grade, Length: 12832, dtype: int64\n"
     ]
    }
   ],
   "source": [
    "print(df['grade'].sort_values(ascending = False))"
   ]
  },
  {
   "cell_type": "code",
   "execution_count": 45,
   "metadata": {},
   "outputs": [
    {
     "data": {
      "text/plain": [
       "<AxesSubplot:ylabel='Frequency'>"
      ]
     },
     "execution_count": 45,
     "metadata": {},
     "output_type": "execute_result"
    },
    {
     "data": {
      "image/png": "[encoded data removed]",
      "text/plain": [
       "<Figure size 576x396 with 1 Axes>"
      ]
     },
     "metadata": {},
     "output_type": "display_data"
    }
   ],
   "source": [
    "df['grade'].plot(kind = 'hist', bins = 10)"
   ]
  },
  {
   "cell_type": "code",
   "execution_count": 46,
   "metadata": {},
   "outputs": [
    {
     "name": "stdout",
     "output_type": "stream",
     "text": [
      "2907     1940\n",
      "23898    1940\n",
      "24839    1930\n",
      "21590    1930\n",
      "20798    1930\n",
      "         ... \n",
      "16319       0\n",
      "16324       0\n",
      "16327       0\n",
      "16339       0\n",
      "0           0\n",
      "Name: sqft_basement, Length: 12832, dtype: int64\n"
     ]
    }
   ],
   "source": [
    "print(df['sqft_basement'].sort_values(ascending = False))"
   ]
  },
  {
   "cell_type": "code",
   "execution_count": 47,
   "metadata": {},
   "outputs": [
    {
     "data": {
      "text/plain": [
       "<AxesSubplot:ylabel='Frequency'>"
      ]
     },
     "execution_count": 47,
     "metadata": {},
     "output_type": "execute_result"
    },
    {
     "data": {
      "image/png": "[encoded data removed]",
      "text/plain": [
       "<Figure size 576x396 with 1 Axes>"
      ]
     },
     "metadata": {},
     "output_type": "display_data"
    }
   ],
   "source": [
    "df['sqft_basement'].plot(kind = 'hist', bins = 50)"
   ]
  },
  {
   "cell_type": "code",
   "execution_count": 48,
   "metadata": {},
   "outputs": [
    {
     "name": "stdout",
     "output_type": "stream",
     "text": [
      "26205    940\n",
      "19872    940\n",
      "28878    940\n",
      "24303    940\n",
      "18763    940\n",
      "        ... \n",
      "15156      0\n",
      "15165      0\n",
      "15169      0\n",
      "15171      0\n",
      "15128      0\n",
      "Name: sqft_patio, Length: 12832, dtype: int64\n"
     ]
    }
   ],
   "source": [
    "print(df['sqft_patio'].sort_values(ascending = False))"
   ]
  },
  {
   "cell_type": "code",
   "execution_count": 49,
   "metadata": {},
   "outputs": [
    {
     "data": {
      "text/plain": [
       "<AxesSubplot:ylabel='Frequency'>"
      ]
     },
     "execution_count": 49,
     "metadata": {},
     "output_type": "execute_result"
    },
    {
     "data": {
      "image/png": "[encoded data removed]",
      "text/plain": [
       "<Figure size 576x396 with 1 Axes>"
      ]
     },
     "metadata": {},
     "output_type": "display_data"
    }
   ],
   "source": [
    "df['sqft_patio'].plot(kind = 'hist', bins = 50)"
   ]
  },
  {
   "cell_type": "code",
   "execution_count": 50,
   "metadata": {},
   "outputs": [
    {
     "name": "stdout",
     "output_type": "stream",
     "text": [
      "23968    780\n",
      "1638     780\n",
      "28423    780\n",
      "9445     780\n",
      "4451     780\n",
      "        ... \n",
      "17291      0\n",
      "17287      0\n",
      "17280      0\n",
      "17279      0\n",
      "0          0\n",
      "Name: sqft_garage, Length: 12832, dtype: int64\n"
     ]
    }
   ],
   "source": [
    "print(df['sqft_garage'].sort_values(ascending = False))"
   ]
  },
  {
   "cell_type": "code",
   "execution_count": 51,
   "metadata": {},
   "outputs": [
    {
     "data": {
      "text/plain": [
       "<AxesSubplot:ylabel='Frequency'>"
      ]
     },
     "execution_count": 51,
     "metadata": {},
     "output_type": "execute_result"
    },
    {
     "data": {
      "image/png": "[encoded data removed]",
      "text/plain": [
       "<Figure size 576x396 with 1 Axes>"
      ]
     },
     "metadata": {},
     "output_type": "display_data"
    }
   ],
   "source": [
    "df['sqft_garage'].plot(kind = 'hist', bins = 50)"
   ]
  },
  {
   "cell_type": "code",
   "execution_count": 52,
   "metadata": {},
   "outputs": [],
   "source": [
    "df_reno = df.copy()\n",
    "df_reno['Renovation'] = df_reno['yr_renovated'].apply(lambda x: 1 if x > 0 else 0)\n"
   ]
  },
  {
   "cell_type": "code",
   "execution_count": 53,
   "metadata": {},
   "outputs": [
    {
     "ename": "NameError",
     "evalue": "name 'historic' is not defined",
     "output_type": "error",
     "traceback": [
      "\u001b[1;31m---------------------------------------------------------------------------\u001b[0m",
      "\u001b[1;31mNameError\u001b[0m                                 Traceback (most recent call last)",
      "\u001b[1;32m<ipython-input-53-933d96700377>\u001b[0m in \u001b[0;36m<module>\u001b[1;34m\u001b[0m\n\u001b[0;32m     23\u001b[0m \u001b[1;31m# ax.set_yticklabels(ylabels)\u001b[0m\u001b[1;33m\u001b[0m\u001b[1;33m\u001b[0m\u001b[1;33m\u001b[0m\u001b[0m\n\u001b[0;32m     24\u001b[0m \u001b[1;31m# # plt.yticks([0, 4000, 8000, 10000, 12000, 14000])\u001b[0m\u001b[1;33m\u001b[0m\u001b[1;33m\u001b[0m\u001b[1;33m\u001b[0m\u001b[0m\n\u001b[1;32m---> 25\u001b[1;33m \u001b[0mprint\u001b[0m\u001b[1;33m(\u001b[0m\u001b[0mhistoric\u001b[0m\u001b[1;33m[\u001b[0m\u001b[1;34m'price'\u001b[0m\u001b[1;33m]\u001b[0m\u001b[1;33m.\u001b[0m\u001b[0mmedian\u001b[0m\u001b[1;33m(\u001b[0m\u001b[1;33m)\u001b[0m\u001b[1;33m)\u001b[0m\u001b[1;33m\u001b[0m\u001b[1;33m\u001b[0m\u001b[0m\n\u001b[0m\u001b[0;32m     26\u001b[0m \u001b[0mprint\u001b[0m\u001b[1;33m(\u001b[0m\u001b[0mno_renovation_median\u001b[0m\u001b[1;33m)\u001b[0m\u001b[1;33m\u001b[0m\u001b[1;33m\u001b[0m\u001b[0m\n\u001b[0;32m     27\u001b[0m \u001b[0mprint\u001b[0m\u001b[1;33m(\u001b[0m\u001b[0mrenovated_median\u001b[0m\u001b[1;33m)\u001b[0m\u001b[1;33m\u001b[0m\u001b[1;33m\u001b[0m\u001b[0m\n",
      "\u001b[1;31mNameError\u001b[0m: name 'historic' is not defined"
     ]
    },
    {
     "data": {
      "image/png": "[encoded data removed]",
      "text/plain": [
       "<Figure size 648x432 with 1 Axes>"
      ]
     },
     "metadata": {},
     "output_type": "display_data"
    }
   ],
   "source": [
    "renovated = df_reno[(df_reno[\"Renovation\"] == 1)]\n",
    "renovated_median = renovated.price.median()\n",
    "no_renovation = df_reno[(df_reno[\"Renovation\"] == 0)]\n",
    "no_renovation_median = no_renovation.price.median()\n",
    "\n",
    "label_renovation = [\"Renovated\", \"No Renovation\"]\n",
    "values_renovation = [renovated_median, no_renovation_median]\n",
    "\n",
    "fig, ax = plt.subplots( figsize=(9,6))\n",
    "sns.barplot(ax=ax, x=label_renovation, y=values_renovation )\n",
    "# ax.get_yaxis().set_major_formatter(\n",
    "#     plt.FuncFormatter(lambda x, p: format(int(x), ',')))\n",
    "\n",
    "\n",
    "plt.suptitle(\"Renovations influence property value\", size=16, y=.95)\n",
    "ax.hlines(df_reno['price'].median(), -.5 ,1.5, colors=\"red\", label=\"Median House Price\")\n",
    "ax.set_ylim(0,1.2*renovated_median)\n",
    "ax.legend()\n",
    "ax.set_ylabel(\"Sale Price in millions\")\n",
    "plt.xticks(fontsize = 16)\n",
    "plt.yticks(fontsize = 16)\n",
    "# ylabels = ['{:,.2f}'.format(y) + 'K' for x in ax.get_yticks()/1000]\n",
    "# ax.set_yticklabels(ylabels)\n",
    "# # plt.yticks([0, 4000, 8000, 10000, 12000, 14000])"
   ]
  },
  {
   "cell_type": "markdown",
   "metadata": {},
   "source": [
    "## Model Exploration"
   ]
  },
  {
   "cell_type": "code",
   "execution_count": null,
   "metadata": {
    "scrolled": true
   },
   "outputs": [],
   "source": [
    "\n",
    "df = df.drop(['id', 'date', 'sqft_lot', 'sqft_above', 'floors', 'yr_built', 'yr_renovated', 'lat', 'long', 'waterfront', 'greenbelt', 'nuisance', 'view', 'heat_source', 'sewer_system', 'address', 'age', 'state', 'zip'], axis=1)\n",
    "df.head()"
   ]
  },
  {
   "cell_type": "code",
   "execution_count": null,
   "metadata": {
    "scrolled": true
   },
   "outputs": [],
   "source": [
    "\n",
    "df.corr()"
   ]
  },
  {
   "cell_type": "code",
   "execution_count": null,
   "metadata": {},
   "outputs": [],
   "source": [
    "fig, ax = plt.subplots(figsize=(14,10))\n",
    "\n",
    "sns.heatmap(df.corr().abs(), annot=True)"
   ]
  },
  {
   "cell_type": "code",
   "execution_count": null,
   "metadata": {},
   "outputs": [],
   "source": [
    "formula = \"price ~ sqft_living\"\n",
    "all_mod = ols(formula=formula, data=df).fit()\n",
    "all_mod_summ = all_mod.summary()\n",
    "all_mod_summ"
   ]
  },
  {
   "cell_type": "code",
   "execution_count": null,
   "metadata": {},
   "outputs": [],
   "source": [
    "formula = \"price ~ sqft_living + grade + sqft_patio\"\n",
    "all_mod = ols(formula=formula, data=df).fit()\n",
    "all_mod_summ = all_mod.summary()\n",
    "all_mod_summ"
   ]
  },
  {
   "cell_type": "code",
   "execution_count": null,
   "metadata": {},
   "outputs": [],
   "source": [
    "dflog = df.copy()"
   ]
  },
  {
   "cell_type": "code",
   "execution_count": null,
   "metadata": {},
   "outputs": [],
   "source": [
    "# dflog['bathbed'] = dflog['bathrooms'] / dflog['bedrooms']\n",
    "# median_bathbed = dflog['bathbed'].median()\n",
    "# dflog.replace([np.inf, -np.inf], median_bathbed, inplace=True)\n",
    "# dflog.fillna(median_bathbed, inplace=True)\n",
    "# dflog['bathbed'].value_counts()"
   ]
  },
  {
   "cell_type": "code",
   "execution_count": null,
   "metadata": {},
   "outputs": [],
   "source": [
    "#list for cols to scale\n",
    "cols_to_scale = ['sqft_living', 'sqft_basement', 'sqft_garage', 'sqft_patio', 'bedrooms', 'bathrooms']\n",
    "\n",
    "#create and fit scaler\n",
    "scaler = StandardScaler()\n",
    "scaler.fit(dflog[cols_to_scale])\n",
    "\n",
    "#scale selected data\n",
    "dflog[cols_to_scale] = scaler.transform(dflog[cols_to_scale])\n",
    "dflog\n"
   ]
  },
  {
   "cell_type": "code",
   "execution_count": null,
   "metadata": {},
   "outputs": [],
   "source": [
    "dflog['b2bscaled'] = dflog['bathrooms'] * dflog['bedrooms']\n",
    "dflog"
   ]
  },
  {
   "cell_type": "markdown",
   "metadata": {},
   "source": [
    "## Good"
   ]
  },
  {
   "cell_type": "code",
   "execution_count": null,
   "metadata": {},
   "outputs": [],
   "source": [
    "target = dflog['price']\n",
    "predictors = dflog.drop(['price', 'bath_to_bed'], axis=1)\n",
    "predictors = sm.add_constant(predictors)\n",
    "model = sm.OLS(target, predictors).fit()\n",
    "model.summary()"
   ]
  },
  {
   "cell_type": "code",
   "execution_count": null,
   "metadata": {},
   "outputs": [],
   "source": [
    "lr = LinearRegression()\n",
    "lr.fit(predictors, target)\n",
    "lr.score(predictors, target)"
   ]
  },
  {
   "cell_type": "code",
   "execution_count": null,
   "metadata": {},
   "outputs": [],
   "source": [
    "y_hat = lr.predict(predictors)\n",
    "y_hat"
   ]
  },
  {
   "cell_type": "code",
   "execution_count": null,
   "metadata": {},
   "outputs": [],
   "source": [
    "y_hat = lr.predict(predictors)\n",
    "resid = (target - y_hat)"
   ]
  },
  {
   "cell_type": "code",
   "execution_count": null,
   "metadata": {},
   "outputs": [],
   "source": [
    "fig, ax = plt.subplots()\n",
    "ax.scatter(x=range(y_hat.shape[0]),y=resid, alpha=0.1);"
   ]
  },
  {
   "cell_type": "code",
   "execution_count": null,
   "metadata": {},
   "outputs": [],
   "source": [
    "fig, ax = plt.subplots()\n",
    "\n",
    "ax.scatter(y_hat, target)"
   ]
  },
  {
   "cell_type": "code",
   "execution_count": null,
   "metadata": {},
   "outputs": [],
   "source": [
    "millions = ticker.FuncFormatter(lambda x, pos: '${0:g}'.format(x/1000000))"
   ]
  },
  {
   "cell_type": "code",
   "execution_count": null,
   "metadata": {},
   "outputs": [],
   "source": [
    "fig, ax = plt.subplots(figsize = (10,16))\n",
    "sns.scatterplot(x = y_hat, y = target, ax=ax)\n",
    "ax.yaxis.set_major_formatter(millions)\n",
    "ax.xaxis.set_major_formatter(millions)"
   ]
  },
  {
   "cell_type": "code",
   "execution_count": null,
   "metadata": {},
   "outputs": [],
   "source": [
    "fig, ax = plt.subplots(figsize = (12,12))\n",
    "sns.regplot(x = y_hat, y = target, line_kws={\"color\": \"orange\"})\n",
    "ax.set(ylabel=None)\n",
    "millions = ticker.FuncFormatter(lambda x, pos: '${0:g}'.format(x/1000000))\n",
    "ax.yaxis.set_major_formatter(millions)\n",
    "ax.xaxis.set_major_formatter(millions)\n",
    "plt.xticks(fontsize = 16)\n",
    "plt.yticks(fontsize = 16)\n",
    "sns.set_style(style='white')"
   ]
  },
  {
   "cell_type": "code",
   "execution_count": null,
   "metadata": {},
   "outputs": [],
   "source": [
    "predictors.columns"
   ]
  },
  {
   "cell_type": "markdown",
   "metadata": {},
   "source": [
    "## Presentation Calcs\n",
    "sqft_living 1.497e+05, std = 713.6434149039003\n",
    "\n",
    "condition 3.083e+04, std = 0.7895859397473242\n",
    "\n",
    "grade 2.31e+05, std = 0.8685869710286127\n",
    "\n",
    "sqft_basement 2.072e+04, std = 553.9285173565767\n",
    "\n",
    "sqft_patio 1.38e+04, std= 193.89617631732378\n",
    "\n",
    "bath_to_bed 2.607e+05, std = 0.21532773323288892"
   ]
  },
  {
   "cell_type": "code",
   "execution_count": null,
   "metadata": {},
   "outputs": [],
   "source": [
    "print(df['sqft_living'].std())\n",
    "print(df['condition'].std())\n",
    "print(df['grade'].std())\n",
    "print(df['sqft_basement'].std())\n",
    "print(df['sqft_patio'].std())\n",
    "print(df['bath_to_bed'].std())"
   ]
  },
  {
   "cell_type": "markdown",
   "metadata": {},
   "source": [
    "Add 400 sqft room = increase value by $85,000\n",
    "\n",
    "Raise condition by 1 = $31,000\n",
    "\n",
    "Raise grade by 1 = increase value by $231,000\n",
    "\n",
    "Basement extensions = 37$ per sqft\n",
    "\n",
    "Add medium patio of 168 sqft = $12,000\n",
    "\n",
    "Add bathroom to a 3bed = $48,000"
   ]
  },
  {
   "cell_type": "markdown",
   "metadata": {},
   "source": [
    "https://www.landscapingnetwork.com/patios/size.html"
   ]
  },
  {
   "cell_type": "code",
   "execution_count": null,
   "metadata": {},
   "outputs": [],
   "source": [
    "fig, ax = plt.subplots()\n",
    "\n",
    "ax.scatter(df['bath_to_bed'], df['price'])"
   ]
  },
  {
   "cell_type": "code",
   "execution_count": null,
   "metadata": {},
   "outputs": [],
   "source": [
    "df['bedrooms'].mean()"
   ]
  },
  {
   "cell_type": "markdown",
   "metadata": {},
   "source": [
    "### Formula for Adding a Bathroom"
   ]
  },
  {
   "cell_type": "code",
   "execution_count": null,
   "metadata": {},
   "outputs": [],
   "source": [
    "a = 54480 # the coefficient of bathrooms_scaled\n",
    "b = -75840 # the coefficient of bedrooms_scaled\n",
    "c = 23060 # the coefficient of bathrooms_scaled*bedrooms_scaled\n",
    "# d = number of bedrooms\n",
    "# e = mean number of bedrooms in the dataset"
   ]
  },
  {
   "cell_type": "code",
   "execution_count": null,
   "metadata": {},
   "outputs": [],
   "source": [
    "d = 3\n",
    "e = 3.25\n",
    "a + c * (d - e)"
   ]
  },
  {
   "cell_type": "code",
   "execution_count": null,
   "metadata": {},
   "outputs": [],
   "source": [
    "low_grade = df[df['grade']<7]\n",
    "average_grade = df[(df['grade'] == 7)]\n",
    "high_grade = df[df['grade']>7]\n",
    "low_median = low_grade['price'].median()\n",
    "average_median = average_grade['price'].median()\n",
    "high_median = high_grade['price'].median()"
   ]
  },
  {
   "cell_type": "code",
   "execution_count": null,
   "metadata": {},
   "outputs": [],
   "source": [
    "grade_values = [low_median, average_median, high_median]\n",
    "grade_keys = ['Low Grade', 'Average Grade', 'Above Average Grade']\n",
    "sns.set(rc = {'figure.figsize':(9,9)})\n",
    "sns.set_style(style='white')\n",
    "sns.barplot(x=grade_keys, y=grade_values).set(title='Median Price Based on Grade', xlabel='Grade', ylabel='Median Price(millions)');\n",
    "plt.ticklabel_format(style='sci', axis='y',useOffset=True)\n",
    "plt.xticks(fontsize = 16)\n",
    "plt.yticks(fontsize = 16)"
   ]
  },
  {
   "cell_type": "code",
   "execution_count": null,
   "metadata": {},
   "outputs": [],
   "source": []
  }
 ],
 "metadata": {
  "kernelspec": {
   "display_name": "Python (learn-env)",
   "language": "python",
   "name": "learn-env"
  },
  "language_info": {
   "codemirror_mode": {
    "name": "ipython",
    "version": 3
   },
   "file_extension": ".py",
   "mimetype": "text/x-python",
   "name": "python",
   "nbconvert_exporter": "python",
   "pygments_lexer": "ipython3",
   "version": "3.8.5"
  }
 },
 "nbformat": 4,
 "nbformat_minor": 4
}
